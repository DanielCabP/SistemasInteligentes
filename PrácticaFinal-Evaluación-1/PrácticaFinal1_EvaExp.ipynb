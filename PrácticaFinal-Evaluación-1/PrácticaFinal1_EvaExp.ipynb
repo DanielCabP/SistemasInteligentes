{
 "cells":[
  {
   "cell_type":"markdown",
   "source":[
    "<br><br><br>\n",
    "<h1><font color=\"#B30033\" size=5>Intelligent Systems - Course 2022-2023<\/font><\/h1>\n",
    "\n",
    "\n",
    "\n",
    "<h1><font color=\"#B30033\" size=5>Lab 1: State Space Search<\/font><\/h1>\n",
    "\n",
    "\n",
    "<br>\n",
    "<div style=\"text-align: left\">\n",
    "<font color=\"#4E70BE\" size=3>Lecturers:<\/font><br>\n",
    "<ul>\n",
    "  <li><font color=\"#4E70BE\" size=3>Juan Carlos Alfaro Jiménez (JuanCarlos.Alfaro@uclm.es)<\/font><br><\/li>\n",
    "  <li><font color=\"#4E70BE\" size=3>Guillermo Tomás Fernández Martín (Guillermo.Fernandez@uclm.es)<\/font><br><\/li>\n",
    "  <li><font color=\"#4E70BE\" size=3>Mª Julia Flores Gallego (Julia.Flores@uclm.es)<\/font><br><\/li>\n",
    "  <li><font color=\"#4E70BE\" size=3> José Antonio Gámez Martín (Jose.Gamez@uclm.es)<\/font><br><\/li>\n",
    "  <li><font color=\"#4E70BE\" size=3> Ismael García Varea (Ismael.Garcia@uclm.es)<\/font><br><\/li>\n",
    "  <li><font color=\"#4E70BE\" size=3> Luis González Naharro (Luis.GNaharro@uclm.es)<\/font><br><\/li>\n",
    "<\/ul>\n",
    "<\/div>"
   ],
   "attachments":{
    
   },
   "metadata":{
    "datalore":{
     "node_id":"PBlteYkCvShdtXwoWbtwkl",
     "type":"MD",
     "hide_input_from_viewers":false,
     "hide_output_from_viewers":false
    }
   }
  },
  {
   "cell_type":"markdown",
   "source":[
    "<br>\n",
    "<div style=\"text-align: left\">\n",
    "<font color=\"#4E70BE\" size=3>Integrantes Grupo 7:<\/font><br>\n",
    "<ul>\n",
    "  <li><font color=\"#4E70BE\" size=3>Daniel Cabañero Pardo<\/font><br><\/li>\n",
    "  <li><font color=\"#4E70BE\" size=3>Pedro Jesús Martínez Herrero<\/font><br><\/li>\n",
    "\n",
    "<\/ul>"
   ],
   "attachments":{
    
   },
   "metadata":{
    "datalore":{
     "node_id":"gkGlhH5VeYFLPxCs0PZxMt",
     "type":"MD",
     "hide_input_from_viewers":false,
     "hide_output_from_viewers":false
    }
   }
  },
  {
   "cell_type":"markdown",
   "source":[
    "--------------------\n",
    "## 1. Introduction\n",
    "\n",
    "In this assignment, we will put into practice the techniques for searching the state of spaces. To do that, some of the algorithms seen in units two and three will be implemented and used to solve a classical problem: searching paths on maps where the locations will be cities identified by their latitude and longitude values, as in most [geographical systems](https:\/\/en.wikipedia.org\/wiki\/Geographic_coordinate_system).\n",
    "\n",
    "We will also analyze and compare the performance of the algorithms by running them over different instances of the problem, and providing distinct initial and goal states."
   ],
   "attachments":{
    
   },
   "metadata":{
    "datalore":{
     "node_id":"BJiz7lonyeROocVlcYrKWu",
     "type":"MD",
     "hide_input_from_viewers":false,
     "hide_output_from_viewers":false
    }
   }
  },
  {
   "cell_type":"markdown",
   "source":[
    "## 2. Problem Description\n",
    "\n",
    "The concept of map we will use is simple: it can be represented by a graph with cities and undirected connections (that is, they work exactly the same in both ways), which indicate that there is a specific road between them two, which can be used for moving from one to the other in one action. Also, these edges will have associated a number of units, which tipycally represents the real\/driving distance between the two cities.\n",
    "\n",
    "We opted to use realistic maps so that the cities are real, and the driving distances are also extracted from a navigation API. But the connections are established so that only some of them are taken.\n",
    "\n",
    "A map is a particular problem, but then we need to answer queries where there will be an initial state and a final state. In the most simple way, both will be the location\/city. So to reach city B from A, we would aim at finding the finding the shortest path (smallest cost)."
   ],
   "attachments":{
    
   },
   "metadata":{
    "datalore":{
     "node_id":"kf129lUYKXkYfl7kIPcDlq",
     "type":"MD",
     "hide_input_from_viewers":false,
     "hide_output_from_viewers":false
    }
   }
  },
  {
   "cell_type":"markdown",
   "source":[
    "## 3. Assignment Development\n",
    "\n",
    "During the development of the assignment, you will be given a set of maps, in which you should perform a list of searches. The dimensionality, both in the number of cities and in their connectivity, will be variable, and your algorithms should be efficient enough to work properly in all of them. Some other scenarios (maps and searches) will be kept for the evaluation\/correction\/interview, so make your code general enough to load them easily."
   ],
   "attachments":{
    
   },
   "metadata":{
    "datalore":{
     "node_id":"6gYL6VoT3okFgLpKvyyAq7",
     "type":"MD",
     "hide_input_from_viewers":false,
     "hide_output_from_viewers":false
    }
   }
  },
  {
   "cell_type":"markdown",
   "source":[
    "### 3.1 Input Problems\n",
    "\n",
    "Every scenario will have associated a JSON file with the following structure: \n",
    "\n",
    "```JSON\n",
    "{\n",
    "    \"map\": {\n",
    "        \"cities\": [\n",
    "            {\n",
    "                \"id\": id_city_0,\n",
    "                \"name\": name_city_0,\n",
    "                \"lat\": latitude_city_0,\n",
    "                \"lon\": longitude_city_0\n",
    "            }\n",
    "        ],\n",
    "        \"roads\": [\n",
    "            {\n",
    "                \"origin\": origin_city_id,\n",
    "                \"destination\": destination_city_id,\n",
    "                \"distance\": road_distance\n",
    "            }\n",
    "        ]\n",
    "    },\n",
    "    \"departure\": departure_city_id,\n",
    "    \"goal\": goal_city_id\n",
    "}\n",
    "```\n",
    "\n",
    "There are three general keys in the JSON: \n",
    "\n",
    "- `map`: A dictionary that represents the map of the problem.\n",
    "- `departure`: The trip departure city id, this is, the initial state.\n",
    "- `goal`: The trip goal city id, this is, the end state.\n",
    "\n",
    "In the map dictionary, there are two keys: \n",
    "- `cities`: An array with the cities, this is, the nodes of the map.\n",
    "- `roads`: An array with the roads, this is, the connections between nodes.\n",
    "\n",
    "Finally, a city is represented as: \n",
    "- `id`: The id of the city, used for most operations.\n",
    "- `name`: The name of the city, used for representing the solution in a human readable way.\n",
    "- `lat`: The latitude of the city, used for plotting representations.\n",
    "- `lon`: The longitude of the city, used for plotting representations.\n",
    "\n",
    "And a road is represented as: \n",
    "- `origin`: The origin city id.\n",
    "-  `destination`: The destination city id.\n",
    "-  `distance`: The distance in kilometers using that road.\n",
    "\n",
    "The roads will be directed but the JSON will have symmetric roads, meaning that there will be a road from A to B and a second road from B to A."
   ],
   "attachments":{
    
   },
   "metadata":{
    "datalore":{
     "node_id":"Rqvb46kFi9SG4pHnw0wuDN",
     "type":"MD",
     "hide_input_from_viewers":false,
     "hide_output_from_viewers":false
    }
   }
  },
  {
   "cell_type":"markdown",
   "source":[
    "## 4. Work plan"
   ],
   "attachments":{
    
   },
   "metadata":{
    "datalore":{
     "node_id":"XqiqZwKKFJXYVAdvmfoLoK",
     "type":"MD",
     "hide_input_from_viewers":false,
     "hide_output_from_viewers":false
    }
   }
  },
  {
   "cell_type":"markdown",
   "source":[
    "### 4.1 Problem Formalization and Examples\n",
    "\n",
    "First of all, path finding in maps must be formalized as a problem of search in the space of states, by defining its basic elements. All implementations must refer to search in graphs, so it is important to take into consideration that repeated states must be controlled. \n"
   ],
   "attachments":{
    
   },
   "metadata":{
    "datalore":{
     "node_id":"1ZIcSVP1ezhQkctCJW5drs",
     "type":"MD",
     "hide_input_from_viewers":false,
     "hide_output_from_viewers":false
    }
   }
  },
  {
   "cell_type":"markdown",
   "source":[
    "### 4.2 Implementation\n",
    "\n",
    "Below, you will have the class structure regarding the problem at hand. You will have to complete the following classes by implementing the algorithms studied in theory. Add all your imports in this cell to have the notebook properly organized."
   ],
   "attachments":{
    
   },
   "metadata":{
    "datalore":{
     "node_id":"UH2AvD5W1VRXdYUcOr5yNy",
     "type":"MD",
     "hide_input_from_viewers":false,
     "hide_output_from_viewers":false
    }
   }
  },
  {
   "cell_type":"code",
   "source":[
    "# =============================================================================\n",
    "# Imports\n",
    "# =============================================================================\n",
    "\n",
    "# Standard\n",
    "import json\n",
    "import random\n",
    "import copy\n",
    "import itertools\n",
    "import time\n",
    "import geopy.distance\n",
    "from abc import ABC, abstractmethod\n",
    "\n",
    "# Third party\n",
    "import geopandas as gpd\n",
    "from shapely.geometry import Point\n",
    "from queue import PriorityQueue\n",
    "from numpy import sin, cos, arccos, pi, round"
   ],
   "execution_count":1,
   "outputs":[
    
   ],
   "metadata":{
    "datalore":{
     "node_id":"LHDrmfV2AEokwSeeKlokJo",
     "type":"CODE",
     "hide_input_from_viewers":false,
     "hide_output_from_viewers":false
    }
   }
  },
  {
   "cell_type":"markdown",
   "source":[
    "#### Class `Action`\n",
    "This class provides the **representation of the actions** that will be performed by the traveler. An action is defined by the `origin` and `destination` of the trip, as well as the cost of the action.\n",
    "\n",
    "Methods you must add: \n",
    "\n",
    "- `__init__(self, args)`: Constructor of the class, with the necessary arguments\n",
    "\n",
    "Methods recommended: \n",
    "\n",
    "- `__repr__(self)`: String representation of the objects. Useful to debug list of `Action`\n",
    "- `__str__(self)`: Method used when `print(Action)` is called. Useful to debug single `Action`"
   ],
   "attachments":{
    
   },
   "metadata":{
    "datalore":{
     "node_id":"J5h8uPB1tfUnAiOhPBSn18",
     "type":"MD",
     "hide_input_from_viewers":false,
     "hide_output_from_viewers":false
    }
   }
  },
  {
   "cell_type":"code",
   "source":[
    "class Action:\n",
    "\n",
    "    def __init__(self, origin, dest, actioncost):\n",
    "        self.origin = origin\n",
    "        self.dest = dest\n",
    "        self.actioncost = actioncost\n",
    "\n",
    "    def __repr__(self):\n",
    "        return str(self.origin) + \" ---> \" + str(self.dest) + \"   con distancia: \" + str(self.actioncost) + \" km\"\n",
    "    \n",
    "    def __str__(self):\n",
    "        return str(self.origin) + \" ---> \" + str(self.dest) + \"   con distancia: \" + str(self.actioncost) + \" km\""
   ],
   "execution_count":2,
   "outputs":[
    
   ],
   "metadata":{
    "datalore":{
     "node_id":"ZwpERKf5dPhnwrKJwQmaEX",
     "type":"CODE",
     "hide_input_from_viewers":false,
     "hide_output_from_viewers":false
    }
   }
  },
  {
   "cell_type":"markdown",
   "source":[
    "#### Class `State`\n",
    "\n",
    "This class provides the **representation of a state** in the search space. In this problem, a state is defined by the city in which the traveler is in a particular moment. Note that the map itself does not need to be part of the state given that it does not change during the search.\n",
    "\n",
    "Methods you must add: \n",
    "\n",
    "- `__init__(self, args)`: Constructor of the class, with the necessary arguments\n",
    "- `__eq__(self, other)`: Equals method. Used for hash table comparison\n",
    "- `__hash__(self)`: Hashing method. Used to generate unique hashes of the objects. Used for hash table.\n",
    "- `apply_action(self, args)`: given a valid `Action`, returns the new `State` generated from applying the `Action` to the current `State`. \n",
    "\n",
    "Methods recommended: \n",
    "\n",
    "- `__repr__(self)`: String representation of the objects. Useful to debug list of `State`\n",
    "- `__str__(self)`: Method used when `print(State)` is called. Useful to debug single `State`"
   ],
   "attachments":{
    
   },
   "metadata":{
    "datalore":{
     "node_id":"62XJpohcN4qthWMCpDI7bU",
     "type":"MD",
     "hide_input_from_viewers":false,
     "hide_output_from_viewers":false
    }
   }
  },
  {
   "cell_type":"code",
   "source":[
    "class State:\n",
    "    def __init__(self, idcity):\n",
    "        self.id = idcity\n",
    "\n",
    "    def __eq__(self, othercity):\n",
    "        if not isinstance(othercity, State):\n",
    "            return NotImplemented\n",
    "        return self.id == othercity.id\n",
    "    \n",
    "    def __hash__(self):\n",
    "        return hash(self.id)\n",
    "        \n",
    "    #Si el estado actual coincide con el origen de la acción, se aplicará la acción\n",
    "    def apply_action(self, nextaction):\n",
    "        if nextaction.origin == self.id:\n",
    "            self.id = nextaction.dest\n",
    "            return State(self.id)\n",
    "        else:\n",
    "            print('Ciudad actual no coincide con accion')\n",
    "    \n",
    "    def __repr__(self):\n",
    "        return f\"{self.id}\"\n",
    "    \n",
    "    def __str__(self):\n",
    "        return f\"{self.id}\""
   ],
   "execution_count":3,
   "outputs":[
    
   ],
   "metadata":{
    "datalore":{
     "node_id":"FwwRstYIzlpP3l7jyGl4Y2",
     "type":"CODE",
     "hide_input_from_viewers":false,
     "hide_output_from_viewers":false
    }
   }
  },
  {
   "cell_type":"markdown",
   "source":[
    "#### Class `Node`. \n",
    "This class provides a **representation of a node** in the search graph. A `Node` is defined by the `State` it represents, its parent `Node` and the `Action` taken to reach the current `Node` from the parent `Node`. \n",
    "\n",
    "**It can also have any other attributes necessary for the search algorithms**.\n",
    "\n",
    "Methods you must add: \n",
    "\n",
    "- `__init__(self, args)`: Constructor of the class, with the necessary arguments\n",
    "- `__eq__(self, other)`: Equals method. Used for hash table comparison\n",
    "\n",
    "Methods recommended: \n",
    "\n",
    "- `__repr__(self)`: String representation of the objects. Useful to debug list of `Node`\n",
    "- `__str__(self)`: Method used when `print(Node)` is called. Useful to debug single `Node`"
   ],
   "attachments":{
    
   },
   "metadata":{
    "datalore":{
     "node_id":"ACSMHc4ZadYeB4Uddw4jIJ",
     "type":"MD",
     "hide_input_from_viewers":false,
     "hide_output_from_viewers":false
    }
   }
  },
  {
   "cell_type":"code",
   "source":[
    "class Node:\n",
    "    \n",
    "    def __init__(self, state, parent, action):\n",
    "        self.state = state \n",
    "        self.parent = parent \n",
    "        self.action = action \n",
    "        #Al definir aquí gCost, hCost y fCost, nos será más facil y evidente la implementación del código, ya que cada nodo tendrá\n",
    "        # sus costes asociados\n",
    "        self.gCost = 0.0\n",
    "        self.hCost = 0.0\n",
    "        self.fCost = 0.0\n",
    "\n",
    "    #Si el nodo pasado por parámetro es instancia de la clase Node, devolvemos True si está en el mismo estado y tiene el mismo\n",
    "    #padre, ya que pueden estar en el mismo estado, pero llegar a través de distintos padres (caminos)\n",
    "    def __eq__(self, othernode):\n",
    "        if not isinstance(othernode, Node):\n",
    "            return NotImplemented\n",
    "        return self.state == othernode.state and self.parent == othernode.parent\n",
    "    \n",
    "    def __str__(self):\n",
    "        return f\"(Nodo ||Estado: {self.state}, Padre: {self.parent}, Action: {self.action})\""
   ],
   "execution_count":4,
   "outputs":[
    
   ],
   "metadata":{
    "datalore":{
     "node_id":"P8wym5fAfgxI3AnMS44gk6",
     "type":"CODE",
     "hide_input_from_viewers":false,
     "hide_output_from_viewers":false
    }
   }
  },
  {
   "cell_type":"markdown",
   "source":[
    "#### Class `Problem`\n",
    "This class provides the **representation of the search problem**. This class reads from a file an instance of the problem to be solved. It is defined by the `map`, the `initial_state` and the `final_city` as well as several auxiliary structures to plot the problem. This class must also generate all the `Actions` that can be taken in the problem. It is recommended to store them in a dictionary of the form `{'origin_city_id': [action_1, action_2, action_3, ...]}`. \n",
    "\n",
    "Methods you must add: \n",
    "\n",
    "- `__init__(self, args)`: Constructor of the class, with the necessary arguments\n",
    "- Method to generate the `Action` dictionary from the map\n",
    "- Method to check if a `State` is the goal state\n",
    "\n",
    "Methods recommended: \n",
    "\n",
    "- Method to get the `Actions` associated to a particular `Node`\n",
    "\n",
    "The class `Problem` also has an auxiliary method to plot the whole map and to plot the map with a solution of the problem formed by a list of actions. This can be called as `problem.plot_map()` for the whole map and all its connections, or as `problem.plot_map([action_1, action_2, ...])` to plot just the solution."
   ],
   "attachments":{
    
   },
   "metadata":{
    "datalore":{
     "node_id":"HHXNQcGce3HFeQ2l1KHHUn",
     "type":"MD",
     "hide_input_from_viewers":false,
     "hide_output_from_viewers":false
    }
   }
  },
  {
   "cell_type":"code",
   "source":[
    "class Problem:\n",
    "\n",
    "    def __init__(self, filename, random_state):\n",
    "        # Method to read the problem JSON file\n",
    "        with open(filename, 'r', encoding='utf8') as file:\n",
    "            problem = json.load(file)\n",
    "        \n",
    "        # Auxiliary structures for the plot_map function\n",
    "        self.cities = {city['id']: city for city in problem['map']['cities']}\n",
    "        self.gdf = gpd.GeoDataFrame(problem['map']['cities'])\n",
    "        self.gdf['Coordinates'] = list(zip(self.gdf.lon, self.gdf.lat))\n",
    "        self.gdf['Coordinates'] = self.gdf['Coordinates'].apply(Point)\n",
    "        self.gdf.set_geometry('Coordinates', inplace=True)\n",
    "        # TODO: Add your code here to complete the constructor\n",
    "        random.seed(random_state)\n",
    "        self.random_state = random_state\n",
    "        self.initial_state = State(random.randint(0,len(problem['map']['cities'])-1))\n",
    "        self.final_city = State(random.randint(0,len(problem['map']['cities'])-1))\n",
    "        self.actions = {'Acciones' : problem['map']['roads']}\n",
    "        self.roads = problem['map']['roads']\n",
    "        self.dicc = self.getActions()\n",
    "        \n",
    "\n",
    "    # TODO: Add your code here to implement the class methods\n",
    "    #Cargar estados, acciones y métodos\n",
    "    def getActions(self):\n",
    "\n",
    "        #Recorriendo el diccionario auxiliar self.cities y el diccionario self.actions podemos asociar las id's de las ciudades\n",
    "        #a los orígenes de las acciones para tenerlas clasificadas por idCity, de la forma que se muestra en el enunciado\n",
    "        dicc={}\n",
    "        for i in self.cities:\n",
    "            acc=[]\n",
    "            for j in range(len(self.roads)):\n",
    "                if self.cities[i]['id'] == self.actions['Acciones'][j]['origin']:\n",
    "                    acc.append(self.actions['Acciones'][j])\n",
    "            dicc[i] = acc       \n",
    "        return dicc\n",
    "    \n",
    "    def getActionsNode(self, node):\n",
    "        return self.dicc[node.state.id]\n",
    "    \n",
    "    def isGoal(self, state):\n",
    "        return state.id == self.final_city.id\n",
    "    \n",
    "    #Esta función resulta de utilidad para obtener el nodo Inicial en la clase Search, antes de empezar el algoritmo\n",
    "    def getInitialState(self):\n",
    "        return self.initial_state\n",
    "    \n",
    "    def plot_map(self, action_list, world_name='Spain'):\n",
    "        world = gpd.read_file(gpd.datasets.get_path('naturalearth_lowres'))\n",
    "        city_ids = {self.cities[city]['name']: city for city in self.cities}\n",
    "        # We restrict to Spain.\n",
    "        ax = world[world.name == world_name].plot(\n",
    "            color='white', edgecolor='black',linewidth=3,figsize=(100,70))\n",
    "\n",
    "        self.gdf.plot(ax=ax, color='red',markersize=500)\n",
    "        for x, y, label in zip(self.gdf.Coordinates.x, self.gdf.Coordinates.y, self.gdf.name):\n",
    "            ax.annotate(f'{city_ids[label]} -- {label}', xy=(x, y), xytext=(8, 3), textcoords=\"offset points\",fontsize=60)\n",
    "        roads = itertools.chain.from_iterable(self.actions.values())\n",
    "\n",
    "        for road in roads:\n",
    "            #Hemos tenido que cambiar la forma de llamar a las carreteras, ya que con el diccionario que estabamos usando no \n",
    "            #reconocía road.origin\n",
    "            slat = self.cities[road['origin']]['lat']\n",
    "            slon = self.cities[road['origin']]['lon']\n",
    "            dlat = self.cities[road['destination']]['lat']\n",
    "            dlon = self.cities[road['destination']]['lon']\n",
    "\n",
    "            for i in range(len(action_list)):\n",
    "                if action_list[i].origin == road['origin'] and action_list[i].dest == road['destination']:\n",
    "                    color = 'red'\n",
    "                    linewidth = 15\n",
    "                else:\n",
    "                    color = 'lime'\n",
    "                    linewidth = 5\n",
    "                ax.plot([slon , dlon], [slat, dlat], linewidth=linewidth, color=color, alpha=0.5)"
   ],
   "execution_count":5,
   "outputs":[
    
   ],
   "metadata":{
    "datalore":{
     "node_id":"j2HySDTv5sQpn1gSgXEn2T",
     "type":"CODE",
     "hide_input_from_viewers":false,
     "hide_output_from_viewers":false
    }
   }
  },
  {
   "cell_type":"markdown",
   "source":[
    "#### Class `Search`\n",
    "\n",
    "The `Search` class is in abstract class that contains some attributes:\n",
    "- The `Problem` to solve.\n",
    "- The list of `open` nodes, i.e. nodes in the frontier, which data structure varies from the different algorithms.\n",
    "- The list of `closed` nodes to implement the graph search, which must be implemented using a `set` data structure.\n",
    "- The statistics from the algorithm, this is:\n",
    "    - The execution time (in ms) to obtain the solution.\n",
    "    - The cost of the solution.\n",
    "    - The number of generated nodes.\n",
    "    - The number of expanded nodes.\n",
    "    - The maximum number of nodes simultaneously stored in memory.\n",
    "    - The solution obtained (sequence of actions).\n",
    "\n",
    "This class also provides some abstract methods:\n",
    "- `insert_node(self, node, node_list)`: Method to insert a node in the proper place in the list. May vary from one algorithm to another.\n",
    "- `extract_node(self, node_list)`: Method to extract a node from the open node list. Can vary from one data structure to another.\n",
    "- `is_empty(self, node_list)`: Method to check if the open node list is empty. Can vary from one data structure to another.\n",
    "\n",
    "Methods you must add: \n",
    "- `__init__(self, args)`: Constructor of the class, with the necessary arguments\n",
    "- `get_successors(self, node)`: this method implements the successors function and should return a list with all the valid `Node` successors of a given `Node`. You must implement this method.\n",
    "- `do_search(self)`: this method implements the graph search you have studied in class. It also provides some statistics of the search process.\n",
    "- A method that returns a human readable list of cities from a list of actions. It should be used to return a readable solution instead of the raw list of actions. \n",
    "\n",
    "Note that these methods have to be compatible with both informed and uninformed search. This is why you have `insert_node`, `extract_node` and `is_empty`: as you will need to use different data structures for informed and uninformed algorithms, just by implementing those methods you can make the general `Search` class agnostic to the data structure underlying. "
   ],
   "attachments":{
    
   },
   "metadata":{
    "datalore":{
     "node_id":"3vVpQaw1MZ6RIfHnPFW6KR",
     "type":"MD",
     "hide_input_from_viewers":false,
     "hide_output_from_viewers":false
    }
   }
  },
  {
   "cell_type":"code",
   "source":[
    "class Search(ABC):\n",
    "    @abstractmethod\n",
    "    def insert_node(self, node, node_list):\n",
    "        pass\n",
    "    \n",
    "    @abstractmethod\n",
    "    def extract_node(self, node_list):\n",
    "        pass\n",
    "\n",
    "    @abstractmethod\n",
    "    def is_empty(self, node_list):\n",
    "        pass\n",
    "    \n",
    "    def __init__(self, prob, heuristica):\n",
    "        self.problem = prob\n",
    "        self.open = []\n",
    "        self.closed = set()\n",
    "\n",
    "        self.cost = 0\n",
    "        self.expandedNodes = 0\n",
    "        self.generatedNodes = 0\n",
    "        self.nodesInMemory = 0\n",
    "        self.solution = []\n",
    "        self.diccAct = {}\n",
    "        self.calc_heurist = False\n",
    "\n",
    "        #Aplicamos una heurística u otra en función del String que nos viene por parámetro\n",
    "        if heuristica == 'euclidea':\n",
    "            self.heuristica = EuclideanHeuristic(self.problem)\n",
    "            self.calc_heurist = True\n",
    "        elif heuristica == 'optimista':\n",
    "            self.heuristica = OptimisticHeuristic(self.problem)\n",
    "            self.calc_heurist = True\n",
    "        elif heuristica == '':\n",
    "            self.heuristica = None\n",
    "        else:\n",
    "            print('Heuristica no Implementada')\n",
    "        \n",
    "            \n",
    "\n",
    "    #Esta función nos devuelve los sucesores de un Nodo dado, para ello necesitamos las acciones que se pueden tomar desde\n",
    "    #ese nodo, poner ese nodo como nodo padre y aplicar cada una de las acciones.\n",
    "    def get_successors(self, node):\n",
    "        succ = []\n",
    "        nodeFa = []\n",
    "        actions = self.problem.getActionsNode(node)\n",
    "\n",
    "        for i in range(len(actions)):\n",
    "            nextAction = Action(actions[i]['origin'],actions[i]['destination'],actions[i]['distance'])\n",
    "            #Se emplea copy.deepcopy porque de no ser así el nodo almacenado en nodeFa cambiará al aplicar las acciones abajo\n",
    "            #Lo mismo pasa con nodeState, tenemos que usar copy.deepcopy para que mantenga el valor inicial y no cambie\n",
    "            nodeFa.append(copy.deepcopy(node))\n",
    "            nodeState = copy.deepcopy(node.state)\n",
    "            succ.append(Node(nodeState.apply_action(nextAction), nodeFa[i], nextAction))\n",
    "        return succ\n",
    "\n",
    "    \n",
    "    def doSearch(self):\n",
    "        #Sacamos el nodo inicial y lo insertamos en la lista de abiertos y sumamos 1 a los nodos generados\n",
    "        initNode = Node(self.problem.getInitialState(), None, None)\n",
    "        self.insert_node(initNode, self.open)\n",
    "        self.generatedNodes += 1\n",
    "        \n",
    "    \n",
    "        tiempoInicio = time.perf_counter()\n",
    "        \n",
    "        #Inicializamos una variable booleana que será la condición de nuestro bucle, cuando se alcance la meta se pondrá \n",
    "        #a True y saldremos del bucle\n",
    "        finish = False\n",
    "        while not finish:\n",
    "            #Si no tenemos nodo inicial la ejecución se detiene\n",
    "            if self.is_empty(self.open):\n",
    "                #print(\"Objetivo no alcanzable\")\n",
    "                return NotImplemented\n",
    "\n",
    "            #Dependiendo del tipo de lista que estemos empleando (array o Priority Queue), tenemos dos formas de tratar\n",
    "            #con ellas. Aquí sacamos en número de máximo de nodos almacenados en la lista de abiertos\n",
    "            if isinstance(self.open,list):\n",
    "                if len(self.open) >= self.nodesInMemory:\n",
    "                    self.nodesInMemory = len(self.open)\n",
    "            else:\n",
    "                if self.open.qsize() >= self.nodesInMemory:\n",
    "                    self.nodesInMemory = self.open.qsize()\n",
    "            \n",
    "            \n",
    "            #--------------CurrentNode---------------\n",
    "            #Sacamos el primer nodo de la lista de abiertos con el que trabajar en cada iteración\n",
    "            currentNode = self.extract_node(self.open)\n",
    "\n",
    "            #Si estamos en un modo solución, salimos del bucle poniendo finish = True\n",
    "            if finish != self.problem.isGoal(currentNode.state):\n",
    "                finish = True\n",
    "                break\n",
    "\n",
    "            #Si el nodo no ha sido expandido, lo expandimos (generando sus sucesores e introduciendolo en la lista de cerrados)\n",
    "            if currentNode.state not in self.closed:\n",
    "                    self.closed.add(currentNode.state)\n",
    "                    suc = self.get_successors(currentNode)\n",
    "                    self.expandedNodes += 1\n",
    "\n",
    "                    #Para cada uno de los sucesores calculamos sus costes (g, h, f) y los insertamos en la lista de abiertos\n",
    "                    for i in suc:\n",
    "                        i.gCost = i.parent.gCost + i.action.actioncost\n",
    "                        if self.calc_heurist:\n",
    "                            i.hCost = self.heuristica.get_hcost(i)\n",
    "                            i.fCost = i.gCost + i.hCost\n",
    "                        self.insert_node(i, self.open)\n",
    "                        self.generatedNodes += 1\n",
    "                    \n",
    "        #Fuera ya del bucle reconstruirmos la solución a partir del nodo final\n",
    "        while currentNode.parent is not None:\n",
    "            self.solution.append(currentNode.action)\n",
    "            self.cost += currentNode.action.actioncost\n",
    "            currentNode = currentNode.parent\n",
    "        self.solution.reverse()\n",
    "\n",
    "        #Calculamos el tiempo de ejecución\n",
    "        tiempoFinal = time.perf_counter()\n",
    "        tiempoTotal = round((tiempoFinal - tiempoInicio)*1000,4)\n",
    "        #return print(self.problem.random_state)\n",
    "        print(\"Con un coste de: \" + str(self.cost) + \" km\")\n",
    "        print(\"Profundidad solución: \" +str(len(self.solution)))\n",
    "        print(\"Nodos Generados: \", self.generatedNodes)\n",
    "        print(\"Nodos Expandidos: \", self.expandedNodes)\n",
    "        print(\"Tiempo de ejecución: \" + str(tiempoTotal) + \" milisegundos \\n\")   \n",
    "        \n",
    "        #Dibujamos el mapa\n",
    "        #self.problem.plot_map(self.solution)\n",
    "    \n",
    "                    "
   ],
   "execution_count":6,
   "outputs":[
    
   ],
   "metadata":{
    "datalore":{
     "node_id":"uB7GM0xj6RWrJqpxFC3Y4b",
     "type":"CODE",
     "hide_input_from_viewers":false,
     "hide_output_from_viewers":false
    }
   }
  },
  {
   "cell_type":"markdown",
   "source":[
    "#### Uninformed Search: `DepthFirst` and `BreadthFirst`\n",
    "\n",
    "These two classes also inherit from `Search` and will implement the depth first and breadth first. As explained before, if you have implemented `get_successors(self, node)` and `do_search(self)` properly, you just have to implement the `insert_node(self, node, node_list)`, `extract_node` and `is_empty` functions. "
   ],
   "attachments":{
    
   },
   "metadata":{
    "datalore":{
     "node_id":"HZZ4QWyDfkUBAWrAuAst0g",
     "type":"MD",
     "hide_input_from_viewers":false,
     "hide_output_from_viewers":false
    }
   }
  },
  {
   "cell_type":"code",
   "source":[
    "class DepthFirst(Search):\n",
    "    #Al ser profundidad, insertamos por la izquierda en la lista de abiertos\n",
    "    def insert_node(self, node, node_list):\n",
    "        node_list.insert(0, node)\n",
    "\n",
    "    def extract_node(self, node_list):\n",
    "        nodeextracted = node_list[0]\n",
    "        node_list.pop(0)\n",
    "        return nodeextracted\n",
    "\n",
    "    def is_empty(self, node_list):\n",
    "        return node_list == []"
   ],
   "execution_count":7,
   "outputs":[
    
   ],
   "metadata":{
    "datalore":{
     "node_id":"SvuYR3F6OUdf1OGIwRlbr2",
     "type":"CODE",
     "hide_input_from_viewers":false,
     "hide_output_from_viewers":false
    }
   }
  },
  {
   "cell_type":"code",
   "source":[
    "class BreadthFirst(Search):\n",
    "    #Al ser anchura, insertamos por la derecha en la lista de abiertos\n",
    "    def insert_node(self, node, node_list):\n",
    "        node_list.append(node)\n",
    "\n",
    "    def extract_node(self, node_list):\n",
    "        nodeextracted = node_list[0]\n",
    "        node_list.pop(0)\n",
    "        return nodeextracted\n",
    "\n",
    "    def is_empty(self, node_list):\n",
    "        return node_list == []"
   ],
   "execution_count":8,
   "outputs":[
    
   ],
   "metadata":{
    "datalore":{
     "node_id":"xf8gjy5JKmNdBZLiopYWl5",
     "type":"CODE",
     "hide_input_from_viewers":false,
     "hide_output_from_viewers":false
    }
   }
  },
  {
   "cell_type":"markdown",
   "source":[
    "#### Informed Search: `BestFirst` and `AStar`\n",
    "\n",
    "These two classes also inherit from `Search` and will implement the best first and $A^*$ search strategies, respectively. \n",
    "\n",
    "The main difference between these three algorithms is the way in which the cost function for a specific node ($f(n) = g(n) + h(n)$) is computed. Assuming that $g(n)$ is the real accumulated cost from the **initial state** to `n.state` and that $h(n)$ is the heuristic cost from `n.state` state to the **goal state**, $f(n)$ is computed as:\n",
    "\n",
    "- Best First: $f(n) = h(n)$\n",
    "- A$^*$: $f(n) = g(n) + h(n)$\n",
    "\n",
    "As before, once the `get_successors(self,node)` and `do_search(self)` methods have been implemented in the parent class, we have to implement the `insert_node(self, node)` method, which will insert the `node` into the `self.open` list of nodes according to the corresponding values of the cost function, as well as the `extract_node` and `is_empty` methods.\n",
    "\n",
    "You also have to implement a new `__init__(self, args)` constructor so that you can expand the behavior of the informed search algorithms with a `Heuristic` and any other methods you need.\n",
    "\n",
    "It is greatly encouraged that you use the [Priority Queue](https:\/\/docs.python.org\/3\/library\/queue.html#queue.PriorityQueue) structure for the informed search, as it will be an efficient structure to have your nodes ordered, rather than having to sort the list every single time. "
   ],
   "attachments":{
    
   },
   "metadata":{
    "datalore":{
     "node_id":"AcYTGveTFf9Ke7xaaxNWz2",
     "type":"MD",
     "hide_input_from_viewers":false,
     "hide_output_from_viewers":false
    }
   }
  },
  {
   "cell_type":"code",
   "source":[
    "class BestFirst(Search):\n",
    "    def __init__(self, parent_args, children_args):\n",
    "        # Calling the constructor of the parent class\n",
    "        # with its corresponding arguments\n",
    "        super().__init__(parent_args, children_args)\n",
    "        #Superponemos la declaración de la lista de abiertos como array en la clase Search para trabajar con PriorityQueue\n",
    "        self.open = PriorityQueue()\n",
    "\n",
    "        #TODO: Add your new code here\n",
    "    #Al ser BestFirst insertamos en función del hCost\n",
    "    def insert_node(self, node, node_list):\n",
    "        node_list.put((node.hCost, node))\n",
    "        \n",
    "    def extract_node(self, node_list):\n",
    "        return node_list.get()[1]\n",
    "\n",
    "    def is_empty(self, node_list):\n",
    "        return node_list.empty()"
   ],
   "execution_count":9,
   "outputs":[
    
   ],
   "metadata":{
    "datalore":{
     "node_id":"8hUQWHQVnNxvAYXqFn4CLb",
     "type":"CODE",
     "hide_input_from_viewers":false,
     "hide_output_from_viewers":false
    }
   }
  },
  {
   "cell_type":"code",
   "source":[
    "class AStar(Search):\n",
    "    def __init__(self, parent_args, children_args):\n",
    "        # Calling the constructor of the parent class\n",
    "        # with its corresponding arguments\n",
    "        super().__init__(parent_args, children_args)\n",
    "        self.open = PriorityQueue()\n",
    "\n",
    "        #TODO: Add your new code here\n",
    "    #Al ser AStar insertamos en función del fCost (gCost + hCost)\n",
    "    def insert_node(self, node, node_list):\n",
    "        node_list.put((node.fCost, node))\n",
    "        \n",
    "    def extract_node(self, node_list):\n",
    "        return node_list.get()[1]\n",
    "\n",
    "    def is_empty(self, node_list):\n",
    "        return node_list.empty()"
   ],
   "execution_count":10,
   "outputs":[
    
   ],
   "metadata":{
    "datalore":{
     "node_id":"sfPToN8OzveLdHRAtQiTaw",
     "type":"CODE",
     "hide_input_from_viewers":false,
     "hide_output_from_viewers":false
    }
   }
  },
  {
   "cell_type":"markdown",
   "source":[
    "#### Heuristics\n",
    "\n",
    "An informed search must have an heuristic, and the way to implement is by creating a class for each heuristic. The different classes must inherit from the abstract class `Heuristic` provided here. They must implement the `get_hcost(self, node)` method to return the heuristic of a node. They can also implement a constructor where some information about the problem is given to compute that heuristic."
   ],
   "attachments":{
    
   },
   "metadata":{
    "datalore":{
     "node_id":"9Of8mZ5frLPJQI0ZBSchHv",
     "type":"MD",
     "hide_input_from_viewers":false,
     "hide_output_from_viewers":false
    }
   }
  },
  {
   "cell_type":"code",
   "source":[
    "class Heuristic(ABC):   \n",
    "    @abstractmethod\n",
    "    def get_hcost(self, node):\n",
    "        pass"
   ],
   "execution_count":11,
   "outputs":[
    
   ],
   "metadata":{
    "datalore":{
     "node_id":"kFsDFDU1Kp6ZGPnSEOxw9o",
     "type":"CODE",
     "hide_input_from_viewers":false,
     "hide_output_from_viewers":false
    }
   }
  },
  {
   "cell_type":"markdown",
   "source":[
    "As an example, the optimistic heuristic is given below. Take into account that you can add information to your heuristic by adding elements in the constructor of the class."
   ],
   "attachments":{
    
   },
   "metadata":{
    "datalore":{
     "node_id":"huuMhAxTuk2xSkB6y6OP9a",
     "type":"MD",
     "hide_input_from_viewers":false,
     "hide_output_from_viewers":false
    }
   }
  },
  {
   "cell_type":"code",
   "source":[
    "class OptimisticHeuristic(Heuristic):\n",
    "    def __init__(self, info):\n",
    "        self.info = info\n",
    "\n",
    "    def get_hcost(self, node):\n",
    "        return 0"
   ],
   "execution_count":12,
   "outputs":[
    
   ],
   "metadata":{
    "datalore":{
     "node_id":"Wt4KB5MBm8QodrT8L7yryY",
     "type":"CODE",
     "hide_input_from_viewers":false,
     "hide_output_from_viewers":false
    }
   }
  },
  {
   "cell_type":"code",
   "source":[
    "class EuclideanHeuristic(Heuristic):\n",
    "    def __init__(self, prob):\n",
    "        self.prob = prob\n",
    "\n",
    "    #Obtenemos hCost a partir de la función vista arriba del todo, insertando latitudes y longitudes de la ciudad respecto a la \n",
    "    #ciudad final\n",
    "    def get_hcost(self, node):\n",
    "        latitude1 = self.prob.cities[node.state.id]['lat']\n",
    "        latitude2 = self.prob.cities[self.prob.final_city.id]['lat']\n",
    "        longitude1 = self.prob.cities[node.state.id]['lon']\n",
    "        longitude2 = self.prob.cities[self.prob.final_city.id]['lon']\n",
    "        point1,point2 = (latitude1,longitude1), (latitude2,longitude2)\n",
    "        return geopy.distance.distance(point1,point2).km + random.uniform(0, 0.0000001)"
   ],
   "execution_count":13,
   "outputs":[
    
   ],
   "metadata":{
    "datalore":{
     "node_id":"zHAAPe47kQvhkWEmTxsSTQ",
     "type":"CODE",
     "hide_input_from_viewers":false,
     "hide_output_from_viewers":false
    }
   }
  },
  {
   "cell_type":"markdown",
   "source":[
    "### 4.3 Study and improvement of the algorithms\n",
    "Once the algorithms have been implemented, you must study their performance. In order to do that,\n",
    "you must compare the quality of the solutions obtained, as well as the number of expanded nodes for\n",
    "instances of different sizes. Factors as the maximum size of problem that can be solved (without memory\n",
    "overflow), or the effect of using more complex scenarios, are also important. Moreover, you can propose\n",
    "alternative implementations that increase the efficiency of the algorithms."
   ],
   "attachments":{
    
   },
   "metadata":{
    "datalore":{
     "node_id":"6q3uoKPoKLFZnX2wHpx2mu",
     "type":"MD",
     "hide_input_from_viewers":false,
     "hide_output_from_viewers":false
    }
   }
  },
  {
   "cell_type":"code",
   "source":[
    "###### CELDA DE EJECUCIÓN ######\n",
    "\n",
    "#Precargamos problem con el que trabaja la clase Problem cambiando el .json que queremos emplear\n",
    "with open(\"\/data\/notebook_files\/problem.json\", 'r', encoding='utf8') as file:\n",
    "    problem = json.load(file)\n",
    "\n",
    "#Creamos una instancia de Problem con el .json a utilizar, el Estado (ciudad) Inicial y el Estado (Ciudad) Final\n",
    "#for i in range(300):\n",
    "prob = Problem(\"\/data\/notebook_files\/problem.json\", 19)\n",
    "\n",
    "#Ponemos en marcha la búsqueda insertando el algoritmo que queremos emplear (DepthFirst, BreadthFirst, BestFirst o AStar)\n",
    "#e insertando la heurística a utilizar ('', 'euclidea' u 'optimista'), los dos primeros algoritmos no emplean heurística \n",
    "print(\"DepthFirst----------\")\n",
    "search = DepthFirst(prob, '')\n",
    "search.doSearch()\n",
    "print(\"BreathFirst----------\")\n",
    "search = BreadthFirst(prob, '')\n",
    "search.doSearch()\n",
    "print(\"BestFirst----------\")\n",
    "search = BestFirst(prob, 'euclidea')\n",
    "search.doSearch()\n",
    "print(\"AStar----------\")\n",
    "search = AStar(prob, 'euclidea')\n",
    "search.doSearch()"
   ],
   "execution_count":24,
   "outputs":[
    {
     "name":"stdout",
     "text":[
      "DepthFirst----------\n",
      "Con un coste de: 546.9 km\n",
      "Profundidad solución: 3\n",
      "Nodos Generados:  33\n",
      "Nodos Expandidos:  11\n",
      "Tiempo de ejecución: 3.9639 milisegundos \n",
      "\n",
      "BreathFirst----------\n",
      "Con un coste de: 359.1 km\n",
      "Profundidad solución: 2\n",
      "Nodos Generados:  20\n",
      "Nodos Expandidos:  5\n",
      "Tiempo de ejecución: 1.3168 milisegundos \n",
      "\n",
      "BestFirst----------\n",
      "Con un coste de: 359.1 km\n",
      "Profundidad solución: 2\n",
      "Nodos Generados:  8\n",
      "Nodos Expandidos:  2\n",
      "Tiempo de ejecución: 2.6126 milisegundos \n",
      "\n",
      "AStar----------\n",
      "Con un coste de: 359.1 km\n",
      "Profundidad solución: 2\n",
      "Nodos Generados:  8\n",
      "Nodos Expandidos:  2\n",
      "Tiempo de ejecución: 2.5968 milisegundos \n",
      "\n"
     ],
     "output_type":"stream"
    }
   ],
   "metadata":{
    "datalore":{
     "node_id":"kacln1z4Ho8OyfbOk0ibw3",
     "type":"CODE",
     "hide_input_from_viewers":false,
     "hide_output_from_viewers":false
    }
   }
  },
  {
   "cell_type":"markdown",
   "source":[
    "### 4.4 Report\n",
    "Besides the notebook containing the implementation, the assignment consists in the elaboration of a report, which will have a later deadline, but you should be developing when your code starts solving problems\n",
    "correctly. \n",
    "\n",
    "In particular, among other issues that the student deems of interest to discuss, it should include:\n",
    "\n",
    "- A brief description of the problem, a description of the implementation, the performance evaluation, and the description of improvements if they exist. \n",
    "- The formalization of the problem.\n",
    "- For informed search algorithms one (or several) heuristic functions must be provided. Apart from their description and motivation, an analysis should be included indicating whether the proposed heuristic is considered admissible and\/or consistent.\n",
    "- The study of performance of implemented algorithms should be based on testing the algorithms over several instances, presenting tables or graphics that summarize results (do not include screenshots).\n",
    "\n",
    "The memory must not include figures with source code, unless this is necessary to explain some key concept (data structures, improvements in efficiency, etc). In such cases, you are allowed to include\n",
    "properly formatted pseudocode."
   ],
   "attachments":{
    
   },
   "metadata":{
    "datalore":{
     "node_id":"TN8nQpEQOYIQynu67Jy1ln",
     "type":"MD",
     "hide_input_from_viewers":false,
     "hide_output_from_viewers":false
    }
   }
  },
  {
   "cell_type":"markdown",
   "source":[
    "## 5. Submission and evaluation\n",
    "The work must be made in pairs, although in some exceptional cases you can present it individually. The deadline for submission is 6th November, 2022. Interviews and evaluations will be in the following week. \n",
    "\n",
    "You must work on your notebook on the Datalore project, as the day of the deadline it will run some automated tests and collect the notebooks in the state they are. No changes will be allowed after the deadline. \n",
    "\n",
    "Some considerations related to the evaluation:\n",
    "- This is 30% of the lab grade. Lab2 (70%) needs the resolution of this part. Late submissions\n",
    "(together with lab2) or failed assignments will be evaluated globally but with a penalization of factor\n",
    "0.9, as the students can only get 90% of the lab grade.\n",
    "- Attendance with performance to the lab not only will provide half of the participation grade, but\n",
    "it will also be the best foundation for successful resolution of the labs.\n",
    "- The assignment will be evaluated during an individual interview with the professors. Dates for the\n",
    "interviews will be published with some advance in Campus Virtual.\n",
    "- We will provide a set of preliminary test cases (several maps and queries) that must be correctly\n",
    "solved. Otherwise, the assignment will be considered as failed.\n",
    "- In order to get a mark in the assignment you will have to answer, individually, a set of basic\n",
    "questions about the code organization.\n",
    "- In the non-continuous evaluation we will require the implementation of the same strategies plus\n",
    "these extra two: Depth-limited search and Iterative deepening search."
   ],
   "attachments":{
    
   },
   "metadata":{
    "datalore":{
     "node_id":"Tinwe1v9Wx9ZaC9NcMPB1a",
     "type":"MD",
     "hide_input_from_viewers":false,
     "hide_output_from_viewers":false
    }
   }
  },
  {
   "cell_type":"code",
   "source":[
    
   ],
   "execution_count":null,
   "outputs":[
    
   ],
   "metadata":{
    "datalore":{
     "node_id":"QR24FQbSFQ8vf4Vuc9n3d5",
     "type":"CODE",
     "hide_input_from_viewers":false,
     "hide_output_from_viewers":false
    }
   }
  }
 ],
 "metadata":{
  "kernelspec":{
   "display_name":"Python",
   "language":"python",
   "name":"python"
  },
  "datalore":{
   "version":1,
   "computation_mode":"JUPYTER",
   "package_manager":"pip",
   "base_environment":"default",
   "packages":[
    {
     "name":"geopy",
     "source":"PIP"
    }
   ]
  }
 },
 "nbformat":4,
 "nbformat_minor":4
}