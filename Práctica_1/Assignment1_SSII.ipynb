{
 "cells": [
  {
   "cell_type": "markdown",
   "id": "0906f322",
   "metadata": {},
   "source": [
    "<a id=\"inicio\"></a>\n",
    "<img src=\"./figs/barra_uclm_esiiab.png\" alt=\"Banner UCLM - ESIIAB\" align=\"right\">"
   ]
  },
  {
   "cell_type": "markdown",
   "id": "75a230e2",
   "metadata": {
    "tags": []
   },
   "source": [
    "<br><br><br>\n",
    "<h1><font color=\"#B30033\" size=5>Intelligent Systems - Course 2021-2022</font></h1>\n",
    "\n",
    "\n",
    "\n",
    "<h1><font color=\"#B30033\" size=5>Assignment 1: Non Informed Search Algorithms</font></h1>\n",
    "\n",
    "\n",
    "<br><br>\n",
    "<div style=\"text-align: left\">\n",
    "<font color=\"#4E70BE\" size=3>Lecturers:</font><br>\n",
    "<ul>\n",
    "  <li><font color=\"#4E70BE\" size=3>Guillermo Tomás Fernández Martín</font><br></li>\n",
    "  <li><font color=\"#4E70BE\" size=3>José Antonio Gámez Martín</font><br></li>\n",
    "  <li><font color=\"#4E70BE\" size=3>Ismael García Varea</font><br></li>\n",
    "  <li><font color=\"#4E70BE\" size=3>Luis González Naharro</font><br></li>\n",
    "</ul>\n",
    "</div>\n",
    "\n",
    "<br>"
   ]
  },
  {
   "cell_type": "markdown",
   "id": "449d5eae-501f-4720-a7e0-e62027e9d9a1",
   "metadata": {
    "tags": []
   },
   "source": [
    "## Integrantes:\n",
    "    Victor Moreno Rodenas y\n",
    "    Daniel Cabañero Pardo"
   ]
  },
  {
   "cell_type": "markdown",
   "id": "d52856f3",
   "metadata": {},
   "source": [
    "## Introduction\n",
    "In this assignment we will study and put into practice non informed search algorithms. To do that, some of the algorithms seen in unit 2 will be implemented and used to solve a particular problem: maze pathfinding.\n",
    "We will also analyze and compare the performance of the algorithms by running them over different instances of the problem."
   ]
  },
  {
   "cell_type": "markdown",
   "id": "c7196c10",
   "metadata": {},
   "source": [
    "## Problem description\n",
    "The maze is a grid of size N x M formed by a set of cells, some of which can be occupied by walls, which cannot be crossed. The rest of the cells will be empty and they will represent the free space where the robot can move horizontally or vertically. In addition, we can have cells with garbage, which must be cleaned by our agent, a vacuum cleaner robot. "
   ]
  },
  {
   "cell_type": "markdown",
   "id": "01c7ecdc",
   "metadata": {},
   "source": [
    "The objective of our robot is to clean the whole area as fast as possible. In other words: **find the shortest path to find all the garbage cells in the environment**. In order to implement our robot we have to take into account that: \n",
    "- The robot can start in a random cell of the map.\n",
    "- The robot can move horizontally or vertically in the maze.\n",
    "- The robot can not cross walls or go beyond the limits of the maze.\n",
    "- The robot will have to clean all the garbage cells found in the map, which will be automatically cleaned as soon as the robot arrives to those cells.\n",
    "- All the movements of the robot will have a cost of 1.\n",
    "- The search will finish once all garbage cells in the map have been cleaned."
   ]
  },
  {
   "cell_type": "markdown",
   "id": "1b7618ae",
   "metadata": {},
   "source": [
    "## Provided code\n",
    "\n",
    "In the following we provide you some of the clases, implemented in `Python` that will help you to develop this assignment. \n",
    "\n",
    "First, we will import the necessary classes we need from the Python libraries"
   ]
  },
  {
   "cell_type": "code",
   "execution_count": null,
   "id": "03362428",
   "metadata": {},
   "outputs": [],
   "source": [
    "import math\n",
    "import copy\n",
    "import time\n",
    "\n",
    "from abc import ABC, abstractmethod\n"
   ]
  },
  {
   "cell_type": "markdown",
   "id": "a5ab3eee",
   "metadata": {},
   "source": [
    "Next, we will import some custom functions from the file `utils.py`. You don't need to modify those functions for the code to work, but feel free to have a look at them if you are curious."
   ]
  },
  {
   "cell_type": "code",
   "execution_count": null,
   "id": "2a296d75",
   "metadata": {},
   "outputs": [],
   "source": [
    "from utils import *"
   ]
  },
  {
   "cell_type": "markdown",
   "id": "32e0f143-b9a4-4203-b5cb-69c425ebcd46",
   "metadata": {},
   "source": [
    "Finally, we will import some third party libraries. We will use those to display the problem in a graphical environment. In order to do that, we will use the magic functions from jupyter to install the library from inside the notebook"
   ]
  },
  {
   "cell_type": "code",
   "execution_count": null,
   "id": "1ec03523-7180-44c6-b61c-2a2ac0483e24",
   "metadata": {},
   "outputs": [],
   "source": [
    "!pip install ipythonblocks"
   ]
  },
  {
   "cell_type": "code",
   "execution_count": null,
   "id": "a2f973ce-6270-40de-9263-7e045e9305d6",
   "metadata": {},
   "outputs": [],
   "source": [
    "from ipythonblocks import BlockGrid\n",
    "from IPython.display import clear_output"
   ]
  },
  {
   "cell_type": "markdown",
   "id": "cedc447b",
   "metadata": {},
   "source": [
    "In order to complete the requested search algorithms, we provide you some fundamental classes: "
   ]
  },
  {
   "cell_type": "markdown",
   "id": "8e4525ac",
   "metadata": {},
   "source": [
    "#### Class `Action`\n",
    "This class provides the **representation of the actions** that will be performed by the robot. You don't have to modify the code of this class. The possible actions will be: \"UP\", \"DOWN\", \"RIGHT\", \"LEFT\"."
   ]
  },
  {
   "cell_type": "code",
   "execution_count": null,
   "id": "ca68a21b",
   "metadata": {},
   "outputs": [],
   "source": [
    "class Action:\n",
    "    #actions = [\"UP\", \"DOWN\", \"RIGHT\", \"LEFT\"]\n",
    "\n",
    "    def __init__(self, move):\n",
    "        self.move = move\n",
    "\n",
    "    def __str__(self):\n",
    "        return f\"({self.move})\"\n",
    "\n",
    "    def getCost(self):\n",
    "        return 1.0"
   ]
  },
  {
   "cell_type": "markdown",
   "id": "0166a409",
   "metadata": {},
   "source": [
    "#### Class `State`. \n",
    "This class provides the **representation of a state** in the search space. In this problem, a state is defined by the position of the robot and the garbages left in the maze. Note that the maze itself does not need to be part of the state given that it does not change during the search, i.e. walls are fixed during the search. You don't have to modify the code of this class.\n",
    "\n",
    "The class `State` has an `applyAction` method that, given a valid `Action`, returns a new `State` with the action applied."
   ]
  },
  {
   "cell_type": "code",
   "execution_count": null,
   "id": "dd19d7e1",
   "metadata": {},
   "outputs": [],
   "source": [
    "class State:\n",
    "\n",
    "    def __init__(self, pos, garbage):\n",
    "        self.pos = pos\n",
    "        self.garbage = garbage\n",
    "\n",
    "    # equals method. Returns true if the states are the same. \n",
    "    # Used for the hash table comparison, compares if both states are equal\n",
    "    def __eq__(self, state):\n",
    "        return self.pos == state.pos and self.garbage == state.garbage\n",
    "\n",
    "    def __str__(self):\n",
    "        return f\"Position: {self.pos}\\nGarbage: {self.garbage}\"\n",
    "\n",
    "    def __hash__(self):\n",
    "        h = 0\n",
    "        for g in self.garbage:\n",
    "            h += (math.pow(10,3) * (self.pos[0]+1) + (self.pos[1]+2))\n",
    "        return int(h)\n",
    "\n",
    "    def applyAction(self, action):\n",
    "        st = copy.deepcopy(self)\n",
    "        \n",
    "        if (action.move == \"UP\"):\n",
    "            st.pos = (st.pos[0]-1,st.pos[1])\n",
    "        elif (action.move == \"DOWN\"):\n",
    "            st.pos = (st.pos[0]+1,st.pos[1])\n",
    "        elif (action.move == \"RIGHT\"):\n",
    "            st.pos = (st.pos[0],st.pos[1]+1)\n",
    "        elif (action.move == \"LEFT\"):\n",
    "            st.pos = (st.pos[0],st.pos[1]-1)\n",
    "        else:\n",
    "            print(\"\\n*** ERROR ***: Action \" + action + \"  is not allowed .....\\n\")\n",
    "            sys.exit()\n",
    "            \n",
    "        # if the new position has garbage clean it\n",
    "        if (st.pos in st.garbage):\n",
    "            st.garbage.remove(st.pos)\n",
    "        \n",
    "        return st"
   ]
  },
  {
   "cell_type": "markdown",
   "id": "2bd44eb5",
   "metadata": {},
   "source": [
    "#### Class `Node`. \n",
    "This class provides a **representation of a node** in the search tree/graph. It contains the state it represents, its parent node and the action taken to reach the current node. You don't have to modify this class. \n",
    "\n",
    "The class `Node` also has some methods to provide access to its attributes."
   ]
  },
  {
   "cell_type": "code",
   "execution_count": null,
   "id": "33347466",
   "metadata": {},
   "outputs": [],
   "source": [
    "class Node:\n",
    "    def __init__(self, state, parent, action):\n",
    "        self.state = state # Must be State Class\n",
    "        self.parent = parent # Must be Node Class\n",
    "        self.action = action # Must be Action Class\n",
    "        self.depth = 0\n",
    "        self.gCost = 0.0\n",
    "\n",
    "    def __str__(self):\n",
    "        return f\"depth: {self.depth} {self.state}\"\n",
    "\n",
    "    def __eq__(self, other):\n",
    "        if not isinstance(other, Node):\n",
    "        # don't attempt to compare against unrelated types\n",
    "            return NotImplemented\n",
    "        return self.state == other.state\n",
    "\n",
    "    def getState(self):\n",
    "        return self.state\n",
    "\n",
    "    def getAction(self):\n",
    "        return self.action\n",
    "    \n",
    "    def getParent(self):\n",
    "        return self.parent\n",
    "\n",
    "    def getDepth(self):\n",
    "        return self.depth\n",
    "    \n",
    "    def getGCost(self):\n",
    "        return self.gCost"
   ]
  },
  {
   "cell_type": "markdown",
   "id": "b2764c4b",
   "metadata": {},
   "source": [
    "#### Class `Problem`\n",
    "This class provides the **representation of the search problem**. It contains the size of the maze (`rows` and `cols`), the `initialState` and the `maze`. This class can read from a file an instance of the problem to solve, or it can generate a random instance using the size of the grid, the `seed`, the maximum number of divisions (walls) in the maze and the list of garbage cells. You don't have to modify this class. \n",
    "\n",
    "The class `Problem` also has some methods to provide access to the initial state, the possible actions and to check if a specific state is the final/goal."
   ]
  },
  {
   "cell_type": "code",
   "execution_count": null,
   "id": "30f9c989",
   "metadata": {},
   "outputs": [],
   "source": [
    "class Problem:\n",
    "\n",
    "    actions = [\"UP\", \"DOWN\", \"RIGHT\", \"LEFT\"]\n",
    "\n",
    "    def __init__(self, rows, cols, seed, maxDivisions, garbageCount, limit, filename=\"\"):\n",
    "        self.limit = limit\n",
    "        \n",
    "        if (filename != \"\"):\n",
    "            self.rows, self.cols, self.maze = readProblemInstance(filename)\n",
    "            print('Problem read with size',rows,'x',cols)\n",
    "        else:\n",
    "            self.rows = rows\n",
    "            self.cols = cols\n",
    "            self.maze = getProblemInstance(rows, cols, maxDivisions, garbageCount, seed)\n",
    "\n",
    "        self.garbage = []\n",
    "\n",
    "        for r in range(rows):\n",
    "            for c in range(cols):\n",
    "                if self.maze[r][c] == 2:\n",
    "                    init_point = (r,c)\n",
    "                elif self.maze[r][c] == 3:\n",
    "                    self.garbage.append((r,c))\n",
    "\n",
    "        self.initialState = State(init_point, self.garbage)\n",
    "\n",
    "    def getInitialState(self):\n",
    "        return self.initialState\n",
    "\n",
    "    def getActions(self):\n",
    "        return self.actions\n",
    "\n",
    "    def isGoal(self, s):\n",
    "        '''\n",
    "        check if the given state is final or not\n",
    "        '''\n",
    "        return s.garbage == []"
   ]
  },
  {
   "cell_type": "markdown",
   "id": "75b836e0",
   "metadata": {},
   "source": [
    "## Implementation\n",
    "In the following we provide you some classes and pieces of code that you will have to complete as a part of this assignment.\n",
    "\n",
    "#### Class `Search`\n",
    "\n",
    "The `Search` class is in abstract class that contains some attributes:\n",
    "- The `problem`to solve.\n",
    "- The list of `open` nodes, i.e. nodes in the frontier.\n",
    "- The list of `closed` nodes to implement the graph search, which is implemented using a `set` data structure.\n",
    "- The attributes to account for the number of generated and expanded nodes, as well as the maximum number size of the closed and open 'lists' to know the maximum number of nodes stored simultaneously in memory. Theses attributes are helpful to estimate the time and memory complexity of the algorithms.\n",
    "\n",
    "This class also provides three methods:\n",
    "- `insertNode(self, node, node_list)`: this is an abstract method that has to be implemented by all (search) classes that inherit from `Search`. This method has already been implemented. You don't have to modify it, but you have to implement the correct version in each new search class you create.\n",
    "- `getSuccesors(self, node)`: this method implements the successors function and should return a list with all the valid successors of a given node. You must program this method.\n",
    "- `doSearch(self)`: this method implements the graph search you have studied in class. You must program this method. It also provides some statistics of the search process."
   ]
  },
  {
   "cell_type": "code",
   "execution_count": null,
   "id": "03711ab8",
   "metadata": {},
   "outputs": [],
   "source": [
    "class Search(ABC):\n",
    "\n",
    "    def __init__(self, problem):\n",
    "        self.problem = problem\n",
    "        self.open = []\n",
    "        self.closed = set()\n",
    "        \n",
    "        self.generatedNodes = 0\n",
    "        self.expandedNodes = 0\n",
    "        self.exploredMaxSize = 0\n",
    "        self.openMaxSize = 0\n",
    "\n",
    "    @abstractmethod\n",
    "    def insertNode(self, node, node_list):\n",
    "        pass\n",
    "\n",
    "    def getSuccesors(self, node):\n",
    "        suc = []\n",
    "\n",
    "        # TODO: ADD YOUR CODE HERE\n",
    "        # ...\n",
    "        UP = Action(\"UP\")\n",
    "        DOWN = Action(\"DOWN\")\n",
    "        LEFT = Action(\"LEFT\")\n",
    "        RIGHT = Action(\"RIGHT\")\n",
    "        \n",
    "        nodoUP = Node(node.state.applyAction(UP), node, UP)\n",
    "        nodoUP.gCost = node.gCost + UP.getCost()\n",
    "        nodoUP.depth = node.depth + 1\n",
    "\n",
    "        nodoDOWN = Node(node.state.applyAction(DOWN), node, DOWN)\n",
    "        nodoDOWN.gCost = node.gCost + DOWN.getCost()\n",
    "        nodoDOWN.depth = node.depth + 1\n",
    "\n",
    "        nodoRIGHT = Node(node.state.applyAction(RIGHT), node, RIGHT)\n",
    "        nodoRIGHT.gCost = node.gCost + RIGHT.getCost()\n",
    "        nodoRIGHT.depth = node.depth + 1\n",
    "\n",
    "        nodoLEFT = Node(node.state.applyAction(LEFT), node, LEFT)\n",
    "        nodoLEFT.gCost = node.gCost + LEFT.getCost()\n",
    "        nodoLEFT.depth = node.depth + 1\n",
    "        \n",
    "        if node.state.pos[1] != 0:\n",
    "            if self.problem.maze[nodoLEFT.state.pos[0]][nodoLEFT.state.pos[1]] != 1:\n",
    "                suc.append(nodoLEFT)\n",
    "                self.generatedNodes += 1\n",
    "        if node.state.pos[1] != self.problem.cols - 1:\n",
    "            if self.problem.maze[nodoRIGHT.state.pos[0]][nodoRIGHT.state.pos[1]] != 1:\n",
    "                suc.append(nodoRIGHT)\n",
    "                self.generatedNodes += 1\n",
    "        if node.state.pos[0] != self.problem.rows - 1:\n",
    "            if self.problem.maze[nodoDOWN.state.pos[0]][nodoDOWN.state.pos[1]] != 1:\n",
    "                suc.append(nodoDOWN)\n",
    "                self.generatedNodes += 1\n",
    "        if node.state.pos[0] != 0:\n",
    "            if self.problem.maze[nodoUP.state.pos[0]][nodoUP.state.pos[1]] != 1:\n",
    "                suc.append(nodoUP)\n",
    "                self.generatedNodes += 1\n",
    "\n",
    "        return suc\n",
    "\n",
    "    def doSearch(self):\n",
    "        totalCost = 0\n",
    "\n",
    "        current = Node(self.problem.getInitialState(), None, None)\n",
    "\n",
    "        actionSequence = []\n",
    "\n",
    "        self.insertNode(current, self.open)\n",
    "\n",
    "        finish = False\n",
    "\n",
    "        # TODO: ADD HERE THE MAIN CYCLE OF THE SEARCH ALGORITHM\n",
    "        # IMPORTANT: USE THE METHOD insertNode() TO ALLOW FOR DIFFERENT STRATEGIES\n",
    "        # ...\n",
    "        \n",
    "        while not finish:\n",
    "\n",
    "            if not self.open:\n",
    "                return NotImplemented\n",
    "\n",
    "            current = self.open[0]\n",
    "            self.open.pop(0)\n",
    "\n",
    "            if finish != self.problem.isGoal(current.state):\n",
    "                finish = True\n",
    "                break\n",
    "            \n",
    "            if current.state not in self.closed:\n",
    "                if current.depth < self.problem.limit:\n",
    "                    self.closed.add(current.state)\n",
    "                    s = self.getSuccesors(current)\n",
    "                    for i in s:\n",
    "                        self.insertNode(i, self.open)\n",
    "                    self.expandedNodes += 1\n",
    "            \n",
    "            if not len(self.open):\n",
    "                print(\"No hay solucion dentro de la profundidad limite: \",limit)\n",
    "                break\n",
    "        \n",
    "        solucion = current\n",
    "        \n",
    "        if finish:\n",
    "            # TODO: ADD YOUR CODE HERE TO COLLECT THE SOLUTION\n",
    "            while current.parent is not None:\n",
    "                actionSequence.append(current.action)\n",
    "                current = current.parent\n",
    "            actionSequence.reverse()\n",
    "\n",
    "        # TODO: ADD YOUR CODE HERE TO PRINT OR EXTRACT THE STATISTICS\n",
    "        # FOR LATER EVALUATION OF THE ALGORITHMS\n",
    "        # ...\n",
    "\n",
    "        print(\"Coste:\", solucion.getGCost())\n",
    "        print(\"Profundidad:\", solucion.getDepth())\n",
    "\n",
    "        print(\"Nodos generados:\", self.generatedNodes)\n",
    "        print(\"Nodos expandidos:\", self.expandedNodes)\n",
    "        \n",
    "        print(\"ActionSequence: \\n\")\n",
    "        for i in actionSequence:\n",
    "            print(i)\n",
    "\n",
    "        return actionSequence\n",
    "       \n",
    "    "
   ]
  },
  {
   "cell_type": "markdown",
   "id": "71cc5d61",
   "metadata": {},
   "source": [
    "#### Class `RandomSearch`\n",
    "The class `RandomSearch`, inherits from `Search` and implements a random search . Once the `getSuccessors(self,node)` and `doSearch(self)` methods have already been implemented in the parent class, here we only have to implement the `insertNode(self, node, node_list)` method, which in this case inserts the `node`into the `node_list` in a randomly selected position, i.e. not following any search strategy. This code is provided to you in the following cell, and it will allow you to test the implementation of the previous funcions as soon as you implement them."
   ]
  },
  {
   "cell_type": "code",
   "execution_count": null,
   "id": "47b59028",
   "metadata": {},
   "outputs": [],
   "source": [
    "class RandomSearch(Search):\n",
    "    def insertNode(self, node, node_list):\n",
    "        node_list.insert(random.randrange(len(node_list) + 1), node)"
   ]
  },
  {
   "cell_type": "markdown",
   "id": "88a27deb",
   "metadata": {},
   "source": [
    "#### Class `DepthFirst`, `BreadthFirst` and `DepthLimited`\n",
    "\n",
    "These three classes also inherit from `Search` and will implement the depth first, breadth first and depth limited search strategies.\n",
    "\n",
    "You have to implement these three classes.\n",
    "\n",
    "Optionally you might want to implement also the iterative depth limited search strategy (`IterativeDepthLimited`). That will be taken into account to improve your mark of the assigment."
   ]
  },
  {
   "cell_type": "code",
   "execution_count": null,
   "id": "e56b3b57",
   "metadata": {},
   "outputs": [],
   "source": [
    "class DepthFirst(Search):\n",
    "    def insertNode(self, node, node_list):\n",
    "        node_list.insert(0, node)"
   ]
  },
  {
   "cell_type": "code",
   "execution_count": null,
   "id": "5a88f7e4",
   "metadata": {},
   "outputs": [],
   "source": [
    "class BreadthFirst(Search):\n",
    "    def insertNode(self, node, node_list):\n",
    "        node_list.append(node)"
   ]
  },
  {
   "cell_type": "code",
   "execution_count": null,
   "id": "4477403b-af5c-4082-955f-a4701bcb766f",
   "metadata": {},
   "outputs": [],
   "source": [
    "class DepthLimited(Search):\n",
    "    def insertNode(self, node, node_list):\n",
    "        node_list.insert(0, node)"
   ]
  },
  {
   "cell_type": "code",
   "execution_count": null,
   "id": "4211ed7f",
   "metadata": {},
   "outputs": [],
   "source": [
    "class IterateDepthLimited(Search):\n",
    "    def insertNode(self, node, node_list):\n",
    "        node_list.insert(random.randrange(len(node_list) + 1), node)"
   ]
  },
  {
   "cell_type": "markdown",
   "id": "25fe1235",
   "metadata": {},
   "source": [
    "#### The `main` function\n",
    "\n",
    "Next, we provide you the `main` function that creates the problem and solves it using the search algorithm provided. This method should be used afterwards to carry out the experimentation to study the behaviour of the implemented algorithms for different values of the parameters provided (size of the maze, maximum number of walls, number of garbage cells, and algorithm)."
   ]
  },
  {
   "cell_type": "code",
   "execution_count": null,
   "id": "9717abf7",
   "metadata": {},
   "outputs": [],
   "source": [
    "def main(rows, cols, seed, maxDivisions, garbageCount, limit, algorithm, configFile=\"\"):\n",
    "    problem = Problem(rows, cols, seed, maxDivisions, garbageCount, limit, configFile)\n",
    "\n",
    "    print(\"$ python assignment1 \" + str(problem.rows) + \" \" + str(problem.cols) + \" \" + str(seed) + \" \" + str(maxDivisions) + \" \" + str(garbageCount) + \" \" + algorithm + \" \" + configFile + \"\\n\")\n",
    "    print(\"Problem instance:\")\n",
    "    printMaze(problem.maze)\n",
    "    print(\"\")\n",
    "\n",
    "    search = None\n",
    "\n",
    "    if algorithm == \"BreadthFirst\":\n",
    "        search = BreadthFirst(problem)\n",
    "    elif algorithm == \"DepthFirst\":\n",
    "        search = DepthFirst(problem)\n",
    "    elif algorithm == \"DepthLimited\":\n",
    "        search = DepthLimited(problem)\n",
    "    elif algorithm == \"RandomSearch\":\n",
    "        search = RandomSearch(problem)\n",
    "    else:\n",
    "        raise Exception\n",
    "\n",
    "    time_start = time.perf_counter()\n",
    "    path = search.doSearch()\n",
    "    time_end = time.perf_counter()\n",
    "    print(\"\")\n",
    "    print(\"Elapsed time: \" + str(time_end - time_start) + \" seconds\")\n",
    "\n",
    "    return path, problem"
   ]
  },
  {
   "cell_type": "markdown",
   "id": "ea50b188",
   "metadata": {},
   "source": [
    "#### Test your code\n",
    "\n",
    "Here you have a piece of code to test your implementation. For example, the code to execute a random search technique can be:"
   ]
  },
  {
   "cell_type": "code",
   "execution_count": null,
   "id": "41be3a60",
   "metadata": {},
   "outputs": [],
   "source": [
    "# Parameter list\n",
    "\n",
    "rows = 20\n",
    "cols = 20\n",
    "seed = 123\n",
    "maxDivisions = 15\n",
    "garbageCount = 3\n",
    "limit = math.inf\n",
    "\n",
    "algorithm = \"RandomSearch\"\n",
    "\n",
    "path_sol, problem_instance = main(rows, cols, seed, maxDivisions, garbageCount, limit, algorithm)\n"
   ]
  },
  {
   "cell_type": "code",
   "execution_count": null,
   "id": "aef5b783",
   "metadata": {
    "scrolled": true
   },
   "outputs": [],
   "source": [
    "# Parameter list para examen. Busqueda en anchura\n",
    "\n",
    "rows = 14\n",
    "cols = 16\n",
    "seed = 945\n",
    "maxDivisions = 8\n",
    "garbageCount = 6\n",
    "limit = math.inf\n",
    "\n",
    "algorithm = \"BreadthFirst\"\n",
    "\n",
    "# path_sol, problem_instance = main(rows, cols, seed, maxDivisions, garbageCount, limit, algorithm)"
   ]
  },
  {
   "cell_type": "code",
   "execution_count": null,
   "id": "be213538",
   "metadata": {},
   "outputs": [],
   "source": [
    "# Parameter list para examen. Busqueda en profundidad\n",
    "\n",
    "rows = 14\n",
    "cols = 16\n",
    "seed = 945\n",
    "maxDivisions = 8\n",
    "garbageCount = 6\n",
    "limit = math.inf\n",
    "\n",
    "algorithm = \"DepthFirst\"\n",
    "\n",
    "# path_sol, problem_instance = main(rows, cols, seed, maxDivisions, garbageCount, limit, algorithm)"
   ]
  },
  {
   "cell_type": "code",
   "execution_count": null,
   "id": "402883c6",
   "metadata": {},
   "outputs": [],
   "source": [
    "# Parameter list para examen. Busqueda en profundidad limitada\n",
    "\n",
    "rows = 10\n",
    "cols = 5\n",
    "seed = 945\n",
    "maxDivisions = 3\n",
    "garbageCount = 2\n",
    "limit = 11\n",
    "\n",
    "algorithm = \"DepthLimited\"\n",
    "\n",
    "\n",
    "# path_sol, problem_instance = main(rows, cols, seed, maxDivisions, garbageCount, limit, algorithm)"
   ]
  },
  {
   "cell_type": "markdown",
   "id": "a9ab0644",
   "metadata": {},
   "source": [
    "#### Printing the result\n",
    "\n",
    "Here we provide you some code to display the maze and the path carried out by the robot (the green cell) to solve the instance of the problem. Walls are represented as black cells, and garbage with brown cells."
   ]
  },
  {
   "cell_type": "code",
   "execution_count": null,
   "id": "f97f26c2",
   "metadata": {},
   "outputs": [],
   "source": [
    "def render_maze(grid, maze, garbage):\n",
    "    height, width = len(maze), len(maze[0])\n",
    "    # Render maze\n",
    "    for i in range(width):\n",
    "        for j in range(height):\n",
    "            grid[j,i] = (200,200,200) if maze[j][i] in [0,2,3] else (0,0,0)\n",
    "\n",
    "    # Render garbage in maze\n",
    "    for g in garbage:\n",
    "        grid[g[0],g[1]] = (139,69,19)\n",
    "        \n",
    "def find_agent(maze, width, height):\n",
    "    for i in range(width):\n",
    "        for j in range(height):\n",
    "            if (maze[j][i] == 2):\n",
    "                return (i,j)\n",
    "\n",
    "def render_path(path, maze, garbage):\n",
    "    height, width = len(maze), len(maze[0])\n",
    "    solution_grid = BlockGrid(width, height, fill=(200, 200, 200))\n",
    "    \n",
    "    movementDict = {'DOWN':(0,1), 'UP':(0,-1), 'LEFT':(-1,0), 'RIGHT':(1,0)}\n",
    "    agentPos = find_agent(maze, width, height)\n",
    "    garbageRender = copy.deepcopy(garbage)\n",
    "    \n",
    "    # Initial position rendering\n",
    "    render_maze(solution_grid, maze, garbageRender)\n",
    "    solution_grid[agentPos[1],agentPos[0]] = (0, 255, 0)\n",
    "    solution_grid.show()\n",
    "    clear_output(wait=True)\n",
    "    time.sleep(0.1)\n",
    "    \n",
    "    for action in path:\n",
    "        # Update agent position\n",
    "        agentPos = (agentPos[0] + movementDict[action.move][0], agentPos[1] + movementDict[action.move][1])\n",
    "        \n",
    "        # Update garbage list\n",
    "        if ((agentPos[1], agentPos[0]) in garbageRender):\n",
    "            garbageRender.remove((agentPos[1], agentPos[0]))\n",
    "        \n",
    "        # Render maze\n",
    "        render_maze(solution_grid, maze, garbageRender)\n",
    "        \n",
    "        # Render agent, and update its position and the garbage list\n",
    "        solution_grid[agentPos[1],agentPos[0]] = (0,255,0)\n",
    "        \n",
    "        solution_grid.show()\n",
    "        clear_output(wait=True)\n",
    "        time.sleep(0.1)"
   ]
  },
  {
   "cell_type": "code",
   "execution_count": null,
   "id": "2885bb36",
   "metadata": {},
   "outputs": [],
   "source": [
    "render_path(path_sol, problem_instance.maze, problem_instance.garbage)\n"
   ]
  },
  {
   "cell_type": "markdown",
   "id": "0ee23fba",
   "metadata": {},
   "source": [
    "You can easily try different instances of the problem just by changing the parameters when you call both the `main(...)` function and the `render_path(...)` function:"
   ]
  },
  {
   "cell_type": "code",
   "execution_count": null,
   "id": "7552b6e4",
   "metadata": {},
   "outputs": [],
   "source": [
    "path_sol, problem_instance = main(15, 15, 2021, 15, 6, 0, 'RandomSearch')\n"
   ]
  },
  {
   "cell_type": "code",
   "execution_count": null,
   "id": "78b935b3",
   "metadata": {},
   "outputs": [],
   "source": [
    "render_path(path_sol, problem_instance.maze, problem_instance.garbage)\n"
   ]
  },
  {
   "cell_type": "markdown",
   "id": "931be86d",
   "metadata": {},
   "source": [
    "## Experimental results\n",
    "\n",
    "Once the algorithms have been implemented, you must study their performance. In order to do that, you must compare the quality of the solutions obtained, as well as the number of expanded nodes for instances of different maze sizes, number of walls and number of garbage cells.\n",
    "\n",
    "Please, use new cells to insert code to carry out the experimental results and study of the algorithms."
   ]
  },
  {
   "cell_type": "code",
   "execution_count": null,
   "id": "aaef8818",
   "metadata": {
    "tags": []
   },
   "outputs": [],
   "source": []
  }
 ],
 "metadata": {
  "kernelspec": {
   "display_name": "Python 3",
   "language": "python",
   "name": "python3"
  },
  "language_info": {
   "codemirror_mode": {
    "name": "ipython",
    "version": 3
   },
   "file_extension": ".py",
   "mimetype": "text/x-python",
   "name": "python",
   "nbconvert_exporter": "python",
   "pygments_lexer": "ipython3",
   "version": "3.8.8"
  }
 },
 "nbformat": 4,
 "nbformat_minor": 5
}
