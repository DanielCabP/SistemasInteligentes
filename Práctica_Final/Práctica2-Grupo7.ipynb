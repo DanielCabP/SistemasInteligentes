{
 "cells":[
  {
   "cell_type":"markdown",
   "source":[
    "# Práctica 2: Algoritmos metaheurísticos\n",
    "\n",
    "## Sistemas Inteligentes\n",
    "\n",
    "### Curso académico 2022-2023\n",
    "\n",
    "#### Profesorado:\n",
    "\n",
    "* Juan Carlos Alfaro Jiménez (`JuanCarlos.Alfaro@uclm.es`)\n",
    "* Guillermo Tomás Fernández Martín (`Guillermo.Fernandez@uclm.es`)\n",
    "* María Julia Flores Gallego (`Julia.Flores@uclm.es`)\n",
    "* Ismael García Varea (`Ismael.Garcia@uclm.es`)\n",
    "* Luis González Naharro (`Luis.GNaharro@uclm.es`)\n",
    "* Aurora Macías Ojeda (`Profesor.AMacias@uclm.es`)\n",
    "* Marina Sokolova Sokolova (`Marina.Sokolova@uclm.es`)"
   ],
   "attachments":{
    
   },
   "metadata":{
    "datalore":{
     "node_id":"yLdVtrycDWHyWuJsZXjfN6",
     "type":"MD",
     "hide_input_from_viewers":false,
     "hide_output_from_viewers":false,
     "report_properties":{
      
     }
    }
   }
  },
  {
   "cell_type":"markdown",
   "source":[
    "## 0. Preliminares\n",
    "\n",
    "Antes de comenzar con el desarrollo de esta práctica es necesario **descargar**, en **formato `.py`**, el código de la **práctica anterior** con el nombre **`utils.py`**. Para ello, pulsamos, en la libreta de la primera práctica, **`File > Export .py`**.\n",
    "\n",
    "Una vez hemos descargado y nombrado correctamente el fichero, lo **añadimos** al espacio de trabajo de la **libreta** de la práctica **actual** a través de **`Attached data > Notebook files > Upload files`** y subimos el fichero `utils.py` descargado en el paso anterior.\n",
    "\n",
    "Tras esto, debemos **cambiar** el **constructor** de la clase **`Problem`** para que **reciba** directamente el **problema** a resolver, **en lugar de cargarlo desde** un **fichero**. Esto se debe a que los algoritmos metaheurísticos van a tener que resolver, en múltiples ocasiones, este problema. De esta manera nos **evitamos** la **carga computacional extra** que implica **leer** el problema desde un **fichero**. Además, también es necesario **comentar** cualquier línea de **código** que **imprima estadísticas** para evitar salidas largas."
   ],
   "attachments":{
    
   },
   "metadata":{
    "datalore":{
     "node_id":"982IVN3tGtSrVVBrH4911R",
     "type":"MD",
     "hide_input_from_viewers":false,
     "hide_output_from_viewers":false,
     "report_properties":{
      
     }
    }
   }
  },
  {
   "cell_type":"markdown",
   "source":[
    "## 1. Introducción\n",
    "\n",
    "En esta práctica, vamos a **resolver** un **problema** de **optimización combinatoria** mediante **algoritmos metaheurísticos**. En particular, vamos a implementar **algoritmos genéticos** para abordar el **problema** de **ruteo** de **vehículos**. En este, **varios vehículos** con **capacidad limitada** deben **recoger paquetes** en **diferentes ubicaciones** y **trasladarlos** a una **sede central** de recogida.\n",
    "\n",
    "Además, se **analizará** y **comparará** el **rendimiento** de **diferentes algoritmos genéticos** (mediante la modificación de los pasos correspondientes) en diferentes instancias del problema.\n",
    "\n",
    "---"
   ],
   "attachments":{
    
   },
   "metadata":{
    "datalore":{
     "node_id":"syMR9Ze0dsA7l1Yyc3gfj8",
     "type":"MD",
     "hide_input_from_viewers":false,
     "hide_output_from_viewers":false,
     "report_properties":{
      
     }
    }
   }
  },
  {
   "cell_type":"markdown",
   "source":[
    "## 2. Descripción del problema\n",
    "\n",
    "El concepto de mapa que vamos a utilizar es similar al de la primera práctica. Este se representa mediante un **grafo**, donde los **nodos** representan **ciudades** y los **enlaces** indican la existencia de una **carretera en ambos sentidos** entre dos ciudades. Además, los **enlaces** tienen un **peso** asociado indicando la **distancia real** entre las dos ciudades. Al mismo tiempo, se proporciona una **sede central**, que se trata de la ciudad donde se deben dejar los paquetes. A su vez, se dispone de una **flota de vehículos** con **capacidad limitada** que deben **recoger** los **paquetes** en las ciudades correspondientes y que **inicialmente** están aparcados en la **sede central**. **En caso de que a la hora de recoger un paquete se supere la capacidad del vehículo correspondiente, este debe volver a la sede central a descargar todos los paquetes, considerando el coste que implicaría volver**.\n",
    "\n",
    "Un mapa es un problema en particular, pero diferentes paquetes, capacidades de vehículos y ubicación de la sede central pueden dar lugar a diferentes instancias del problema. Por tanto, el **objetivo** en este problema es **recoger todos los paquetes de tal manera que los vehículos recorran la menor distancia posible**.\n",
    "\n",
    "**Con el objetivo de simplificar la práctica en evaluación continua, se asume que se cuenta con un único vehículo. No obstante, esto podría cambiar para la evaluación no continua.**\n",
    "\n",
    "---"
   ],
   "attachments":{
    
   },
   "metadata":{
    "datalore":{
     "node_id":"VUjcESa3hB27UoolAy19bi",
     "type":"MD",
     "hide_input_from_viewers":false,
     "hide_output_from_viewers":false,
     "report_properties":{
      
     }
    }
   }
  },
  {
   "cell_type":"markdown",
   "source":[
    "## 3. Desarrollo de la práctica\n",
    "\n",
    "Durante el desarrollo de la práctica se va a proporcionar un conjunto de mapas, sobre los cuáles se debe resolver el problema de optimización combinatoria correspondiente. Es importante destacar que la **dimensionalidad** del **problema** (número de ciudades, carreteras y paquetes) puede ser **variable**, por lo que los diferentes **algoritmos genéticos** deben ser lo suficientemente **eficientes** para que puedan **resolver** los **problemas** en un **tiempo razonable**.\n",
    "\n",
    "**Además, algunos escenarios se van a guardar para las entrevistas de prácticas, por lo que el código debe ser lo más general posible para cargarlos de manera rápida y sencilla.**"
   ],
   "attachments":{
    
   },
   "metadata":{
    "datalore":{
     "node_id":"VaoR74xcSrrxzA6B7LMu1h",
     "type":"MD",
     "hide_input_from_viewers":false,
     "hide_output_from_viewers":false,
     "report_properties":{
      
     }
    }
   }
  },
  {
   "cell_type":"markdown",
   "source":[
    "### 3.1. Entrada\n",
    "\n",
    "Cada escenario tendrá un fichero `.json` asociado con la siguiente estructura:\n",
    "\n",
    "```JSON\n",
    "{\n",
    "    \"map\": {\n",
    "        \"cities\": [\n",
    "            {\n",
    "                \"id\": id_city_0,\n",
    "                \"name\": name_city_0,\n",
    "                \"lat\": latitude_city_0,\n",
    "                \"lon\": longitude_city_0\n",
    "            }\n",
    "        ],\n",
    "        \"roads\": [\n",
    "            {\n",
    "                \"origin\": origin_city_id,\n",
    "                \"destination\": destination_city_id,\n",
    "                \"distance\": road_distance\n",
    "            }\n",
    "        ]\n",
    "    },\n",
    "    \"warehouse\": warehouse_city_id,\n",
    "    \"vehicles\": [\n",
    "        {\n",
    "            \"id\": id_vehicle_0,\n",
    "            \"capacity\": capacity_vehicle_0\n",
    "        }\n",
    "    ]\n",
    "    \"parcels\": [\n",
    "        {\n",
    "            \"id\": id_parcel_0,\n",
    "            \"city\": parcel_city_id,\n",
    "            \"weight\": weight_parcel_0\n",
    "        }\n",
    "    ]\n",
    "}\n",
    "```\n",
    "\n",
    "Hay cuatro elementos principales en el fichero:\n",
    "\n",
    "* `map`: Un diccionario con el mapa, cuya descripción es la misma que la de la primera práctica\n",
    "* `warehouse`: Identificador de la ciudad donde se encuentra la sede central\n",
    "* `vehicles`: Lista de vehículos disponibles\n",
    "* `parcels`: Lista de paquetes a recoger\n",
    "\n",
    "Por su parte, `vehicles` contiene:\n",
    "\n",
    "* `id`: Identificador del vehículo\n",
    "* `capacity`: Capacidad máxima del vehículo\n",
    "\n",
    "Y `parcels`:\n",
    "\n",
    "* `id`: Identificador del paquete\n",
    "* `city`: Ciudad donde se encuentra el paquete\n",
    "* `weight`: Peso del paquete\n",
    "\n",
    "**Para añadir los ficheros con los problemas al espacio de trabajo se debe usar el mismo procedimiento anterior.**\n",
    "\n",
    "---"
   ],
   "attachments":{
    
   },
   "metadata":{
    "datalore":{
     "node_id":"RdalgA654CeCiLVJnmgzSG",
     "type":"MD",
     "hide_input_from_viewers":false,
     "hide_output_from_viewers":false,
     "report_properties":{
      
     }
    }
   }
  },
  {
   "cell_type":"markdown",
   "source":[
    "## 4. Plan de trabajo"
   ],
   "attachments":{
    
   },
   "metadata":{
    "datalore":{
     "node_id":"na9BOnkud99hJxOfeujKUz",
     "type":"MD",
     "hide_input_from_viewers":false,
     "hide_output_from_viewers":false,
     "report_properties":{
      
     }
    }
   }
  },
  {
   "cell_type":"markdown",
   "source":[
    "### 4.1. Formalización del problema\n",
    "\n",
    "Para resolver cualquier problema de optimización combinatoria en primer lugar hay que definir como vamos a **codificar** las **soluciones** al problema. Si bien es algo que se deja a criterio propio, se plantea la siguiente pregunta, **¿cuál puede ser la mejor representación para una secuencia de paquetes a recoger?**\n",
    "\n",
    "Se puede comprobar si la respuesta es correcta introduciéndola en la variable `answer` del siguiente fragmento de código:"
   ],
   "attachments":{
    
   },
   "metadata":{
    "datalore":{
     "node_id":"sc77dYXhPZ9qeA1QczxZrP",
     "type":"MD",
     "hide_input_from_viewers":false,
     "hide_output_from_viewers":false,
     "report_properties":{
      
     }
    }
   }
  },
  {
   "cell_type":"code",
   "source":[
    "# Third party\n",
    "import hashlib"
   ],
   "execution_count":1,
   "outputs":[
    
   ],
   "metadata":{
    "datalore":{
     "node_id":"j1BykqU48Ypy9xgBokYE1i",
     "type":"CODE",
     "hide_input_from_viewers":false,
     "hide_output_from_viewers":false,
     "report_properties":{
      
     }
    }
   }
  },
  {
   "cell_type":"code",
   "source":[
    "check_answer = lambda answer, hashed: \"The answer is \" + (\"\" if hashlib.md5(answer).hexdigest() == hashed else \"in\") + \"correct.\""
   ],
   "execution_count":2,
   "outputs":[
    
   ],
   "metadata":{
    "datalore":{
     "node_id":"R6P7n9mZ1ABeZBiLexLh1L",
     "type":"CODE",
     "hide_input_from_viewers":false,
     "hide_output_from_viewers":false,
     "report_properties":{
      
     }
    }
   }
  },
  {
   "cell_type":"code",
   "source":[
    "# TODO: Introduce here the answer to use for the hashing\n",
    "answer = \"permutation\"\n",
    "\n",
    "# Avoid case sensitivity in the answer\n",
    "answer = str.lower(answer)\n",
    "\n",
    "# Encode the answer before hashing\n",
    "answer = answer.encode(\"utf-8\")\n",
    "\n",
    "hashed = \"90d377b31e1ac26d0d10d5612ce33ccc\"  # The hashed answer\n",
    "print(hashed)\n",
    "\n",
    "check_answer(answer, hashed)"
   ],
   "execution_count":3,
   "outputs":[
    {
     "name":"stdout",
     "text":[
      "90d377b31e1ac26d0d10d5612ce33ccc\n"
     ],
     "output_type":"stream"
    },
    {
     "data":{
      "text\/plain":[
       "'The answer is correct.'"
      ]
     },
     "metadata":{
      
     },
     "output_type":"display_data"
    }
   ],
   "metadata":{
    "datalore":{
     "node_id":"GEuGrWRDYI8a8IZrqij0KF",
     "type":"CODE",
     "hide_input_from_viewers":false,
     "hide_output_from_viewers":false,
     "report_properties":{
      
     }
    }
   }
  },
  {
   "cell_type":"markdown",
   "source":[
    "### 4.2. Implementación\n",
    "\n",
    "A continuación se proporciona la estructura de clases recomendada para resolver el problema en cuestión. Tendréis que completar las siguientes clases de acuerdo con los algoritmos estudiados en teoría. **Debéis incluir en la siguiente celda todas las librerías que vayáis a utilizar para mantener la libreta lo más organizada posible**:"
   ],
   "attachments":{
    
   },
   "metadata":{
    "datalore":{
     "node_id":"L1E7XRnlYRy7oEPYUIyWSS",
     "type":"MD",
     "hide_input_from_viewers":false,
     "hide_output_from_viewers":false,
     "report_properties":{
      
     }
    }
   }
  },
  {
   "cell_type":"code",
   "source":[
    "# TODO: Import here the libraries\n",
    "from utils import *\n",
    "import math"
   ],
   "execution_count":4,
   "outputs":[
    
   ],
   "metadata":{
    "datalore":{
     "node_id":"62Rt8q8LpQ34afG23pb5F1",
     "type":"CODE",
     "hide_input_from_viewers":false,
     "hide_output_from_viewers":false,
     "report_properties":{
      
     }
    }
   }
  },
  {
   "cell_type":"markdown",
   "source":[
    "#### Clase `Individual`\n",
    "\n",
    "Esta clase proporciona la **codificación** de un **individuo** de la **población**.\n",
    "\n",
    "Los **métodos obligatorios** que se deben añadir son:\n",
    "\n",
    "* ``__init__(self, num_genes, generation_type, crossover_type, mutation_type)``: Inicializa el **número** de **genes** del **individuo** y el **tipo** de **operación** de **generación**, **cruce** y **mutación**. Ademas, genera la **solución** que **representa** el **individuo**.\n",
    "* ``generate(num_genes, generation_type)``: Método estático para **generar** una **solución** del tamaño proporcionado de acuerdo con el tipo de operación de generación.\n",
    "* ``crossover(self, individual)``: **Cruza** el **individuo actual** con el **individuo** de **entrada** de acuerdo con el tipo de operación de cruce.\n",
    "* ``mutation(self)``: **Muta** el **individuo** de acuerdo con el tipo de operación de mutación.\n",
    "* ``evaluate(self, problem)``: **Evalua** el **individuo** usando el **problema** a **resolver**.\n",
    "\n",
    "Y los **métodos recomendados** son:\n",
    "\n",
    "* ``__str__(self)``: **Representación** en formato de **cadena** de **caracteres** de un **individuo**. Método útil para depurar una lista de individuos.\n",
    "* ``__repr__(self)``: **Método** invocado cuando se ejecuta **``print``** sobre el **individuo**. Método útil para depurar un solo individuo."
   ],
   "attachments":{
    
   },
   "metadata":{
    "datalore":{
     "node_id":"ncEgrJcWJ52rHsjy80qESR",
     "type":"MD",
     "hide_input_from_viewers":false,
     "hide_output_from_viewers":false,
     "report_properties":{
      
     }
    }
   }
  },
  {
   "cell_type":"code",
   "source":[
    "# PARA PROBAR LAS PRUEBAS DE CADA MÉTODO HAY QUE EJECUTAR PRIMERO LA CELDA FINAL DE EJECUCIÓN O DESCOMENTAR ESTA CELDA\n",
    "#with open(\"\/data\/workspace_files\/spain\/example.json\", 'r', encoding='utf8') as file:\n",
    "#    problemJSON = json.load(file)"
   ],
   "execution_count":5,
   "outputs":[
    
   ],
   "metadata":{
    "datalore":{
     "node_id":"ufPUKJ02KVjtz1eLUAwL52",
     "type":"CODE",
     "hide_input_from_viewers":true,
     "hide_output_from_viewers":true
    }
   }
  },
  {
   "cell_type":"code",
   "source":[
    "class Individual:\n",
    "\n",
    "    # =============================================================================\n",
    "    # Constructor\n",
    "    # =============================================================================\n",
    "\n",
    "    # TODO: Code here the constructor\n",
    "    def __init__ (self, num_genes, generation_type, crossover_type, mutation_type):\n",
    "        self.num_genes = num_genes\n",
    "        self.generation_type = generation_type\n",
    "        self.crossover_type = crossover_type\n",
    "        self.mutation_type = mutation_type\n",
    "        self.IndSolution = self.generate(num_genes,generation_type)\n",
    "        self.fitness = math.inf\n",
    "        #CONTINUAR#\n",
    "\n",
    "    # =============================================================================\n",
    "    # Mandatory methods\n",
    "    # =============================================================================\n",
    "\n",
    "    # TODO: Code here the mandatory methods\n",
    "\n",
    "    #Método para generar individuos, se tiene en cuenta que solo existe un tipo de generación, aleatorio.\n",
    "    #Al ser un método estático puede ser llamado desde fuera sin necesidad de crear un Individuo, además no podemos usar self\n",
    "    @staticmethod\n",
    "    def generate(num_genes, generation_type):\n",
    "        IndSolution = []\n",
    "        if generation_type == \"random\":\n",
    "            \n",
    "            #Mientras tengamos una longitud menor al número de genes deseado, introducimos valores parcels aleatorios sin repetición\n",
    "            #y lo introducimos en un vector solución, que nos determina el orden de recogida de paquetes\n",
    "            while len(IndSolution) != num_genes:\n",
    "                rep = False\n",
    "                randomNumber = random.randint(0, num_genes-1)\n",
    "\n",
    "                for j in range(len(IndSolution)):\n",
    "                    if randomNumber == IndSolution[j]:\n",
    "                        rep = True\n",
    "                \n",
    "                if not rep:\n",
    "                    IndSolution.append(randomNumber)\n",
    "\n",
    "            return IndSolution\n",
    "        \n",
    "        else:\n",
    "            print(\"Tipo de generación no válido para permutaciones\")\n",
    "\n",
    "\n",
    "    #Método para aplicar cruce a dos Individuos padre, uno mismo y otro pasado por parámetro. \n",
    "    #El único cruce válido en permutaciones es el 2PCX\n",
    "    def crossover(self, individual):\n",
    "        aux1, aux2 = [], []\n",
    "        hijo1 = Individual(self.num_genes,self.generation_type,self.crossover_type,self.mutation_type)\n",
    "        hijo2 = Individual(self.num_genes,self.generation_type,self.crossover_type,self.mutation_type)\n",
    "\n",
    "        if self.crossover_type == \"2PCX\":\n",
    "            \n",
    "            finish = False\n",
    "\n",
    "            #Mientras finish sea False generamos números aleatorios para las posiciones de cruce, siempre Pos1 < Pos2\n",
    "            while not finish:\n",
    "\n",
    "                randomPosition1, randomPosition2 = random.randint(1, self.num_genes), random.randint(1, self.num_genes)\n",
    "                if randomPosition1 < randomPosition2:\n",
    "                    finish = True\n",
    "            ###print(\"PCruce1: \" + str(randomPosition1) + \"   PCruce2: \" + str(randomPosition2)+\"\\n\")\n",
    "                \n",
    "            #Ya que en el constructor de Individual self.IndSolution coge los valores que le devuelve la función generate,\n",
    "            #debemos vaciarlo antes de comenzar para tener dos vectores vacios de tamaño num_genes\n",
    "            for i in range(self.num_genes):\n",
    "                hijo1.IndSolution.pop(0)\n",
    "                hijo2.IndSolution.pop(0)\n",
    "\n",
    "            #Parte Izquierda [<=randomPosition1]\n",
    "            for i in range(randomPosition1):\n",
    "                hijo1.IndSolution.append(self.IndSolution[i])\n",
    "                hijo2.IndSolution.append(individual.IndSolution[i])\n",
    "\n",
    "            #Parte central [randomPosition+1,randomPosition2]\n",
    "            for i in range(randomPosition1, randomPosition2):\n",
    "                aux1.append(self.IndSolution[i])\n",
    "                aux2.append(individual.IndSolution[i])\n",
    "\n",
    "            #Insertamos en hijo1 con el orden de padre2\n",
    "            for i in range(self.num_genes):\n",
    "                if individual.IndSolution[i] in aux1:\n",
    "                    hijo1.IndSolution.append(individual.IndSolution[i])\n",
    "\n",
    "            #Insertamos en hijo2 con el orden de padre1\n",
    "            for i in range(self.num_genes):\n",
    "                if self.IndSolution[i] in aux2:\n",
    "                    hijo2.IndSolution.append(self.IndSolution[i])\n",
    "\n",
    "            #Parte derecha (>randomPosition2]\n",
    "            for i in range(randomPosition2, self.num_genes):\n",
    "                hijo1.IndSolution.append(self.IndSolution[i])\n",
    "                hijo2.IndSolution.append(individual.IndSolution[i])\n",
    "\n",
    "            return hijo1, hijo2\n",
    "\n",
    "        else:\n",
    "            print(\"Cruce no válido para permutaciones\")\n",
    "\n",
    "    \n",
    "    #Método que nos permite mutar el individuo propio, tenemos dos tipos de mutaciones en permutaciones: Insertion y Swapping\n",
    "    def mutation(self):\n",
    "        finish = False\n",
    "        mutado = Individual(self.num_genes,self.generation_type,self.crossover_type,self.mutation_type)\n",
    "        \n",
    "        #Al igual que antes construimos un bucle para obtener dos valores aleatorios de posición en los que Pos1 < Pos2\n",
    "        while not finish:\n",
    "            randomPosition1, randomPosition2 = random.randint(0, self.num_genes-1), random.randint(0, self.num_genes-1)\n",
    "            if randomPosition1 < randomPosition2:\n",
    "                finish = True\n",
    "        \n",
    "        ###print(\"Pos1: \" + str(randomPosition1) + \"   Pos2: \" + str(randomPosition2)+\"\\n\")\n",
    "        value1, value2 = self.IndSolution[randomPosition1], self.IndSolution[randomPosition2]\n",
    "\n",
    "        #En el caso de insertion cogemos el valor de la posición2 y lo insertamos después del valor de la posición1\n",
    "        if self.mutation_type == \"insertion\":\n",
    "            self.IndSolution.insert(randomPosition1+1, value2)\n",
    "            self.IndSolution.pop(randomPosition2+1)\n",
    "\n",
    "            mutado.IndSolution = self.IndSolution\n",
    "            return mutado\n",
    "\n",
    "        #En el caso de swapping intercambiamos los valores de posición, insertamos en la pos nueva y borramos en la pos vieja\n",
    "        elif self.mutation_type == \"swapping\":\n",
    "            self.IndSolution.insert(randomPosition1, value2)\n",
    "            self.IndSolution.pop(randomPosition1+1)\n",
    "            self.IndSolution.insert(randomPosition2, value1)\n",
    "            self.IndSolution.pop(randomPosition2+1)\n",
    "\n",
    "            mutado.IndSolution = self.IndSolution\n",
    "            return mutado\n",
    "        else:\n",
    "            print(\"Tipo de mutación no implementado\")\n",
    "    \n",
    "\n",
    "    #Este método evalua un individuo, para ello empleamos búsqueda en caminos para ir de una ciudad inicial a una ciudad objetivo\n",
    "    #donde se encuentra el siguiente paquete a recoger. También tiene en cuenta la capacidad del camión, haciendo que vuelva al\n",
    "    #almacén a descargar\n",
    "    def evaluate(self, problem):\n",
    "        totalCost = 0\n",
    "        warehouse, estadoInicial = problem['warehouse'], problem['warehouse']\n",
    "        vehicleCapacity = problem['vehicles'][0]['capacity']\n",
    "\n",
    "        i = 0\n",
    "        #Recorremos el vector solución del Individuo aplicando el algoritmo de búsqueda en caminos\n",
    "        #Empleamos el método search de CVRP para aplicar el algoritmo y, en caso de repetición de camino, leerá directamente\n",
    "        #el resultado de caché para evitar tiempo y computación de resultados\n",
    "        while i < len(self.IndSolution):\n",
    "            #Primero viajamos al siguiente objetivo haciendo la llamada a search desde nuestro inicio a nuestro objetivo\n",
    "            estadoNext = problem['parcels'][self.IndSolution[i]]['city']\n",
    "            totalCost += cvrp.search(estadoInicial, estadoNext)\n",
    "            estadoInicial = estadoNext\n",
    "            \n",
    "            #Una vez llegamos comprobamos si el paquete ubicado en esa ciudad cabe en nuestro camión.\n",
    "            #Si no cabe el camión debe volver desde esa ciudad (nuevo inicio) al almacén (warehouse) \n",
    "            if vehicleCapacity < problem['parcels'][self.IndSolution[i]]['weight']:\n",
    "                totalCost += cvrp.search(problem['parcels'][self.IndSolution[i]]['city'], warehouse) \n",
    "                vehicleCapacity = problem['vehicles'][0]['capacity']\n",
    "                estadoInicial = warehouse\n",
    "            #Si cabe lo metemos al camión y descontamos a la capacidad el peso del paquete y finalmente hacemos avanzar el\n",
    "            #bucle para ir a por el siguiente paquete\n",
    "            else:\n",
    "                vehicleCapacity -=  problem['parcels'][self.IndSolution[i]]['weight']\n",
    "                i += 1\n",
    "\n",
    "        #Una vez recogidos todos los paquetes debemos volver a nuestro almacén para hacer la última descarga de paquetes\n",
    "        totalCost += cvrp.search(estadoInicial,warehouse)\n",
    "        #Consideramos el fitness de un individuo el coste total en km del viaje.\n",
    "        self.fitness = round(totalCost,2)\n",
    "        return self.fitness\n",
    "\n",
    "    # =============================================================================\n",
    "    # Recommended methods\n",
    "    # =============================================================================\n",
    "    \n",
    "    # TODO: Code here the recommended methods\n",
    "\n",
    "    def __str__(self):\n",
    "        return f\"{self.IndSolution}\"\n",
    "    \n",
    "    def __repr__(self):\n",
    "        repr = \"\"\n",
    "        for i in range(len(self.IndSolution)):\n",
    "            repr = repr + str(self.IndSolution[i])\n",
    "        return repr"
   ],
   "execution_count":6,
   "outputs":[
    
   ],
   "metadata":{
    "datalore":{
     "node_id":"HAgyUGxYcoG2LaYD1ZRqHt",
     "type":"CODE",
     "hide_input_from_viewers":false,
     "hide_output_from_viewers":false,
     "report_properties":{
      
     }
    }
   }
  },
  {
   "cell_type":"markdown",
   "source":[
    "**Se recomienda que se prueben cada uno de los métodos implementados de manera individual en las siguientes líneas de código:**"
   ],
   "attachments":{
    
   },
   "metadata":{
    "datalore":{
     "node_id":"A0rGuLg30jplx5Z8rYbJHu",
     "type":"MD",
     "hide_input_from_viewers":false,
     "hide_output_from_viewers":false,
     "report_properties":{
      
     }
    }
   }
  },
  {
   "cell_type":"code",
   "source":[
    "# TODO: Test here the methods to generate a solution\n",
    "# individuo1 = Individual(len(problemJSON['parcels']), \"random\",\"\", \"\")\n",
    "# print(individuo1)"
   ],
   "execution_count":7,
   "outputs":[
    
   ],
   "metadata":{
    "datalore":{
     "node_id":"qMhdHZ0KvcH5mkP3JE2fYT",
     "type":"CODE",
     "hide_input_from_viewers":false,
     "hide_output_from_viewers":false,
     "report_properties":{
      
     }
    }
   }
  },
  {
   "cell_type":"code",
   "source":[
    "# TODO: Test here the methods to cross individuals\n",
    "# individuo1 = Individual(len(problemJSON['parcels']), \"random\",\"2PCX\", \"\")\n",
    "# print(\"Padre 1: \" + str(individuo1))\n",
    "# individuo2 = Individual(len(problemJSON['parcels']), \"random\",\"2PCX\", \"\")\n",
    "# print(\"Padre 2: \" + str(individuo2) + \"\\n\")\n",
    "# hijo1, hijo2 = individuo1.crossover(individuo2)\n",
    "# print(\"\\nHijo 1: \"+ str(hijo1))\n",
    "# print(\"Hijo 2: \"+ str(hijo2))"
   ],
   "execution_count":8,
   "outputs":[
    
   ],
   "metadata":{
    "datalore":{
     "node_id":"bWBCdnWzydSIDitJpwMkIa",
     "type":"CODE",
     "hide_input_from_viewers":false,
     "hide_output_from_viewers":false,
     "report_properties":{
      
     }
    }
   }
  },
  {
   "cell_type":"code",
   "source":[
    "# TODO: Test here the methods to mutate an individual\n",
    "# individuo1 = Individual(len(problemJSON['parcels']), \"random\",\"2PCX\", \"insertion\")\n",
    "# print(individuo1)\n",
    "# individuo1.mutation()\n",
    "# print(individuo1)"
   ],
   "execution_count":9,
   "outputs":[
    
   ],
   "metadata":{
    "datalore":{
     "node_id":"x4M7L4sUaPct7Oil7r5Ar3",
     "type":"CODE",
     "hide_input_from_viewers":false,
     "hide_output_from_viewers":false,
     "report_properties":{
      
     }
    }
   }
  },
  {
   "cell_type":"code",
   "source":[
    "# PRUEBA DEL MÉTODO DE EVALUACIÓN DE INDIVIDUO\n",
    "# eval = individuo1.evaluate(problemJSON)\n",
    "# print(\"Coste Individuo: \"+ str(eval)+ \" km\")"
   ],
   "execution_count":10,
   "outputs":[
    
   ],
   "metadata":{
    "datalore":{
     "node_id":"EN2ympofT4eLfSRiTyLoQt",
     "type":"CODE",
     "hide_input_from_viewers":true,
     "hide_output_from_viewers":true
    }
   }
  },
  {
   "cell_type":"markdown",
   "source":[
    "#### Clase `Genetic`\n",
    "\n",
    "Esta clase implementa un **esquema** básico de **algoritmo genético**.\n",
    "\n",
    "Los **métodos obligatorios** que se deben añadir son:\n",
    "\n",
    "* ``def __init__(self, population_size, num_generations, selection_type, crossover_type, crossover_probability, mutation_type, mutation_probability, keep_elitism, random_state)``: Inicializa el **tamaño** de la **población**, el **tipo** de **operación** de **selección**, **cruce**, y **mutación**, así como la **probabilidad** de aplicar las operaciones de **cruce** y **mutación**. Además, también inicializa el **número** de **mejores soluciones** de la **población actual** que se **mantienen** en la **siguiente población** y una **semilla** para garantizar que los **experimentos** son **reproducibles**. **Nótese que puede ser necesario añadir más argumentos si así se requiere**.\n",
    "* ``def __call__(self, problem)``: **Método** que se **ejecuta** cuando se llama a un **objeto** de la **clase como** si fuese una **función**. En este **método** se debe **implementar** el **esquema básico** de un **algoritmo genético** que se encargue de ejecutar los pasos correspondientes. \n",
    "* ``def generate_population(self, problem)``: **Genera** la **población inicial** de acuerdo con el **problema** a resolver.\n",
    "* ``def select_population(self, population, scores)``: **Selecciona** los **padres** a utilizar para la operación de cruce.\n",
    "* ``def crossover(self, population)``: **Cruza pares** de **padres** teniendo en cuenta la probabilidad de cruce.\n",
    "* ``def mutation(self, population)``: **Muta** los **individuos cruzados** teniendo en cuenta la probabilidad de mutación.\n",
    "* ``def evaluate(self, population, problem)``: **Evalua** los **nuevos individuos** de acuerdo con el problema a resolver.\n",
    "* ``def combine(self, population)``: **Forma** la **nueva generación** de acuerdo con el número de mejores individuos de la población actual a mantener en la siguiente."
   ],
   "attachments":{
    
   },
   "metadata":{
    "datalore":{
     "node_id":"QJydvpXQMeNKKbSRF67cMB",
     "type":"MD",
     "hide_input_from_viewers":false,
     "hide_output_from_viewers":false,
     "report_properties":{
      
     }
    }
   }
  },
  {
   "cell_type":"code",
   "source":[
    "class Genetic:\n",
    "\n",
    "    # =============================================================================\n",
    "    # Constructor\n",
    "    # =============================================================================\n",
    "\n",
    "    # TODO: Code here the constructor\n",
    "\n",
    "    def __init__(self, population_size, num_generations, selection_type, crossover_type, crossover_probability, mutation_type, mutation_probability, keep_elitism, random_state):\n",
    "        self.population_size = population_size\n",
    "        self.num_generations = num_generations\n",
    "        self.selection_type = selection_type\n",
    "        self.crossover_type = crossover_type\n",
    "        self.crossover_probability = crossover_probability\n",
    "        self.mutation_type = mutation_type\n",
    "        self.mutation_probability = mutation_probability\n",
    "        self.keep_elitism = keep_elitism\n",
    "        self.random_state = random_state\n",
    "        self.evaluatedInd = []\n",
    "        self.evaluatedNewInd = []\n",
    "        self.pop = []\n",
    "\n",
    "\n",
    "    # =============================================================================\n",
    "    # Mandatory methods\n",
    "    # =============================================================================\n",
    "\n",
    "    # TODO: Code here the mandatory methods\n",
    "\n",
    "    #Este método llama a todas las funciones posteriores siguiendo el esquema de un algoritmo genético y nos muestra las\n",
    "    #diferentes poblaciones resultantes de cada uno de los procesos a partir de la población actual en cada generación.\n",
    "    def __call__(self, problem):\n",
    "\n",
    "        random.seed(self.random_state)\n",
    "        \n",
    "        #Inicializamos nuestra población\n",
    "        pop = self.generate_population(problem)\n",
    "        for i in range(self.num_generations):\n",
    "            print(\"---------------Generación \"+str(i+1)+\"---------------\")\n",
    "            ###print(\"----Current Pop----\")\n",
    "            ###for i in pop:\n",
    "            ###    print(i)\n",
    "            ###print(\"\\n\")\n",
    "\n",
    "            #Evaluamos nuestra población actual\n",
    "            self.selfevaluate(problem)\n",
    "\n",
    "            #Seleccionamos individuos de nuestra población actual\n",
    "            ###print(\"-------Selection-------\")\n",
    "            selected_pop = self.select_population(pop, self.evaluatedInd)\n",
    "            ###for i in selected_pop:\n",
    "            ###    print(i)\n",
    "            ###print(\"\\n\")\n",
    "\n",
    "            #Cruzamos los individuos seleccionados\n",
    "            ###print(\"-------Crossover-------\")\n",
    "            cross_pop = self.crossover(selected_pop)\n",
    "            ###print(\"\\n\")\n",
    "            ###for i in cross_pop:\n",
    "            ###    print(i)\n",
    "            ###print(\"\\n\")\n",
    "\n",
    "            #Mutamos los individuos seleccionados y cruzados\n",
    "            ###print(\"-------Mutation-------\")\n",
    "            mutated_pop = self.mutation(cross_pop)\n",
    "            ###print(\"\\n\")\n",
    "            ###for i in mutated_pop:\n",
    "            ###    print(i)\n",
    "            ###print(\"\\n\")\n",
    "\n",
    "            #Finalmente evaluamos la población resultante y la combinamos con la actual\n",
    "            self.evaluate(mutated_pop, problem)\n",
    "            ###print(\"-------Combine-------\")\n",
    "            pop = self.combine(mutated_pop)\n",
    "            ###for i in pop:\n",
    "            ###    print(i)\n",
    "            ###print(\"\\n\")\n",
    "        return pop\n",
    "\n",
    "    \n",
    "    #Generamos los individuos de la población, tantos como nos permita el population_size\n",
    "    #Además añadimos valores a dos arrays, con los que trabajaremos luego, para que tengan tamaño population_size y\n",
    "    #evitar problemas con valores fuera de index posteriormente.\n",
    "    def generate_population(self, problem):\n",
    "        ngenes = len(problem['parcels'])\n",
    "\n",
    "        for i in range(self.population_size):\n",
    "            individuo = Individual(ngenes,\"random\",self.crossover_type, self.mutation_type)\n",
    "            self.pop.append(individuo)\n",
    "            self.evaluatedInd.append(0.0)\n",
    "            self.evaluatedNewInd.append(0.0)\n",
    "        return self.pop\n",
    "    \n",
    "\n",
    "    #Método para seleccionar individuos de la población actual, en función del fitness del individuo\n",
    "    #Nuestro objetivo es muestrear con reemplazo una distribución de probabilidad\n",
    "    def select_population(self, population, scores):\n",
    "        fitness_denom = 0.0\n",
    "        probability = 0.0\n",
    "        prob_fitness = []\n",
    "        selected_pop = []\n",
    "\n",
    "        #En nuestro caso queremos minimizar el fitness puesto que queremos minimizar el número de km, por ello la fórmula cambia\n",
    "        #a (1\/x)\/sum(1\/xi)\n",
    "\n",
    "        if self.selection_type == \"fitness\":\n",
    "            \n",
    "            #Primero calculamos la suma del denominador\n",
    "            for i in scores:\n",
    "                fitness_denom += 1\/i \n",
    "            \n",
    "            #Finalmente calculamos la probabilidad para cada individuo en función de su fitness, a cada individuo se le suma\n",
    "            #la probabilidad del individuo anterior.\n",
    "            for i in population:\n",
    "                probability += (1\/i.fitness)\/fitness_denom\n",
    "                prob_fitness.append(probability)\n",
    "\n",
    "            #Para seleccionar debemos generar números aleatorios del 0 al 1 y añadiendo a la población seleccionada aquel \n",
    "            #primer individuo que tenga una probabilidad acumulativa mayor que el número random.\n",
    "            for i in range(self.population_size):\n",
    "                randomNumber = random.uniform(0, 1)\n",
    "\n",
    "                for i in range(len(prob_fitness)):\n",
    "                    if randomNumber < prob_fitness[i]:\n",
    "                        selected_pop.append(population[i])\n",
    "                        break\n",
    "            return selected_pop\n",
    "\n",
    "        elif self.selection_type == \"range\":\n",
    "            print(\"Método de selección no implementado\")\n",
    "\n",
    "        elif self.selection_type == \"tournament\": \n",
    "            print(\"Método de selección no implementado\")\n",
    "\n",
    "        else:\n",
    "            print(\"Método de selección inválido\")\n",
    "    \n",
    "\n",
    "    #Método para realizar el cruce entre los individuos de las poblaciones, para ello debemos conocer el número de parejas\n",
    "    #dividiendo entre 2, en caso de que exista resto (número de población impar), este individuo se añade al final\n",
    "    def crossover(self, population):\n",
    "        \n",
    "        if self.crossover_type == \"2PCX\":\n",
    "        \n",
    "            newPop = []\n",
    "    \n",
    "            num_pairs = int(len(population)\/2)\n",
    "            aux = 0\n",
    "\n",
    "            #Recorriendo las parejas sacamos los padres (es necesario hacer un deepcopy ya que sin el, al modificar parent1 y 2,\n",
    "            #también se modificaría population[aux])\n",
    "            for i in range(num_pairs):\n",
    "                parent1 = copy.deepcopy(population[aux])\n",
    "                aux += 1\n",
    "                parent2 = copy.deepcopy(population[aux])\n",
    "                aux += 1\n",
    "\n",
    "                #Generamos números aleatorios y si el número es menor de la probabilidad de cruce se produce el cruce llamando\n",
    "                #al método crossover de la clase Individual, si se produce cruce añadimos los dos hijos y si no los padres\n",
    "                randomNumber = random.uniform(0, 1)\n",
    "                if randomNumber < self.crossover_probability:\n",
    "                    ###print(\"Pareja: \"+str(i+1)+\"    \")\n",
    "                    child1, child2 = parent1.crossover(parent2)\n",
    "                    newPop.append(child1)\n",
    "                    newPop.append(child2)\n",
    "                else:\n",
    "                    newPop.append(parent1)\n",
    "                    newPop.append(parent2)\n",
    "        \n",
    "            if len(population) % 2 != 0:\n",
    "                newPop.append(copy.deepcopy(population[len(population) - 1]))\n",
    "\n",
    "            return newPop\n",
    "        else:\n",
    "            print(\"Cruce no válido para permutaciones\")\n",
    "    \n",
    "\n",
    "    #Método para realizar la mutación de los individuos de la población.\n",
    "    def mutation(self, population):\n",
    "        mutatedPop = []\n",
    "        aux=1\n",
    "\n",
    "        for i in population:\n",
    "            #Para cada individuo de la población generamos su número random, si es menor que la probabilidad de mutación\n",
    "            #se produce la mutación llamando al método mutation de la clase Individual.\n",
    "            \n",
    "            randomNumber = random.uniform(0, 1)\n",
    "            if randomNumber < self.mutation_probability:\n",
    "                ###print(\"Cromosoma: \"+str(aux)+\"    \")\n",
    "                mutatedPop.append(copy.deepcopy(i.mutation()))\n",
    "            else:\n",
    "                mutatedPop.append(copy.deepcopy(i))\n",
    "            aux += 1\n",
    "        return mutatedPop\n",
    "    \n",
    "\n",
    "    #Método adicional, creado simplemente para el método combinar, que emplea dos poblaciones, evalua todos los individuos\n",
    "    #de la población actual, para ello llama al método evaluate de Individual\n",
    "    def selfevaluate(self, problem):\n",
    "\n",
    "        for i in range(self.population_size):\n",
    "            self.evaluatedInd[i] = round(self.pop[i].evaluate(problem),2)\n",
    "\n",
    "    #Método para evaluar los individuos de la población pasada por parámetro, para ello llama al método evaluate de Individual\n",
    "    def evaluate(self, population, problem):\n",
    "\n",
    "        for i in range(len(population)):\n",
    "            self.evaluatedNewInd[i] = round(population[i].evaluate(problem),2)\n",
    "    \n",
    "\n",
    "    #Método que nos permite combinar dos poblaciones, la actual y aquella seleccionada después de aplicar cruce y mutación\n",
    "    def combine(self, population):\n",
    "        finalPop = []\n",
    "        #Almacenamos el vector de evaluación de la población actual\n",
    "        evaluated = copy.deepcopy(self.evaluatedInd)\n",
    "        #Almacenamos el vector de evaluación de la población seleccionada, cruzada y mutada\n",
    "        evaluatedNew = copy.deepcopy(self.evaluatedNewInd)\n",
    "\n",
    "        #Si keep-elitism es True, debemos añadir a la población resultado el individuo de menor fitness de la población actual\n",
    "        if self.keep_elitism:\n",
    "            valorMin = math.inf\n",
    "            \n",
    "            #Sacamos el valor mínimo\n",
    "            for i in evaluated:\n",
    "                if i < valorMin:\n",
    "                    valorMin = i\n",
    "\n",
    "            #Borramos el individuo de valor mínimo, en caso de haber dos se borra solo el primero (break)\n",
    "            for i in evaluated:\n",
    "                if evaluated:\n",
    "                    if i == valorMin:\n",
    "                        evaluated.remove(i)\n",
    "                        break\n",
    "            \n",
    "            #Añadimos ese individuo a la población final\n",
    "            for i in range(len(self.evaluatedInd)):   \n",
    "                if self.evaluatedInd[i] == valorMin:\n",
    "                    finalPop.append(self.pop[i])\n",
    "                    break\n",
    "            \n",
    "            rest = self.population_size - 1\n",
    "        else:\n",
    "            rest = self.population_size\n",
    "\n",
    "        #Para el tamaño de población restante hacemos el mismo proceso para la población seleccionada, cruzada y mutada\n",
    "        for i in range(rest):\n",
    "            valorMin = math.inf\n",
    "                \n",
    "            for i in evaluatedNew:\n",
    "                if i < valorMin:\n",
    "                    valorMin = i\n",
    "\n",
    "            for i in evaluatedNew:\n",
    "                if evaluatedNew:\n",
    "                    if i == valorMin:\n",
    "                        evaluatedNew.remove(i)\n",
    "                        break\n",
    "            \n",
    "            for i in range(len(self.evaluatedNewInd)):\n",
    "                if self.evaluatedNewInd[i] == valorMin:\n",
    "                    finalPop.append(population[i])\n",
    "                    \n",
    "                    break\n",
    "\n",
    "        for i in range(self.population_size):\n",
    "            self.pop[i]=finalPop[i]\n",
    "\n",
    "        return finalPop\n",
    "            "
   ],
   "execution_count":11,
   "outputs":[
    
   ],
   "metadata":{
    "datalore":{
     "node_id":"RLvvdUCS6ybKqAdMohihW7",
     "type":"CODE",
     "hide_input_from_viewers":false,
     "hide_output_from_viewers":false,
     "report_properties":{
      
     }
    }
   }
  },
  {
   "cell_type":"markdown",
   "source":[
    "**Se recomienda que se prueben cada uno de los métodos implementados de manera individual en las siguientes líneas de código:**"
   ],
   "attachments":{
    
   },
   "metadata":{
    "datalore":{
     "node_id":"gbmyb1Y7HDt8hj3HbK4pyg",
     "type":"MD",
     "hide_input_from_viewers":false,
     "hide_output_from_viewers":false,
     "report_properties":{
      
     }
    }
   }
  },
  {
   "cell_type":"code",
   "source":[
    "# TODO: Test here the methods to generate a population\n",
    "# genetico = Genetic(10, 1, \"fitness\", \"2PCX\", 1, \"swapping\", 1, False, 123)\n",
    "# pop = genetico.generate_population(problemJSON)\n",
    "# print(\"Current Population\")\n",
    "# for i in pop:\n",
    "#     print(i)\n",
    "# print(\"\\n\")"
   ],
   "execution_count":12,
   "outputs":[
    
   ],
   "metadata":{
    "datalore":{
     "node_id":"FOi9zMZg3wyLatmKT78I1V",
     "type":"CODE",
     "hide_input_from_viewers":false,
     "hide_output_from_viewers":false,
     "report_properties":{
      
     }
    }
   }
  },
  {
   "cell_type":"code",
   "source":[
    "# TODO: Test here the methods to select individuals\n",
    "# genetico.selfevaluate(problemJSON)\n",
    "# selectedPop = genetico.select_population(pop,genetico.evaluatedInd)\n",
    "# for i in selectedPop:\n",
    "#     print(i)"
   ],
   "execution_count":13,
   "outputs":[
    
   ],
   "metadata":{
    "datalore":{
     "node_id":"GyAO00SfnmWSXlRQCsyvkf",
     "type":"CODE",
     "hide_input_from_viewers":false,
     "hide_output_from_viewers":false,
     "report_properties":{
      
     }
    }
   }
  },
  {
   "cell_type":"code",
   "source":[
    "#Test here the methods to crossover populations\n",
    "# print(\"Selected Population\")\n",
    "# for i in selectedPop:\n",
    "#     print(i)\n",
    "# print(\"\\n\")\n",
    "\n",
    "# newPop = genetico.crossover(selectedPop)\n",
    "\n",
    "# print(\"\\n\")\n",
    "# print(\"Crossover Population\")\n",
    "# for i in newPop:\n",
    "#     print(i)"
   ],
   "execution_count":14,
   "outputs":[
    
   ],
   "metadata":{
    "datalore":{
     "node_id":"3ZvkygG2klnSdTyYdnxbDH",
     "type":"CODE",
     "hide_input_from_viewers":true,
     "hide_output_from_viewers":true
    }
   }
  },
  {
   "cell_type":"code",
   "source":[
    "#Test here the methods to mutate populations\n",
    "# print(\"Crossover Population\")\n",
    "# for i in newPop:\n",
    "#     print(i)\n",
    "# print(\"\\n\")\n",
    "\n",
    "# mutatedPop = genetico.mutation(newPop)\n",
    "\n",
    "# print(\"\\n\")\n",
    "# print(\"Crossover+Mutated Population\")\n",
    "# for i in mutatedPop:\n",
    "#     print(i)"
   ],
   "execution_count":15,
   "outputs":[
    
   ],
   "metadata":{
    "datalore":{
     "node_id":"RzNxrCgZUBkL2NoHmeBTOI",
     "type":"CODE",
     "hide_input_from_viewers":true,
     "hide_output_from_viewers":true
    }
   }
  },
  {
   "cell_type":"code",
   "source":[
    "#Comparación de la población con los individuos seleccionados tras cruce y mutación\n",
    "# print(\"Current Population\")\n",
    "# for i in pop:\n",
    "#     print(i)\n",
    "# print(\"\\n\")\n",
    "# genetico.evaluate(pop, problemJSON)\n",
    "# print(genetico.evaluatedInd)\n",
    "# print(\"------------------------------------------------------\")\n",
    "# genetico.evaluate(mutatedPop, problemJSON)\n",
    "# print(genetico.evaluatedNewInd)\n",
    "# print(\"\\n\")\n",
    "# print(\"Crossover+Mutated Population\")\n",
    "# for i in mutatedPop:\n",
    "#     print(i)"
   ],
   "execution_count":16,
   "outputs":[
    
   ],
   "metadata":{
    "datalore":{
     "node_id":"uusYpbvNcRquz9xKi8p3x3",
     "type":"CODE",
     "hide_input_from_viewers":true,
     "hide_output_from_viewers":true
    }
   }
  },
  {
   "cell_type":"code",
   "source":[
    "# TODO: Test here the methods to combine populations\n",
    "# print(\"Combined\/Final Population\")\n",
    "# finalPop = genetico.combine(mutatedPop)\n",
    "# for i in finalPop:\n",
    "#     print(i)"
   ],
   "execution_count":17,
   "outputs":[
    
   ],
   "metadata":{
    "datalore":{
     "node_id":"kcU1A7LoOYqfSb3JXLcIE9",
     "type":"CODE",
     "hide_input_from_viewers":false,
     "hide_output_from_viewers":false,
     "report_properties":{
      
     }
    }
   }
  },
  {
   "cell_type":"markdown",
   "source":[
    "#### Clase `CVRP`\n",
    "\n",
    "Esta clase representa el problema en cuestión, esto es, el **problema** de **ruteo** de **vehículos**.\n",
    "\n",
    "Los **métodos obligatorios** que se deben añadir son:\n",
    "\n",
    "* ``def __init__(self, filename, algorithm)``: Inicializa el **problema** en cuestión y el **algoritmo** a usar para resolverlo. A su vez, se debe crear un **diccionario** que contenga como **clave** un **identificador** de **paquete** y como **valor** una **tupla** con la **ciudad** donde se encuentra dicho paquete y su **peso**.\n",
    "* ``def __call__(self)``: **Resuelve** el **problema** en cuestión.\n",
    "* ``def evaluate(self, solution)``: **Evalua** una **solución** para el **problema** en cuestión, **teniendo en cuenta** las **restricciones correspondientes**.\n",
    "* ``def search(self, departure, goal)``: **Resuelve** un **problema** de **búsqueda** de **caminos** dada las **ciudades** de **salida** y **meta**.\n",
    "\n",
    "**Nótese que se puede crear una estructura de datos para agilizar el proceso de búsqueda de caminos requerido por el algoritmo ¿cuál puede ser?**"
   ],
   "attachments":{
    
   },
   "metadata":{
    "datalore":{
     "node_id":"ABJANTvB3nbrdRJJ6xfmXo",
     "type":"MD",
     "hide_input_from_viewers":false,
     "hide_output_from_viewers":false,
     "report_properties":{
      
     }
    }
   }
  },
  {
   "cell_type":"code",
   "source":[
    "# TODO: Introduce here the answer to use for the hashing\n",
    "answer = \"cache\"\n",
    "\n",
    "# Avoid case sensitivity in the answer\n",
    "answer = str.lower(answer)\n",
    "\n",
    "# Encode the answer before hashing\n",
    "answer = answer.encode(\"utf-8\")\n",
    "\n",
    "encoded = \"0fea6a13c52b4d4725368f24b045ca84\"  # The hashed answer\n",
    "print(encoded)\n",
    "\n",
    "check_answer(answer, encoded)"
   ],
   "execution_count":18,
   "outputs":[
    {
     "name":"stdout",
     "text":[
      "0fea6a13c52b4d4725368f24b045ca84\n"
     ],
     "output_type":"stream"
    },
    {
     "data":{
      "text\/plain":[
       "'The answer is correct.'"
      ]
     },
     "metadata":{
      
     },
     "output_type":"display_data"
    }
   ],
   "metadata":{
    "datalore":{
     "node_id":"skolk6M2LsHFH7WW5vxnAD",
     "type":"CODE",
     "hide_input_from_viewers":false,
     "hide_output_from_viewers":false,
     "report_properties":{
      
     }
    }
   }
  },
  {
   "cell_type":"code",
   "source":[
    "class CVRP:\n",
    "\n",
    "    # =============================================================================\n",
    "    # Constructor\n",
    "    # =============================================================================\n",
    "\n",
    "    # TODO: Code here the constructor\n",
    "    \n",
    "    def __init__(self, filename, algorithm):\n",
    "        self.filename = filename\n",
    "        self.algorithm = algorithm\n",
    "        self.solution = []\n",
    "        self.dicc = {parcel['id']: (parcel['city'],parcel['weight']) for parcel in problemJSON['parcels']}\n",
    "        self.cache = dict()\n",
    "\n",
    "    # =============================================================================\n",
    "    # Mandatory methods\n",
    "    # =============================================================================\n",
    "\n",
    "    # TODO: Code here the mandatory methods\n",
    "\n",
    "    #Con este método llamamos al algoritmo Genético pasándole el problema por parámetro y evaluamos la solución final\n",
    "    def __call__(self):\n",
    "        valormin = math.inf\n",
    "        tiempoInicio = time.perf_counter()\n",
    "        self.solution = self.algorithm(problemJSON)\n",
    "        evaluated = self.evaluate(self.solution)\n",
    "        for i in evaluated:\n",
    "            if i < valormin:\n",
    "                valormin = i\n",
    "        for i in evaluated:\n",
    "            if i == valormin:\n",
    "                print(\"La puntuación del mejor individuo es: \" +str(i)+\"\\n\")\n",
    "                break\n",
    "\n",
    "        tiempoFinal = time.perf_counter()\n",
    "        tiempoTotal = round((tiempoFinal - tiempoInicio)*1000,4)\n",
    "        print(\"Tiempo de ejecución: \" + str(tiempoTotal) + \" milisegundos \\n\")\n",
    "        return self.solution\n",
    "    \n",
    "    #Este método evalua la solución pasada como parámetro\n",
    "    def evaluate(self, solution):\n",
    "        self.algorithm.evaluate(self.solution, problemJSON)\n",
    "        print(\"\\nEvaluación Final: \\n\" +str(self.algorithm.evaluatedNewInd) + \"\\n\")\n",
    "        return self.algorithm.evaluatedNewInd\n",
    "\n",
    "    #Este método nos resuelve el problema de búsqueda de caminos, para ello emplea AStar, siempre con la heurística euclidea,\n",
    "    #además inplementa una caché que nos servirá para ahorrar tiempo y computación, para ello primero comprueba si el camino \n",
    "    #está guardado en caché, si esta lo devuelve y si no llama a AStar y guarda el resultado en caché.\n",
    "    def search(self, departure, goal):\n",
    "\n",
    "\n",
    "        prob = Problem(problemJSON, departure, goal)\n",
    "       \n",
    "        if (departure,goal) in self.cache:\n",
    "            #print(\"Dentro de cache\")\n",
    "            return self.cache[(departure,goal)]\n",
    "        else:\n",
    "            #print(\"Fuera de cache\")\n",
    "            search = AStar(prob, 'euclidea')\n",
    "            cost = round(search.doSearch(),2)\n",
    "            self.cache[(departure,goal)] = cost\n",
    "        return cost"
   ],
   "execution_count":19,
   "outputs":[
    
   ],
   "metadata":{
    "datalore":{
     "node_id":"dKLgpxk5uGiulUFQQ1dKB2",
     "type":"CODE",
     "hide_input_from_viewers":false,
     "hide_output_from_viewers":false,
     "report_properties":{
      
     }
    }
   }
  },
  {
   "cell_type":"markdown",
   "source":[
    "**Se recomienda que se prueben cada uno de los métodos implementados de manera individual en las siguientes líneas de código:**"
   ],
   "attachments":{
    
   },
   "metadata":{
    "datalore":{
     "node_id":"llGypZPWDhZRcvtvII4bZA",
     "type":"MD",
     "hide_input_from_viewers":true,
     "hide_output_from_viewers":true,
     "report_properties":{
      
     }
    }
   }
  },
  {
   "cell_type":"code",
   "source":[
    "# TODO: Test here the method to initialize the capacited vehicle routing problem\n",
    "with open(\"\/data\/workspace_files\/spain\/example.json\", 'r', encoding='utf8') as file:\n",
    "    problemJSON = json.load(file)\n",
    "genetico = Genetic(10, 50, \"fitness\", \"2PCX\", 0.9, \"swapping\", 0.1, False, 0)\n",
    "cvrp = CVRP(\"\/data\/workspace_files\/spain\/example.json\",genetico)"
   ],
   "execution_count":20,
   "outputs":[
    
   ],
   "metadata":{
    "datalore":{
     "node_id":"Bia29BOdqugjIaMw09HJYE",
     "type":"CODE",
     "hide_input_from_viewers":false,
     "hide_output_from_viewers":false,
     "report_properties":{
      
     }
    }
   }
  },
  {
   "cell_type":"code",
   "source":[
    "# TODO: Test here the method to solve the search problem\n",
    "#Para comprobar si el valor está dentro o fuera de caché hay que descomentar los prints del método search\n",
    "cvrp.search(3,0)"
   ],
   "execution_count":21,
   "outputs":[
    {
     "data":{
      "text\/plain":[
       "586.1"
      ]
     },
     "metadata":{
      
     },
     "output_type":"display_data"
    }
   ],
   "metadata":{
    "datalore":{
     "node_id":"DBniyKLSb6eBHrDuRwsqyV",
     "type":"CODE",
     "hide_input_from_viewers":false,
     "hide_output_from_viewers":false,
     "report_properties":{
      
     }
    }
   }
  },
  {
   "cell_type":"code",
   "source":[
    "# TODO: Test here the method to solve the capacited vehicle routing problem\n",
    "# Para ejecutar esta tercera celda primero hay que ejecutar primero la primera (2 arriba) cada vez\n",
    "sol = cvrp()\n",
    "print(\"Solución Final:\")\n",
    "for i in sol:\n",
    "    print(i)"
   ],
   "execution_count":22,
   "outputs":[
    {
     "name":"stdout",
     "text":[
      "---------------Generación 1---------------\n",
      "---------------Generación 2---------------\n",
      "---------------Generación 3---------------\n",
      "---------------Generación 4---------------\n",
      "---------------Generación 5---------------\n",
      "---------------Generación 6---------------\n",
      "---------------Generación 7---------------\n",
      "---------------Generación 8---------------\n",
      "---------------Generación 9---------------\n",
      "---------------Generación 10---------------\n",
      "---------------Generación 11---------------\n",
      "---------------Generación 12---------------\n",
      "---------------Generación 13---------------\n",
      "---------------Generación 14---------------\n",
      "---------------Generación 15---------------\n",
      "---------------Generación 16---------------\n",
      "---------------Generación 17---------------\n",
      "---------------Generación 18---------------\n",
      "---------------Generación 19---------------\n",
      "---------------Generación 20---------------\n",
      "---------------Generación 21---------------\n",
      "---------------Generación 22---------------\n",
      "---------------Generación 23---------------\n",
      "---------------Generación 24---------------\n",
      "---------------Generación 25---------------\n",
      "---------------Generación 26---------------\n",
      "---------------Generación 27---------------\n",
      "---------------Generación 28---------------\n",
      "---------------Generación 29---------------\n",
      "---------------Generación 30---------------\n",
      "---------------Generación 31---------------\n",
      "---------------Generación 32---------------\n",
      "---------------Generación 33---------------\n",
      "---------------Generación 34---------------\n",
      "---------------Generación 35---------------\n",
      "---------------Generación 36---------------\n",
      "---------------Generación 37---------------\n",
      "---------------Generación 38---------------\n",
      "---------------Generación 39---------------\n",
      "---------------Generación 40---------------\n",
      "---------------Generación 41---------------\n",
      "---------------Generación 42---------------\n",
      "---------------Generación 43---------------\n",
      "---------------Generación 44---------------\n",
      "---------------Generación 45---------------\n",
      "---------------Generación 46---------------\n",
      "---------------Generación 47---------------\n",
      "---------------Generación 48---------------\n",
      "---------------Generación 49---------------\n",
      "---------------Generación 50---------------\n",
      "\n",
      "Evaluación Final: \n",
      "[4463.0, 4511.0, 4519.0, 4519.0, 4519.0, 4547.0, 5033.0, 5285.0, 5285.0, 5313.0]\n",
      "\n",
      "La puntuación del mejor individuo es: 4463.0\n",
      "\n",
      "Tiempo de ejecución: 32745.7476 milisegundos \n",
      "\n",
      "Solución Final:\n",
      "[1, 3, 0, 2, 4, 5]\n",
      "[5, 3, 2, 4, 0, 1]\n",
      "[5, 3, 2, 0, 4, 1]\n",
      "[5, 3, 2, 0, 4, 1]\n",
      "[5, 3, 2, 0, 4, 1]\n",
      "[5, 2, 3, 0, 4, 1]\n",
      "[5, 3, 0, 2, 4, 1]\n",
      "[2, 3, 5, 0, 4, 1]\n",
      "[2, 3, 5, 0, 4, 1]\n",
      "[2, 5, 3, 0, 4, 1]\n"
     ],
     "output_type":"stream"
    }
   ],
   "metadata":{
    "datalore":{
     "node_id":"cy404oaoVQkMmldm92K5Sd",
     "type":"CODE",
     "hide_input_from_viewers":false,
     "hide_output_from_viewers":false,
     "report_properties":{
      
     }
    }
   }
  },
  {
   "cell_type":"markdown",
   "source":[
    "### 4.3. Estudio y mejora de los algoritmos\n",
    "\n",
    "Una vez que los algoritmos han sido implementados, se debe **estudiar** su **rendimiento**. Para ello, se debe comparar la **calidad** de las **soluciones obtenidas**, así como las **diferentes estadísticas** que se consideren adecuadas (número de generaciones, tiempo de ejecución, etc.). Factores como el tamaño máximo del problema que se soporta sin un error de memoria, así como el efecto temporal de usar escenarios más complejos son otros factores a tener en cuenta. Además, se **pueden proponer** y se valorarán la incorporación de **técnicas** que **permitan acelerar** la **ejecución** de los **algoritmos**.\n",
    "\n",
    "---"
   ],
   "attachments":{
    
   },
   "metadata":{
    "datalore":{
     "node_id":"FzMRpxidPP2TpHDaxpFsp1",
     "type":"MD",
     "hide_input_from_viewers":false,
     "hide_output_from_viewers":false,
     "report_properties":{
      
     }
    }
   }
  },
  {
   "cell_type":"code",
   "source":[
    "# TODO: Experiment here with the small problem\n",
    "#Abrimos el fichero json con el que trabajaremos\n",
    "# Para ver que está ocurriendo en cada generación hay que desmarcar todos los comentarios ###, se pueden encontrar\n",
    "# facilmente con ctrl+f y buscando '###'\n",
    "with open(\"\/data\/workspace_files\/spain\/small.json\", 'r', encoding='utf8') as file:\n",
    "    problemJSON = json.load(file)\n",
    "\n",
    "PopSize = 10\n",
    "NumGens = 2\n",
    "SelectionType = \"fitness\"\n",
    "CrossType = \"2PCX\"\n",
    "CrossProb = 0.4\n",
    "MutType = \"swapping\" #También puede tomar valor \"insertion\"\n",
    "MutProb = 0.1\n",
    "Elitism = False\n",
    "Seed = 12345\n",
    "\n",
    "genetico = Genetic(PopSize, NumGens, SelectionType, CrossType, CrossProb, MutType, MutProb, Elitism, Seed)\n",
    "\n",
    "#Pasamos por parámetro el JSON empleado en CVRP\n",
    "cvrp = CVRP(\"\/data\/workspace_files\/spain\/small.json\",genetico)\n",
    "sol = cvrp()\n",
    "print(\"Solución Final:\")\n",
    "for i in sol:\n",
    "    print(i)\n",
    "    "
   ],
   "execution_count":23,
   "outputs":[
    {
     "name":"stdout",
     "text":[
      "---------------Generación 1---------------\n",
      "---------------Generación 2---------------\n",
      "\n",
      "Evaluación Final: \n",
      "[17530.29, 17530.29, 17530.29, 18626.21, 19919.65, 20231.98, 20344.85, 20344.85, 20627.24, 20647.49]\n",
      "\n",
      "La puntuación del mejor individuo es: 17530.29\n",
      "\n",
      "Tiempo de ejecución: 8651.3972 milisegundos \n",
      "\n",
      "Solución Final:\n",
      "[13, 23, 0, 9, 11, 6, 8, 18, 5, 3, 17, 20, 10, 24, 19, 21, 22, 4, 2, 16, 12, 14, 7, 1, 15]\n",
      "[13, 23, 0, 9, 11, 6, 8, 18, 5, 3, 17, 20, 10, 24, 19, 21, 22, 4, 2, 16, 12, 14, 7, 1, 15]\n",
      "[13, 23, 0, 9, 11, 6, 8, 18, 5, 3, 17, 20, 10, 24, 19, 21, 22, 4, 2, 16, 12, 14, 7, 1, 15]\n",
      "[12, 2, 6, 0, 3, 10, 8, 18, 7, 17, 19, 9, 11, 1, 5, 4, 15, 13, 16, 23, 21, 24, 14, 20, 22]\n",
      "[13, 23, 0, 9, 11, 6, 8, 18, 16, 3, 17, 20, 10, 24, 19, 21, 22, 4, 2, 5, 12, 14, 7, 1, 15]\n",
      "[21, 18, 12, 19, 9, 11, 1, 5, 4, 7, 10, 0, 3, 16, 6, 8, 17, 14, 20, 22, 2, 23, 13, 15, 24]\n",
      "[3, 15, 7, 18, 1, 11, 5, 16, 6, 24, 2, 17, 4, 20, 0, 8, 9, 19, 10, 13, 14, 12, 23, 21, 22]\n",
      "[3, 15, 7, 18, 1, 11, 5, 16, 6, 24, 2, 17, 4, 20, 0, 8, 9, 19, 10, 13, 14, 12, 23, 21, 22]\n",
      "[6, 23, 24, 17, 21, 5, 8, 18, 13, 16, 4, 1, 9, 0, 7, 11, 10, 12, 22, 14, 2, 3, 15, 19, 20]\n",
      "[21, 6, 12, 19, 9, 11, 1, 5, 4, 7, 10, 0, 3, 8, 18, 17, 16, 14, 20, 22, 2, 23, 13, 15, 24]\n"
     ],
     "output_type":"stream"
    }
   ],
   "metadata":{
    "datalore":{
     "node_id":"2VfPCt6k4D9scIvVlHIlAy",
     "type":"CODE",
     "hide_input_from_viewers":false,
     "hide_output_from_viewers":false,
     "report_properties":{
      
     }
    }
   }
  },
  {
   "cell_type":"code",
   "source":[
    "# TODO: Experiment here with the medium problem\n",
    "#Abrimos el fichero json con el que trabajaremos\n",
    "# Para ver que está ocurriendo en cada generación hay que desmarcar todos los comentarios ###, se pueden encontrar\n",
    "# facilmente con ctrl+f y buscando '###'\n",
    "with open(\"\/data\/workspace_files\/spain\/medium.json\", 'r', encoding='utf8') as file:\n",
    "    problemJSON = json.load(file)\n",
    "\n",
    "PopSize = 10\n",
    "NumGens = 2\n",
    "SelectionType = \"fitness\"\n",
    "CrossType = \"2PCX\"\n",
    "CrossProb = 0.4\n",
    "MutType = \"swapping\" #También puede tomar valor \"insertion\"\n",
    "MutProb = 0.1\n",
    "Elitism = False\n",
    "Seed = 123\n",
    "\n",
    "genetico = Genetic(PopSize, NumGens, SelectionType, CrossType, CrossProb, MutType, MutProb, Elitism, Seed)\n",
    "\n",
    "#Pasamos por parámetro el JSON empleado en CVRP\n",
    "cvrp = CVRP(\"\/data\/workspace_files\/spain\/medium.json\",genetico)\n",
    "sol = cvrp()\n",
    "print(\"Solución Final:\")\n",
    "for i in sol:\n",
    "    print(i)"
   ],
   "execution_count":24,
   "outputs":[
    {
     "name":"stdout",
     "text":[
      "---------------Generación 1---------------\n",
      "---------------Generación 2---------------\n",
      "\n",
      "Evaluación Final: \n",
      "[51172.03, 52302.11, 53077.35, 53077.35, 53077.35, 53077.35, 53601.74, 54292.17, 54300.37, 54385.22]\n",
      "\n",
      "La puntuación del mejor individuo es: 51172.03\n",
      "\n",
      "Tiempo de ejecución: 27931.3331 milisegundos \n",
      "\n",
      "Solución Final:\n",
      "[51, 70, 60, 7, 48, 72, 53, 33, 88, 84, 41, 17, 9, 29, 94, 98, 65, 86, 46, 28, 35, 4, 59, 68, 8, 2, 36, 91, 79, 63, 58, 56, 83, 54, 24, 11, 19, 30, 38, 18, 50, 5, 69, 21, 95, 81, 13, 31, 16, 61, 37, 25, 27, 47, 64, 66, 78, 80, 96, 97, 82, 92, 99, 43, 52, 75, 39, 42, 74, 44, 62, 55, 0, 67, 77, 14, 6, 3, 12, 90, 26, 93, 15, 22, 34, 85, 10, 23, 20, 57, 73, 89, 1, 32, 45, 87, 71, 76, 40, 49]\n",
      "[6, 34, 11, 98, 52, 13, 4, 48, 68, 71, 42, 43, 20, 17, 89, 31, 0, 55, 99, 76, 8, 40, 93, 57, 5, 85, 18, 16, 2, 37, 73, 61, 33, 60, 39, 66, 26, 77, 81, 67, 72, 1, 50, 82, 65, 87, 62, 53, 47, 96, 23, 92, 10, 84, 21, 70, 9, 58, 49, 24, 75, 80, 46, 45, 29, 51, 64, 7, 36, 63, 97, 69, 22, 19, 56, 59, 32, 79, 90, 88, 3, 41, 44, 91, 86, 30, 95, 83, 15, 94, 38, 54, 28, 25, 78, 74, 27, 35, 14, 12]\n",
      "[44, 86, 64, 81, 56, 28, 8, 54, 95, 60, 50, 40, 6, 53, 4, 59, 89, 91, 1, 11, 41, 14, 45, 46, 99, 30, 70, 88, 71, 93, 98, 75, 43, 85, 29, 23, 16, 83, 57, 25, 34, 69, 39, 9, 26, 15, 66, 76, 62, 65, 51, 90, 63, 24, 42, 94, 48, 13, 32, 47, 22, 10, 82, 55, 5, 12, 38, 77, 3, 36, 19, 68, 96, 78, 20, 61, 80, 92, 37, 72, 67, 7, 74, 49, 17, 21, 58, 79, 31, 27, 84, 97, 2, 18, 52, 33, 73, 87, 0, 35]\n",
      "[44, 86, 64, 81, 56, 28, 8, 54, 95, 60, 50, 40, 6, 53, 4, 59, 89, 91, 1, 11, 41, 14, 45, 46, 99, 30, 70, 88, 71, 93, 98, 75, 43, 85, 29, 23, 16, 83, 57, 25, 34, 69, 39, 9, 26, 15, 66, 76, 62, 65, 51, 90, 63, 24, 42, 94, 48, 13, 32, 47, 22, 10, 82, 55, 5, 12, 38, 77, 3, 36, 19, 68, 96, 78, 20, 61, 80, 92, 37, 72, 67, 7, 74, 49, 17, 21, 58, 79, 31, 27, 84, 97, 2, 18, 52, 33, 73, 87, 0, 35]\n",
      "[44, 86, 64, 81, 56, 28, 8, 54, 95, 60, 50, 40, 6, 53, 4, 59, 89, 91, 1, 11, 41, 14, 45, 46, 99, 30, 70, 88, 71, 93, 98, 75, 43, 85, 29, 23, 16, 83, 57, 25, 34, 69, 39, 9, 26, 15, 66, 76, 62, 65, 51, 90, 63, 24, 42, 94, 48, 13, 32, 47, 22, 10, 82, 55, 5, 12, 38, 77, 3, 36, 19, 68, 96, 78, 20, 61, 80, 92, 37, 72, 67, 7, 74, 49, 17, 21, 58, 79, 31, 27, 84, 97, 2, 18, 52, 33, 73, 87, 0, 35]\n",
      "[44, 86, 64, 81, 56, 28, 8, 54, 95, 60, 50, 40, 6, 53, 4, 59, 89, 91, 1, 11, 41, 14, 45, 46, 99, 30, 70, 88, 71, 93, 98, 75, 43, 85, 29, 23, 16, 83, 57, 25, 34, 69, 39, 9, 26, 15, 66, 76, 62, 65, 51, 90, 63, 24, 42, 94, 48, 13, 32, 47, 22, 10, 82, 55, 5, 12, 38, 77, 3, 36, 19, 68, 96, 78, 20, 61, 80, 92, 37, 72, 67, 7, 74, 49, 17, 21, 58, 79, 31, 27, 84, 97, 2, 18, 52, 33, 73, 87, 0, 35]\n",
      "[94, 59, 12, 90, 26, 60, 3, 80, 99, 39, 67, 42, 55, 24, 23, 71, 5, 81, 17, 28, 62, 92, 20, 2, 65, 83, 16, 74, 30, 31, 79, 9, 37, 6, 4, 27, 61, 89, 93, 14, 77, 96, 19, 33, 21, 57, 53, 69, 87, 47, 49, 13, 32, 91, 0, 52, 29, 15, 64, 75, 44, 73, 43, 58, 36, 40, 72, 85, 11, 56, 18, 50, 8, 7, 51, 66, 78, 41, 38, 22, 10, 63, 68, 45, 97, 76, 1, 70, 48, 88, 98, 95, 86, 34, 35, 54, 25, 46, 82, 84]\n",
      "[60, 48, 9, 24, 72, 37, 44, 51, 70, 25, 97, 58, 62, 74, 95, 94, 63, 28, 54, 98, 92, 46, 55, 61, 50, 16, 91, 56, 82, 64, 59, 66, 38, 0, 67, 77, 65, 36, 14, 42, 75, 33, 4, 6, 3, 86, 88, 39, 31, 68, 12, 18, 90, 99, 96, 26, 93, 80, 11, 41, 15, 47, 22, 29, 43, 21, 34, 40, 13, 7, 53, 84, 17, 35, 8, 19, 30, 5, 69, 81, 27, 78, 52, 89, 32, 20, 85, 87, 71, 23, 73, 45, 57, 10, 1, 76, 49, 79, 83, 2]\n",
      "[94, 59, 12, 90, 26, 60, 3, 80, 99, 39, 67, 42, 55, 24, 23, 71, 5, 81, 17, 28, 62, 92, 20, 2, 65, 83, 16, 74, 30, 31, 79, 9, 37, 6, 4, 27, 61, 89, 93, 14, 77, 96, 19, 33, 21, 57, 53, 69, 87, 47, 49, 13, 32, 91, 0, 52, 29, 15, 64, 75, 44, 73, 43, 58, 36, 40, 72, 85, 11, 56, 18, 50, 8, 7, 95, 1, 41, 45, 70, 88, 98, 66, 76, 51, 63, 48, 22, 10, 38, 68, 78, 97, 86, 34, 35, 54, 25, 46, 82, 84]\n",
      "[44, 86, 64, 81, 56, 28, 8, 54, 95, 60, 50, 40, 6, 53, 4, 59, 89, 91, 1, 11, 41, 14, 45, 46, 99, 30, 70, 88, 71, 93, 98, 75, 43, 85, 29, 23, 16, 83, 57, 25, 34, 69, 39, 9, 26, 15, 66, 76, 62, 65, 51, 90, 63, 24, 42, 94, 48, 13, 32, 47, 22, 10, 82, 55, 5, 12, 38, 77, 3, 36, 19, 68, 96, 78, 80, 67, 17, 92, 20, 74, 31, 79, 37, 27, 61, 21, 49, 58, 72, 7, 97, 84, 2, 18, 52, 33, 73, 87, 0, 35]\n"
     ],
     "output_type":"stream"
    }
   ],
   "metadata":{
    "datalore":{
     "node_id":"vbIvLP0J25a0mC8t9d9SSk",
     "type":"CODE",
     "hide_input_from_viewers":false,
     "hide_output_from_viewers":false,
     "report_properties":{
      
     }
    }
   }
  },
  {
   "cell_type":"code",
   "source":[
    "# TODO: Experiment here with the large problem\n",
    "#Abrimos el fichero json con el que trabajaremos\n",
    "# Para ver que está ocurriendo en cada generación hay que desmarcar todos los comentarios ###, se pueden encontrar\n",
    "# facilmente con ctrl+f y buscando '###'\n",
    "with open(\"\/data\/workspace_files\/spain\/large.json\", 'r', encoding='utf8') as file:\n",
    "    problemJSON = json.load(file)\n",
    "\n",
    "PopSize = 10\n",
    "NumGens = 2\n",
    "SelectionType = \"fitness\"\n",
    "CrossType = \"2PCX\"\n",
    "CrossProb = 0.4\n",
    "MutType = \"swapping\" #También puede tomar valor \"insertion\"\n",
    "MutProb = 0.1\n",
    "Elitism = False\n",
    "Seed = 1234\n",
    "\n",
    "genetico = Genetic(PopSize, NumGens, SelectionType, CrossType, CrossProb, MutType, MutProb, Elitism, Seed)\n",
    "\n",
    "#Pasamos por parámetro el JSON empleado en CVRP\n",
    "cvrp = CVRP(\"\/data\/workspace_files\/spain\/large.json\",genetico)\n",
    "sol = cvrp()\n",
    "print(\"Solución Final:\")\n",
    "for i in sol:\n",
    "    print(i)"
   ],
   "execution_count":25,
   "outputs":[
    {
     "name":"stdout",
     "text":[
      "---------------Generación 1---------------\n",
      "---------------Generación 2---------------\n",
      "\n",
      "Evaluación Final: \n",
      "[61453.87, 62672.93, 63628.3, 64051.9, 64623.87, 65839.82, 65839.82, 67208.6, 67848.66, 67926.33]\n",
      "\n",
      "La puntuación del mejor individuo es: 61453.87\n",
      "\n",
      "Tiempo de ejecución: 108040.867 milisegundos \n",
      "\n",
      "Solución Final:\n",
      "[37, 27, 36, 43, 10, 24, 25, 0, 18, 38, 20, 39, 15, 9, 12, 28, 1, 32, 21, 33, 17, 16, 31, 2, 14, 34, 22, 40, 13, 26, 35, 4, 41, 44, 19, 42, 11, 8, 6, 30, 23, 7, 3, 29, 5]\n",
      "[36, 34, 25, 20, 35, 38, 28, 2, 26, 12, 33, 37, 5, 21, 41, 11, 6, 42, 44, 32, 8, 40, 4, 39, 30, 16, 0, 22, 13, 17, 43, 19, 15, 1, 27, 29, 24, 3, 10, 31, 23, 14, 9, 18, 7]\n",
      "[18, 33, 19, 36, 37, 21, 32, 41, 17, 34, 23, 25, 11, 44, 10, 6, 8, 1, 4, 20, 39, 31, 40, 30, 27, 15, 3, 26, 16, 42, 38, 7, 0, 35, 24, 2, 22, 14, 9, 12, 29, 28, 13, 43, 5]\n",
      "[23, 17, 32, 41, 30, 2, 33, 29, 27, 1, 12, 7, 19, 5, 9, 25, 20, 24, 34, 16, 26, 44, 37, 3, 28, 14, 31, 10, 4, 11, 18, 38, 42, 6, 8, 21, 15, 0, 13, 36, 39, 40, 22, 43, 35]\n",
      "[37, 27, 36, 43, 10, 24, 25, 0, 18, 38, 20, 39, 15, 9, 12, 28, 26, 32, 21, 33, 17, 16, 31, 2, 14, 34, 22, 40, 13, 3, 35, 4, 41, 44, 19, 11, 42, 8, 6, 30, 23, 7, 1, 29, 5]\n",
      "[5, 9, 13, 2, 27, 25, 20, 43, 24, 17, 34, 40, 19, 36, 16, 26, 33, 7, 44, 37, 3, 22, 28, 14, 31, 10, 0, 4, 30, 11, 18, 23, 41, 38, 29, 42, 1, 6, 8, 21, 12, 32, 35, 15, 39]\n",
      "[5, 9, 13, 2, 27, 25, 20, 43, 24, 17, 34, 40, 19, 36, 16, 26, 33, 7, 44, 37, 3, 22, 28, 14, 31, 10, 0, 4, 30, 11, 18, 23, 41, 38, 29, 42, 1, 6, 8, 21, 12, 32, 35, 15, 39]\n",
      "[5, 9, 13, 2, 27, 25, 20, 43, 24, 17, 34, 40, 19, 23, 41, 30, 33, 29, 1, 7, 11, 16, 38, 10, 18, 31, 4, 37, 42, 44, 26, 14, 28, 3, 0, 36, 22, 6, 8, 21, 12, 32, 35, 15, 39]\n",
      "[23, 17, 32, 41, 30, 2, 33, 29, 27, 1, 12, 7, 19, 11, 16, 38, 10, 18, 31, 4, 21, 6, 37, 42, 25, 44, 26, 14, 9, 20, 15, 28, 34, 5, 24, 0, 8, 3, 13, 36, 39, 40, 22, 43, 35]\n",
      "[28, 7, 0, 5, 37, 2, 42, 44, 6, 22, 15, 1, 41, 39, 30, 29, 9, 11, 32, 31, 4, 34, 38, 43, 17, 35, 19, 12, 33, 21, 24, 10, 3, 13, 26, 36, 18, 27, 16, 20, 25, 14, 23, 8, 40]\n"
     ],
     "output_type":"stream"
    }
   ],
   "metadata":{
    "datalore":{
     "node_id":"4OvQrZI7jUXlqorMzjpEK8",
     "type":"CODE",
     "hide_input_from_viewers":false,
     "hide_output_from_viewers":false,
     "report_properties":{
      
     }
    }
   }
  },
  {
   "cell_type":"markdown",
   "source":[
    "### 5. Entrega y evaluación\n",
    "\n",
    "Al igual que la práctica anterior, esta se debe **hacer en pares**. No obstante, en **casos excepcionales** se permite realizarla **individualmente**. **La fecha límite para subir la práctica es el 18 de diciembre de 2022 a las 23:55**. Las **entrevistas y evaluaciones** se realizarán la **semana siguiente**.\n",
    "\n",
    "Algunas consideraciones:\n",
    "\n",
    "* **En caso de que no se haya entregado la primera práctica, o se haya sacado menos de un cuatro, se podrán entregar conjuntamente en esta fecha. No obstante, se considerará únicamente un 90% de la nota global de prácticas**.\n",
    "* Está práctica supone el **70%** de la **nota** en este apartado.\n",
    "* La práctica se **evaluará** mediante una **entrevista individual** con el profesorado. Las fechas de las entrevistas se publicarán con antelación.\n",
    "*  Se proporcionará un **conjunto** de **casos** de **prueba preliminares** (varios mapas e instancias) que se **deben resolver correctamente**. En caso contrario, la práctica se considerará suspensa.\n",
    "* La **entrevista** consistirá en una serie de **preguntas** acerca del **código**.\n",
    "\n",
    "**Por último, para la evaluación no continua se requirirá la implementación del algoritmo de búsqueda por ascenso de colinas. Además, este se deberá utilizar para inicializar la población del algoritmo genético, en lugar de que sea aleatoria.**"
   ],
   "attachments":{
    
   },
   "metadata":{
    "datalore":{
     "node_id":"1gMr8LgttqSXYAOdmeHNSm",
     "type":"MD",
     "hide_input_from_viewers":false,
     "hide_output_from_viewers":false,
     "report_properties":{
      
     }
    }
   }
  }
 ],
 "metadata":{
  "kernelspec":{
   "display_name":"Python",
   "language":"python",
   "name":"python"
  },
  "datalore":{
   "version":1,
   "computation_mode":"JUPYTER",
   "package_manager":"pip",
   "base_environment":"default",
   "packages":[
    {
     "name":"pqueue",
     "version":"0.1.7",
     "source":"PIP"
    },
    {
     "name":"geopy",
     "version":"2.2.0",
     "source":"PIP"
    }
   ]
  }
 },
 "nbformat":4,
 "nbformat_minor":4
}