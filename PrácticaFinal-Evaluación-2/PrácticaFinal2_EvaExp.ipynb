{
 "cells":[
  {
   "cell_type":"markdown",
   "source":[
    "# Práctica 2: Algoritmos metaheurísticos\n",
    "\n",
    "## Sistemas Inteligentes\n",
    "\n",
    "### Curso académico 2022-2023\n",
    "\n",
    "#### Profesorado:\n",
    "\n",
    "* Juan Carlos Alfaro Jiménez (`JuanCarlos.Alfaro@uclm.es`)\n",
    "* Guillermo Tomás Fernández Martín (`Guillermo.Fernandez@uclm.es`)\n",
    "* María Julia Flores Gallego (`Julia.Flores@uclm.es`)\n",
    "* Ismael García Varea (`Ismael.Garcia@uclm.es`)\n",
    "* Luis González Naharro (`Luis.GNaharro@uclm.es`)\n",
    "* Aurora Macías Ojeda (`Profesor.AMacias@uclm.es`)\n",
    "* Marina Sokolova Sokolova (`Marina.Sokolova@uclm.es`)"
   ],
   "attachments":{
    
   },
   "metadata":{
    "datalore":{
     "node_id":"yLdVtrycDWHyWuJsZXjfN6",
     "type":"MD",
     "hide_input_from_viewers":false,
     "hide_output_from_viewers":false,
     "report_properties":{
      
     }
    }
   }
  },
  {
   "cell_type":"markdown",
   "source":[
    "<br>\n",
    "<div style=\"text-align: left\">\n",
    "<font color=\"#4E70BE\" size=3>Integrantes Grupo 7:<\/font><br>\n",
    "<ul>\n",
    "<li><font color=\"#4E70BE\" size=3>Daniel Cabañero Pardo<\/font><br><\/li>\n",
    "<li><font color=\"#4E70BE\" size=3>Pedro Jesús Martínez Herrero<\/font><br><\/li>\n",
    " \n",
    "<\/ul>"
   ],
   "attachments":{
    
   },
   "metadata":{
    "datalore":{
     "node_id":"0xlGme7E9RDiSMN5FCZj8k",
     "type":"MD",
     "hide_input_from_viewers":true,
     "hide_output_from_viewers":true,
     "report_properties":{
      
     }
    }
   }
  },
  {
   "cell_type":"markdown",
   "source":[
    "## 0. Preliminares\n",
    "\n",
    "Antes de comenzar con el desarrollo de esta práctica es necesario **descargar**, en **formato `.py`**, el código de la **práctica anterior** con el nombre **`utils.py`**. Para ello, pulsamos, en la libreta de la primera práctica, **`File > Export .py`**.\n",
    "\n",
    "Una vez hemos descargado y nombrado correctamente el fichero, lo **añadimos** al espacio de trabajo de la **libreta** de la práctica **actual** a través de **`Attached data > Notebook files > Upload files`** y subimos el fichero `utils.py` descargado en el paso anterior.\n",
    "\n",
    "Tras esto, debemos **cambiar** el **constructor** de la clase **`Problem`** para que **reciba** directamente el **problema** a resolver, **en lugar de cargarlo desde** un **fichero**. Esto se debe a que los algoritmos metaheurísticos van a tener que resolver, en múltiples ocasiones, este problema. De esta manera nos **evitamos** la **carga computacional extra** que implica **leer** el problema desde un **fichero**. Además, también es necesario **comentar** cualquier línea de **código** que **imprima estadísticas** para evitar salidas largas."
   ],
   "attachments":{
    
   },
   "metadata":{
    "datalore":{
     "node_id":"982IVN3tGtSrVVBrH4911R",
     "type":"MD",
     "hide_input_from_viewers":false,
     "hide_output_from_viewers":false,
     "report_properties":{
      
     }
    }
   }
  },
  {
   "cell_type":"markdown",
   "source":[
    "## 1. Introducción\n",
    "\n",
    "En esta práctica, vamos a **resolver** un **problema** de **optimización combinatoria** mediante **algoritmos metaheurísticos**. En particular, vamos a implementar **algoritmos genéticos** para abordar el **problema** de **ruteo** de **vehículos**. En este, **varios vehículos** con **capacidad limitada** deben **recoger paquetes** en **diferentes ubicaciones** y **trasladarlos** a una **sede central** de recogida.\n",
    "\n",
    "Además, se **analizará** y **comparará** el **rendimiento** de **diferentes algoritmos genéticos** (mediante la modificación de los pasos correspondientes) en diferentes instancias del problema.\n",
    "\n",
    "---"
   ],
   "attachments":{
    
   },
   "metadata":{
    "datalore":{
     "node_id":"syMR9Ze0dsA7l1Yyc3gfj8",
     "type":"MD",
     "hide_input_from_viewers":false,
     "hide_output_from_viewers":false,
     "report_properties":{
      
     }
    }
   }
  },
  {
   "cell_type":"markdown",
   "source":[
    "## 2. Descripción del problema\n",
    "\n",
    "El concepto de mapa que vamos a utilizar es similar al de la primera práctica. Este se representa mediante un **grafo**, donde los **nodos** representan **ciudades** y los **enlaces** indican la existencia de una **carretera en ambos sentidos** entre dos ciudades. Además, los **enlaces** tienen un **peso** asociado indicando la **distancia real** entre las dos ciudades. Al mismo tiempo, se proporciona una **sede central**, que se trata de la ciudad donde se deben dejar los paquetes. A su vez, se dispone de una **flota de vehículos** con **capacidad limitada** que deben **recoger** los **paquetes** en las ciudades correspondientes y que **inicialmente** están aparcados en la **sede central**. **En caso de que a la hora de recoger un paquete se supere la capacidad del vehículo correspondiente, este debe volver a la sede central a descargar todos los paquetes, considerando el coste que implicaría volver**.\n",
    "\n",
    "Un mapa es un problema en particular, pero diferentes paquetes, capacidades de vehículos y ubicación de la sede central pueden dar lugar a diferentes instancias del problema. Por tanto, el **objetivo** en este problema es **recoger todos los paquetes de tal manera que los vehículos recorran la menor distancia posible**.\n",
    "\n",
    "**Con el objetivo de simplificar la práctica en evaluación continua, se asume que se cuenta con un único vehículo. No obstante, esto podría cambiar para la evaluación no continua.**\n",
    "\n",
    "---"
   ],
   "attachments":{
    
   },
   "metadata":{
    "datalore":{
     "node_id":"VUjcESa3hB27UoolAy19bi",
     "type":"MD",
     "hide_input_from_viewers":false,
     "hide_output_from_viewers":false,
     "report_properties":{
      
     }
    }
   }
  },
  {
   "cell_type":"markdown",
   "source":[
    "## 3. Desarrollo de la práctica\n",
    "\n",
    "Durante el desarrollo de la práctica se va a proporcionar un conjunto de mapas, sobre los cuáles se debe resolver el problema de optimización combinatoria correspondiente. Es importante destacar que la **dimensionalidad** del **problema** (número de ciudades, carreteras y paquetes) puede ser **variable**, por lo que los diferentes **algoritmos genéticos** deben ser lo suficientemente **eficientes** para que puedan **resolver** los **problemas** en un **tiempo razonable**.\n",
    "\n",
    "**Además, algunos escenarios se van a guardar para las entrevistas de prácticas, por lo que el código debe ser lo más general posible para cargarlos de manera rápida y sencilla.**"
   ],
   "attachments":{
    
   },
   "metadata":{
    "datalore":{
     "node_id":"VaoR74xcSrrxzA6B7LMu1h",
     "type":"MD",
     "hide_input_from_viewers":false,
     "hide_output_from_viewers":false,
     "report_properties":{
      
     }
    }
   }
  },
  {
   "cell_type":"markdown",
   "source":[
    "### 3.1. Entrada\n",
    "\n",
    "Cada escenario tendrá un fichero `.json` asociado con la siguiente estructura:\n",
    "\n",
    "```JSON\n",
    "{\n",
    "    \"map\": {\n",
    "        \"cities\": [\n",
    "            {\n",
    "                \"id\": id_city_0,\n",
    "                \"name\": name_city_0,\n",
    "                \"lat\": latitude_city_0,\n",
    "                \"lon\": longitude_city_0\n",
    "            }\n",
    "        ],\n",
    "        \"roads\": [\n",
    "            {\n",
    "                \"origin\": origin_city_id,\n",
    "                \"destination\": destination_city_id,\n",
    "                \"distance\": road_distance\n",
    "            }\n",
    "        ]\n",
    "    },\n",
    "    \"warehouse\": warehouse_city_id,\n",
    "    \"vehicles\": [\n",
    "        {\n",
    "            \"id\": id_vehicle_0,\n",
    "            \"capacity\": capacity_vehicle_0\n",
    "        }\n",
    "    ]\n",
    "    \"parcels\": [\n",
    "        {\n",
    "            \"id\": id_parcel_0,\n",
    "            \"city\": parcel_city_id,\n",
    "            \"weight\": weight_parcel_0\n",
    "        }\n",
    "    ]\n",
    "}\n",
    "```\n",
    "\n",
    "Hay cuatro elementos principales en el fichero:\n",
    "\n",
    "* `map`: Un diccionario con el mapa, cuya descripción es la misma que la de la primera práctica\n",
    "* `warehouse`: Identificador de la ciudad donde se encuentra la sede central\n",
    "* `vehicles`: Lista de vehículos disponibles\n",
    "* `parcels`: Lista de paquetes a recoger\n",
    "\n",
    "Por su parte, `vehicles` contiene:\n",
    "\n",
    "* `id`: Identificador del vehículo\n",
    "* `capacity`: Capacidad máxima del vehículo\n",
    "\n",
    "Y `parcels`:\n",
    "\n",
    "* `id`: Identificador del paquete\n",
    "* `city`: Ciudad donde se encuentra el paquete\n",
    "* `weight`: Peso del paquete\n",
    "\n",
    "**Para añadir los ficheros con los problemas al espacio de trabajo se debe usar el mismo procedimiento anterior.**\n",
    "\n",
    "---"
   ],
   "attachments":{
    
   },
   "metadata":{
    "datalore":{
     "node_id":"RdalgA654CeCiLVJnmgzSG",
     "type":"MD",
     "hide_input_from_viewers":false,
     "hide_output_from_viewers":false,
     "report_properties":{
      
     }
    }
   }
  },
  {
   "cell_type":"markdown",
   "source":[
    "## 4. Plan de trabajo"
   ],
   "attachments":{
    
   },
   "metadata":{
    "datalore":{
     "node_id":"na9BOnkud99hJxOfeujKUz",
     "type":"MD",
     "hide_input_from_viewers":false,
     "hide_output_from_viewers":false,
     "report_properties":{
      
     }
    }
   }
  },
  {
   "cell_type":"markdown",
   "source":[
    "### 4.1. Formalización del problema\n",
    "\n",
    "Para resolver cualquier problema de optimización combinatoria en primer lugar hay que definir como vamos a **codificar** las **soluciones** al problema. Si bien es algo que se deja a criterio propio, se plantea la siguiente pregunta, **¿cuál puede ser la mejor representación para una secuencia de paquetes a recoger?**\n",
    "\n",
    "Se puede comprobar si la respuesta es correcta introduciéndola en la variable `answer` del siguiente fragmento de código:"
   ],
   "attachments":{
    
   },
   "metadata":{
    "datalore":{
     "node_id":"sc77dYXhPZ9qeA1QczxZrP",
     "type":"MD",
     "hide_input_from_viewers":false,
     "hide_output_from_viewers":false,
     "report_properties":{
      
     }
    }
   }
  },
  {
   "cell_type":"code",
   "source":[
    "# Third party\n",
    "import hashlib"
   ],
   "execution_count":24,
   "outputs":[
    
   ],
   "metadata":{
    "datalore":{
     "node_id":"j1BykqU48Ypy9xgBokYE1i",
     "type":"CODE",
     "hide_input_from_viewers":false,
     "hide_output_from_viewers":false,
     "report_properties":{
      
     }
    }
   }
  },
  {
   "cell_type":"code",
   "source":[
    "check_answer = lambda answer, hashed: \"The answer is \" + (\"\" if hashlib.md5(answer).hexdigest() == hashed else \"in\") + \"correct.\""
   ],
   "execution_count":25,
   "outputs":[
    
   ],
   "metadata":{
    "datalore":{
     "node_id":"R6P7n9mZ1ABeZBiLexLh1L",
     "type":"CODE",
     "hide_input_from_viewers":false,
     "hide_output_from_viewers":false,
     "report_properties":{
      
     }
    }
   }
  },
  {
   "cell_type":"code",
   "source":[
    "# TODO: Introduce here the answer to use for the hashing\n",
    "answer = \"permutation\"\n",
    "\n",
    "# Avoid case sensitivity in the answer\n",
    "answer = str.lower(answer)\n",
    "\n",
    "# Encode the answer before hashing\n",
    "answer = answer.encode(\"utf-8\")\n",
    "\n",
    "hashed = \"90d377b31e1ac26d0d10d5612ce33ccc\"  # The hashed answer\n",
    "print(hashed)\n",
    "\n",
    "check_answer(answer, hashed)"
   ],
   "execution_count":26,
   "outputs":[
    {
     "name":"stdout",
     "text":[
      "90d377b31e1ac26d0d10d5612ce33ccc\n"
     ],
     "output_type":"stream"
    },
    {
     "data":{
      "text\/plain":[
       "'The answer is correct.'"
      ]
     },
     "metadata":{
      
     },
     "output_type":"display_data"
    }
   ],
   "metadata":{
    "datalore":{
     "node_id":"GEuGrWRDYI8a8IZrqij0KF",
     "type":"CODE",
     "hide_input_from_viewers":false,
     "hide_output_from_viewers":false,
     "report_properties":{
      
     }
    }
   }
  },
  {
   "cell_type":"markdown",
   "source":[
    "### 4.2. Implementación\n",
    "\n",
    "A continuación se proporciona la estructura de clases recomendada para resolver el problema en cuestión. Tendréis que completar las siguientes clases de acuerdo con los algoritmos estudiados en teoría. **Debéis incluir en la siguiente celda todas las librerías que vayáis a utilizar para mantener la libreta lo más organizada posible**:"
   ],
   "attachments":{
    
   },
   "metadata":{
    "datalore":{
     "node_id":"L1E7XRnlYRy7oEPYUIyWSS",
     "type":"MD",
     "hide_input_from_viewers":false,
     "hide_output_from_viewers":false,
     "report_properties":{
      
     }
    }
   }
  },
  {
   "cell_type":"code",
   "source":[
    "# TODO: Import here the libraries\n",
    "import utils\n",
    "from utils import *\n",
    "import math\n",
    "import numpy as np"
   ],
   "execution_count":27,
   "outputs":[
    
   ],
   "metadata":{
    "datalore":{
     "node_id":"62Rt8q8LpQ34afG23pb5F1",
     "type":"CODE",
     "hide_input_from_viewers":false,
     "hide_output_from_viewers":false,
     "report_properties":{
      
     }
    }
   }
  },
  {
   "cell_type":"markdown",
   "source":[
    "#### Clase `Individual`\n",
    "\n",
    "Esta clase proporciona la **codificación** de un **individuo** de la **población**.\n",
    "\n",
    "Los **métodos obligatorios** que se deben añadir son:\n",
    "\n",
    "* ``__init__(self, num_genes, generation_type, crossover_type, mutation_type)``: Inicializa el **número** de **genes** del **individuo** y el **tipo** de **operación** de **generación**, **cruce** y **mutación**. Ademas, genera la **solución** que **representa** el **individuo**.\n",
    "* ``generate(num_genes, generation_type)``: Método estático para **generar** una **solución** del tamaño proporcionado de acuerdo con el tipo de operación de generación.\n",
    "* ``crossover(self, individual)``: **Cruza** el **individuo actual** con el **individuo** de **entrada** de acuerdo con el tipo de operación de cruce.\n",
    "* ``mutation(self)``: **Muta** el **individuo** de acuerdo con el tipo de operación de mutación.\n",
    "* ``evaluate(self, problem)``: **Evalua** el **individuo** usando el **problema** a **resolver**.\n",
    "\n",
    "Y los **métodos recomendados** son:\n",
    "\n",
    "* ``__str__(self)``: **Representación** en formato de **cadena** de **caracteres** de un **individuo**. Método útil para depurar una lista de individuos.\n",
    "* ``__repr__(self)``: **Método** invocado cuando se ejecuta **``print``** sobre el **individuo**. Método útil para depurar un solo individuo."
   ],
   "attachments":{
    
   },
   "metadata":{
    "datalore":{
     "node_id":"ncEgrJcWJ52rHsjy80qESR",
     "type":"MD",
     "hide_input_from_viewers":false,
     "hide_output_from_viewers":false,
     "report_properties":{
      
     }
    }
   }
  },
  {
   "cell_type":"code",
   "source":[
    "# PARA PROBAR LAS PRUEBAS DE CADA MÉTODO HAY QUE EJECUTAR PRIMERO LA CELDA FINAL DE EJECUCIÓN O DESCOMENTAR ESTA CELDA\n",
    "with open(\"\/data\/notebook_files\/example.json\", 'r', encoding='utf8') as file:\n",
    "   problemJSON = json.load(file)"
   ],
   "execution_count":28,
   "outputs":[
    
   ],
   "metadata":{
    "datalore":{
     "node_id":"ufPUKJ02KVjtz1eLUAwL52",
     "type":"CODE",
     "hide_input_from_viewers":true,
     "hide_output_from_viewers":true,
     "report_properties":{
      
     }
    }
   }
  },
  {
   "cell_type":"code",
   "source":[
    "class Individual:\n",
    "\n",
    "    # =============================================================================\n",
    "    # Constructor\n",
    "    # =============================================================================\n",
    "\n",
    "    # TODO: Code here the constructor\n",
    "    def __init__ (self, num_genes, generation_type, crossover_type, mutation_type):\n",
    "        self.num_genes = num_genes\n",
    "        self.generation_type = generation_type\n",
    "        self.crossover_type = crossover_type\n",
    "        self.mutation_type = mutation_type\n",
    "        self.IndSolution = self.generate(num_genes,generation_type)\n",
    "        self.fitness = math.inf\n",
    "\n",
    "\n",
    "    # =============================================================================\n",
    "    # Mandatory methods\n",
    "    # =============================================================================\n",
    "\n",
    "    # TODO: Code here the mandatory methods\n",
    "\n",
    "    #Método para generar individuos, se tiene en cuenta que solo existe un tipo de generación, aleatorio.\n",
    "    #Al ser un método estático puede ser llamado desde fuera sin necesidad de crear un Individuo, además no podemos usar self\n",
    "    @staticmethod\n",
    "    def generate(num_genes, generation_type):\n",
    "        if generation_type == \"random\":\n",
    "            return list(np.random.permutation(num_genes))\n",
    "        \n",
    "        else:\n",
    "            print(\"Tipo de generación no válido para permutaciones\")\n",
    "\n",
    "\n",
    "    #Método para aplicar cruce a dos Individuos padre, uno mismo y otro pasado por parámetro. \n",
    "    #El único cruce válido en permutaciones es el 2PCX\n",
    "    def crossover(self, individual):\n",
    "        aux1, aux2 = [], []\n",
    "        hijo1 = Individual(self.num_genes,self.generation_type,self.crossover_type,self.mutation_type)\n",
    "        hijo2 = Individual(self.num_genes,self.generation_type,self.crossover_type,self.mutation_type)\n",
    "\n",
    "        if self.crossover_type == \"2PCX\":\n",
    "            \n",
    "            finish = False\n",
    "\n",
    "            #Mientras finish sea False generamos números aleatorios para las posiciones de cruce, siempre Pos1 < Pos2\n",
    "            while not finish:\n",
    "\n",
    "                randomPosition1, randomPosition2 = random.randint(1, self.num_genes), random.randint(1, self.num_genes)\n",
    "                if randomPosition1 < randomPosition2:\n",
    "                    finish = True\n",
    "            ###print(\"PCruce1: \" + str(randomPosition1) + \"   PCruce2: \" + str(randomPosition2)+\"\\n\")\n",
    "                \n",
    "            #Ya que en el constructor de Individual self.IndSolution coge los valores que le devuelve la función generate,\n",
    "            #debemos vaciarlo antes de comenzar para tener dos vectores vacios de tamaño num_genes\n",
    "            for i in range(self.num_genes):\n",
    "                hijo1.IndSolution.pop(0)\n",
    "                hijo2.IndSolution.pop(0)\n",
    "\n",
    "            #Parte Izquierda [<=randomPosition1]\n",
    "            for i in range(randomPosition1):\n",
    "                hijo1.IndSolution.append(self.IndSolution[i])\n",
    "                hijo2.IndSolution.append(individual.IndSolution[i])\n",
    "\n",
    "            #Parte central [randomPosition+1,randomPosition2]\n",
    "            for i in range(randomPosition1, randomPosition2):\n",
    "                aux1.append(self.IndSolution[i])\n",
    "                aux2.append(individual.IndSolution[i])\n",
    "\n",
    "            #Insertamos en hijo1 con el orden de padre2\n",
    "            for i in range(self.num_genes):\n",
    "                if individual.IndSolution[i] in aux1:\n",
    "                    hijo1.IndSolution.append(individual.IndSolution[i])\n",
    "\n",
    "            #Insertamos en hijo2 con el orden de padre1\n",
    "            for i in range(self.num_genes):\n",
    "                if self.IndSolution[i] in aux2:\n",
    "                    hijo2.IndSolution.append(self.IndSolution[i])\n",
    "\n",
    "            #Parte derecha (>randomPosition2]\n",
    "            for i in range(randomPosition2, self.num_genes):\n",
    "                hijo1.IndSolution.append(self.IndSolution[i])\n",
    "                hijo2.IndSolution.append(individual.IndSolution[i])\n",
    "\n",
    "            return hijo1, hijo2\n",
    "\n",
    "        else:\n",
    "            print(\"Cruce no válido para permutaciones\")\n",
    "\n",
    "    \n",
    "    #Método que nos permite mutar el individuo propio, tenemos dos tipos de mutaciones en permutaciones: Insertion y Swapping\n",
    "    def mutation(self):\n",
    "        finish = False\n",
    "        mutado = Individual(self.num_genes,self.generation_type,self.crossover_type,self.mutation_type)\n",
    "        \n",
    "        #Al igual que antes construimos un bucle para obtener dos valores aleatorios de posición en los que Pos1 < Pos2\n",
    "        while not finish:\n",
    "            randomPosition1, randomPosition2 = random.randint(0, self.num_genes-1), random.randint(0, self.num_genes-1)\n",
    "            if randomPosition1 < randomPosition2:\n",
    "                finish = True\n",
    "        \n",
    "        ###print(\"Pos1: \" + str(randomPosition1) + \"   Pos2: \" + str(randomPosition2)+\"\\n\")\n",
    "        value1, value2 = self.IndSolution[randomPosition1], self.IndSolution[randomPosition2]\n",
    "\n",
    "        #En el caso de insertion cogemos el valor de la posición2 y lo insertamos después del valor de la posición1\n",
    "        if self.mutation_type == \"insertion\":\n",
    "            self.IndSolution.insert(randomPosition1+1, value2)\n",
    "            self.IndSolution.pop(randomPosition2+1)\n",
    "\n",
    "            mutado.IndSolution = self.IndSolution\n",
    "            return mutado\n",
    "\n",
    "        #En el caso de swapping intercambiamos los valores de posición, insertamos en la pos nueva y borramos en la pos vieja\n",
    "        elif self.mutation_type == \"swapping\":\n",
    "            self.IndSolution.insert(randomPosition1, value2)\n",
    "            self.IndSolution.pop(randomPosition1+1)\n",
    "            self.IndSolution.insert(randomPosition2, value1)\n",
    "            self.IndSolution.pop(randomPosition2+1)\n",
    "\n",
    "            mutado.IndSolution = self.IndSolution\n",
    "            return mutado\n",
    "        else:\n",
    "            print(\"Tipo de mutación no implementado\")\n",
    "    \n",
    "\n",
    "    #Este método evalua un individuo, para ello empleamos búsqueda en caminos para ir de una ciudad inicial a una ciudad objetivo\n",
    "    #donde se encuentra el siguiente paquete a recoger. También tiene en cuenta la capacidad del camión, haciendo que vuelva al\n",
    "    #almacén a descargar\n",
    "    def evaluate(self, problem):\n",
    "        totalCost = 0\n",
    "        warehouse, estadoInicial = problem.warehouse, problem.warehouse\n",
    "        vehicleCapacity = problem.maxCapacity\n",
    "\n",
    "\n",
    "        #Recorremos el vector solución del Individuo aplicando el algoritmo de búsqueda en caminos\n",
    "        #Empleamos el método search de CVRP para aplicar el algoritmo y, en caso de repetición de camino, leerá directamente\n",
    "        #el resultado de caché para itar tiempo y computación de resultados\n",
    "        i = 0\n",
    "        while i < len(self.IndSolution):\n",
    "            #Primero viajamos al siguiente objetivo haciendo la llamada a search desde nuestro inicio a nuestro objetivo\n",
    "            estadoNext = problem.dicc[self.IndSolution[i]][0]\n",
    "            totalCost += cvrp.search(estadoInicial, estadoNext)\n",
    "            estadoInicial = estadoNext\n",
    "            \n",
    "            #Una vez llegamos comprobamos si el paquete ubicado en esa ciudad cabe en nuestro camión.\n",
    "            #Si no cabe el camión debe volver desde esa ciudad (nuevo inicio) al almacén (warehouse) \n",
    "            if vehicleCapacity < problem.dicc[self.IndSolution[i]][1]:\n",
    "                totalCost += cvrp.search(problem.dicc[self.IndSolution[i]][0], warehouse) \n",
    "                vehicleCapacity = problem.maxCapacity\n",
    "                estadoInicial = warehouse\n",
    "\n",
    "            #Si cabe lo metemos al camión y descontamos a la capacidad el peso del paquete y finalmente hacemos avanzar el\n",
    "            #bucle para ir a por el siguiente paquete\n",
    "            else:\n",
    "                vehicleCapacity -=  problem.dicc[self.IndSolution[i]][1]\n",
    "                i += 1\n",
    "\n",
    "        #Una vez recogidos todos los paquetes debemos volver a nuestro almacén para hacer la última descarga de paquetes\n",
    "        totalCost += cvrp.search(estadoInicial,warehouse)\n",
    "        \n",
    "        #Consideramos el fitness de un individuo el coste total en km del viaje.\n",
    "        self.fitness = round(totalCost,2)\n",
    "        return self.fitness\n",
    "\n",
    "    # =============================================================================\n",
    "    # Recommended methods\n",
    "    # =============================================================================\n",
    "    \n",
    "    # TODO: Code here the recommended methods\n",
    "\n",
    "    def __str__(self):\n",
    "        return f\"{self.IndSolution}\"\n",
    "    \n",
    "    def __repr__(self):\n",
    "        repr = \"\"\n",
    "        for i in range(len(self.IndSolution)):\n",
    "            repr = repr + str(self.IndSolution[i])\n",
    "        return repr"
   ],
   "execution_count":29,
   "outputs":[
    
   ],
   "metadata":{
    "datalore":{
     "node_id":"HAgyUGxYcoG2LaYD1ZRqHt",
     "type":"CODE",
     "hide_input_from_viewers":false,
     "hide_output_from_viewers":false,
     "report_properties":{
      
     }
    }
   }
  },
  {
   "cell_type":"markdown",
   "source":[
    "**Se recomienda que se prueben cada uno de los métodos implementados de manera individual en las siguientes líneas de código:**"
   ],
   "attachments":{
    
   },
   "metadata":{
    "datalore":{
     "node_id":"A0rGuLg30jplx5Z8rYbJHu",
     "type":"MD",
     "hide_input_from_viewers":false,
     "hide_output_from_viewers":false,
     "report_properties":{
      
     }
    }
   }
  },
  {
   "cell_type":"code",
   "source":[
    "# TODO: Test here the methods to generate a solution\n",
    "# individuo1 = Individual(len(problemJSON['parcels']), \"random\",\"\", \"\")\n",
    "# print(individuo1)"
   ],
   "execution_count":30,
   "outputs":[
    
   ],
   "metadata":{
    "datalore":{
     "node_id":"qMhdHZ0KvcH5mkP3JE2fYT",
     "type":"CODE",
     "hide_input_from_viewers":false,
     "hide_output_from_viewers":false,
     "report_properties":{
      
     }
    }
   }
  },
  {
   "cell_type":"code",
   "source":[
    "# TODO: Test here the methods to cross individuals\n",
    "# individuo1 = Individual(len(problemJSON['parcels']), \"random\",\"2PCX\", \"\")\n",
    "# print(\"Padre 1: \" + str(individuo1))\n",
    "# individuo2 = Individual(len(problemJSON['parcels']), \"random\",\"2PCX\", \"\")\n",
    "# print(\"Padre 2: \" + str(individuo2) + \"\\n\")\n",
    "# hijo1, hijo2 = individuo1.crossover(individuo2)\n",
    "# print(\"\\nHijo 1: \"+ str(hijo1))\n",
    "# print(\"Hijo 2: \"+ str(hijo2))"
   ],
   "execution_count":31,
   "outputs":[
    
   ],
   "metadata":{
    "datalore":{
     "node_id":"bWBCdnWzydSIDitJpwMkIa",
     "type":"CODE",
     "hide_input_from_viewers":false,
     "hide_output_from_viewers":false,
     "report_properties":{
      
     }
    }
   }
  },
  {
   "cell_type":"code",
   "source":[
    "# TODO: Test here the methods to mutate an individual\n",
    "# individuo1 = Individual(len(problemJSON['parcels']), \"random\",\"2PCX\", \"swapping\")\n",
    "# print(individuo1)\n",
    "# individuo1.mutation()\n",
    "# print(individuo1)"
   ],
   "execution_count":32,
   "outputs":[
    
   ],
   "metadata":{
    "datalore":{
     "node_id":"x4M7L4sUaPct7Oil7r5Ar3",
     "type":"CODE",
     "hide_input_from_viewers":false,
     "hide_output_from_viewers":false,
     "report_properties":{
      
     }
    }
   }
  },
  {
   "cell_type":"markdown",
   "source":[
    "#### Clase `Genetic`\n",
    "\n",
    "Esta clase implementa un **esquema** básico de **algoritmo genético**.\n",
    "\n",
    "Los **métodos obligatorios** que se deben añadir son:\n",
    "\n",
    "* ``def __init__(self, population_size, num_generations, selection_type, crossover_type, crossover_probability, mutation_type, mutation_probability, keep_elitism, random_state)``: Inicializa el **tamaño** de la **población**, el **tipo** de **operación** de **selección**, **cruce**, y **mutación**, así como la **probabilidad** de aplicar las operaciones de **cruce** y **mutación**. Además, también inicializa el **número** de **mejores soluciones** de la **población actual** que se **mantienen** en la **siguiente población** y una **semilla** para garantizar que los **experimentos** son **reproducibles**. **Nótese que puede ser necesario añadir más argumentos si así se requiere**.\n",
    "* ``def __call__(self, problem)``: **Método** que se **ejecuta** cuando se llama a un **objeto** de la **clase como** si fuese una **función**. En este **método** se debe **implementar** el **esquema básico** de un **algoritmo genético** que se encargue de ejecutar los pasos correspondientes. \n",
    "* ``def generate_population(self, problem)``: **Genera** la **población inicial** de acuerdo con el **problema** a resolver.\n",
    "* ``def select_population(self, population, scores)``: **Selecciona** los **padres** a utilizar para la operación de cruce.\n",
    "* ``def crossover(self, population)``: **Cruza pares** de **padres** teniendo en cuenta la probabilidad de cruce.\n",
    "* ``def mutation(self, population)``: **Muta** los **individuos cruzados** teniendo en cuenta la probabilidad de mutación.\n",
    "* ``def evaluate(self, population, problem)``: **Evalua** los **nuevos individuos** de acuerdo con el problema a resolver.\n",
    "* ``def combine(self, population)``: **Forma** la **nueva generación** de acuerdo con el número de mejores individuos de la población actual a mantener en la siguiente."
   ],
   "attachments":{
    
   },
   "metadata":{
    "datalore":{
     "node_id":"QJydvpXQMeNKKbSRF67cMB",
     "type":"MD",
     "hide_input_from_viewers":false,
     "hide_output_from_viewers":false,
     "report_properties":{
      
     }
    }
   }
  },
  {
   "cell_type":"code",
   "source":[
    "class Genetic:\n",
    "\n",
    "    # =============================================================================\n",
    "    # Constructor\n",
    "    # =============================================================================\n",
    "\n",
    "    # TODO: Code here the constructor\n",
    "\n",
    "    def __init__(self, population_size, num_generations, selection_type, crossover_type, crossover_probability, mutation_type, mutation_probability, keep_elitism, random_state):\n",
    "        self.population_size = population_size\n",
    "        self.num_generations = num_generations\n",
    "        self.selection_type = selection_type\n",
    "        self.crossover_type = crossover_type\n",
    "        self.crossover_probability = crossover_probability\n",
    "        self.mutation_type = mutation_type\n",
    "        self.mutation_probability = mutation_probability\n",
    "        self.keep_elitism = keep_elitism\n",
    "        self.random_state = random_state\n",
    "        self.evaluatedInd = []\n",
    "        self.evaluatedNewInd = []\n",
    "        self.pop = []\n",
    "        self.evaluateddict = dict()\n",
    "\n",
    "\n",
    "\n",
    "    # =============================================================================\n",
    "    # Mandatory methods\n",
    "    # =============================================================================\n",
    "\n",
    "    # TODO: Code here the mandatory methods\n",
    "\n",
    "    #Este método llama a todas las funciones posteriores siguiendo el esquema de un algoritmo genético y nos muestra las\n",
    "    #diferentes poblaciones resultantes de cada uno de los procesos a partir de la población actual en cada generación.\n",
    "    def __call__(self, problem):\n",
    "\n",
    "        random.seed(self.random_state)\n",
    "        \n",
    "        #Inicializamos nuestra población\n",
    "        pop = self.generate_population(problem)\n",
    "        for i in range(self.num_generations):\n",
    "            #print(\"---------------Generación \"+str(i+1)+\"---------------\")\n",
    "            ###print(\"----Current Pop----\")\n",
    "            ###for i in pop:\n",
    "            ###    print(i)\n",
    "            ###print(\"\\n\")\n",
    "\n",
    "            #Evaluamos nuestra población actual\n",
    "            self.selfevaluate(problem)\n",
    "\n",
    "            #Seleccionamos individuos de nuestra población actual\n",
    "            ###print(\"-------Selection-------\")\n",
    "            selected_pop = self.select_population(pop, self.evaluatedInd)\n",
    "            ###for i in selected_pop:\n",
    "            ###    print(i)\n",
    "            ###print(\"\\n\")\n",
    "\n",
    "            #Cruzamos los individuos seleccionados\n",
    "            ###print(\"-------Crossover-------\")\n",
    "            cross_pop = self.crossover(selected_pop)\n",
    "            ###print(\"\\n\")\n",
    "            ###for i in cross_pop:\n",
    "            ###    print(i)\n",
    "            ###print(\"\\n\")\n",
    "\n",
    "            #Mutamos los individuos seleccionados y cruzados\n",
    "            ###print(\"-------Mutation-------\")\n",
    "            mutated_pop = self.mutation(cross_pop)\n",
    "            ###print(\"\\n\")\n",
    "            ###for i in mutated_pop:\n",
    "            ###    print(i)\n",
    "            ###print(\"\\n\")\n",
    "\n",
    "            #Finalmente evaluamos la población resultante y la combinamos con la actual\n",
    "            self.evaluate(mutated_pop, problem)\n",
    "             \n",
    "            ###print(\"-------Combine-------\")\n",
    "            pop = self.combine(mutated_pop)\n",
    "            ###for i in pop:\n",
    "            ###    print(i)\n",
    "            ###print(\"\\n\")\n",
    "\n",
    "        return pop\n",
    "\n",
    "    \n",
    "    #Generamos los individuos de la población, tantos como nos permita el population_size\n",
    "    #Además añadimos valores a dos arrays, con los que trabajaremos luego, para que tengan tamaño population_size y\n",
    "    #evitar problemas con valores fuera de index posteriormente.\n",
    "    def generate_population(self, problem):\n",
    "        ngenes = len(problem.dicc)\n",
    "        \n",
    "        for i in range(self.population_size):\n",
    "            individuo = Individual(ngenes,\"random\",self.crossover_type, self.mutation_type)\n",
    "            self.pop.append(individuo)\n",
    "            self.evaluatedInd.append(0.0)\n",
    "            self.evaluatedNewInd.append(0.0)\n",
    "        return self.pop\n",
    "    \n",
    "\n",
    "    #Método para seleccionar individuos de la población actual, en función del fitness del individuo\n",
    "    #Nuestro objetivo es muestrear con reemplazo una distribución de probabilidad\n",
    "    def select_population(self, population, scores):\n",
    "        fitness_denom = 0.0\n",
    "        probability = 0.0\n",
    "        prob_fitness = []\n",
    "        selected_pop = []\n",
    "\n",
    "        #En nuestro caso queremos minimizar el fitness puesto que queremos minimizar el número de km, por ello la fórmula cambia\n",
    "        #a (1\/x)\/sum(1\/xi)\n",
    "        if self.selection_type == \"fitness\":\n",
    "            \n",
    "            #Primero calculamos la suma del denominador\n",
    "\n",
    "            for i in scores:\n",
    "                fitness_denom += 1\/i \n",
    "            \n",
    "            #Finalmente calculamos la probabilidad para cada individuo en función de su fitness, a cada individuo se le suma\n",
    "            #la probabilidad del individuo anterior.\n",
    "            for i in population:\n",
    "\n",
    "                probability += (1\/scores[population.index(i)])\/fitness_denom\n",
    "                prob_fitness.append(probability)\n",
    "\n",
    "            #Para seleccionar debemos generar números aleatorios del 0 al 1 y añadiendo a la población seleccionada aquel \n",
    "            #primer individuo que tenga una probabilidad acumulativa mayor que el número random.\n",
    "            for i in range(self.population_size):\n",
    "                randomNumber = random.uniform(0, 1)\n",
    "\n",
    "                for j in range(len(prob_fitness)):\n",
    "                    if randomNumber < prob_fitness[j]:\n",
    "                        selected_pop.append(population[j])\n",
    "                        break\n",
    "\n",
    "            return selected_pop\n",
    "\n",
    "        elif self.selection_type == \"range\":\n",
    "            print(\"Método de selección no implementado\")\n",
    "\n",
    "        elif self.selection_type == \"tournament\": \n",
    "            print(\"Método de selección no implementado\")\n",
    "\n",
    "        else:\n",
    "            print(\"Método de selección inválido\")\n",
    "    \n",
    "\n",
    "    #Método para realizar el cruce entre los individuos de las poblaciones, para ello debemos conocer el número de parejas\n",
    "    #dividiendo entre 2, en caso de que exista resto (número de población impar), este individuo se añade al final\n",
    "    def crossover(self, population):\n",
    "        \n",
    "        if self.crossover_type == \"2PCX\":\n",
    "        \n",
    "            newPop = []\n",
    "    \n",
    "            num_pairs = int(len(population)\/2)\n",
    "            aux = 0\n",
    "\n",
    "            #Recorriendo las parejas sacamos los padres (es necesario hacer un deepcopy ya que sin el, al modificar parent1 y 2,\n",
    "            #también se modificaría population[aux])\n",
    "            for i in range(num_pairs):\n",
    "                parent1 = copy.deepcopy(population[aux])\n",
    "                aux += 1\n",
    "                parent2 = copy.deepcopy(population[aux])\n",
    "                aux += 1\n",
    "\n",
    "                #Generamos números aleatorios y si el número es menor de la probabilidad de cruce se produce el cruce llamando\n",
    "                #al método crossover de la clase Individual, si se produce cruce añadimos los dos hijos y si no los padres\n",
    "                randomNumber = random.uniform(0, 1)\n",
    "                if randomNumber < self.crossover_probability:\n",
    "                    ###print(\"Pareja: \"+str(i+1)+\"    \")\n",
    "                    child1, child2 = parent1.crossover(parent2)\n",
    "                    newPop.append(child1)\n",
    "                    newPop.append(child2)\n",
    "                else:\n",
    "                    newPop.append(parent1)\n",
    "                    newPop.append(parent2)\n",
    "        \n",
    "            if len(population) % 2 != 0:\n",
    "                newPop.append(copy.deepcopy(population[len(population) - 1]))\n",
    "\n",
    "            return newPop\n",
    "        else:\n",
    "            print(\"Cruce no válido para permutaciones\")\n",
    "    \n",
    "\n",
    "    #Método para realizar la mutación de los individuos de la población.\n",
    "    def mutation(self, population):\n",
    "        mutatedPop = []\n",
    "        aux=1\n",
    "\n",
    "        for i in population:\n",
    "            #Para cada individuo de la población generamos su número random, si es menor que la probabilidad de mutación\n",
    "            #se produce la mutación llamando al método mutation de la clase Individual.\n",
    "            \n",
    "            randomNumber = random.uniform(0, 1)\n",
    "            if randomNumber < self.mutation_probability:\n",
    "                ###print(\"Cromosoma: \"+str(aux)+\"    \")\n",
    "                mutatedPop.append(copy.deepcopy(i.mutation()))\n",
    "            else:\n",
    "                mutatedPop.append(copy.deepcopy(i))\n",
    "            aux += 1\n",
    "        return mutatedPop\n",
    "    \n",
    "\n",
    "    #Método adicional, creado simplemente para el método combinar, que emplea dos poblaciones, evalua todos los individuos\n",
    "    #de la población actual, para ello llama al método evaluate de Individual\n",
    "    def selfevaluate(self, problem):\n",
    "\n",
    "        for i in range(self.population_size):\n",
    "            if str(self.pop[i].IndSolution) in self.evaluateddict:\n",
    "                self.evaluatedInd[i] = self.evaluateddict[str(self.pop[i].IndSolution)]\n",
    "            else:\n",
    "                self.evaluatedInd[i] = round(self.pop[i].evaluate(problem),2)\n",
    "                self.evaluateddict[str(self.pop[i].IndSolution)] = self.evaluatedInd[i]\n",
    "\n",
    "\n",
    "\n",
    "    #Método para evaluar los individuos de la población pasada por parámetro, para ello llama al método evaluate de Individual\n",
    "    def evaluate(self, population, problem):\n",
    "\n",
    "        for i in range(len(population)):\n",
    "            if str(population[i].IndSolution) in self.evaluateddict:\n",
    "                self.evaluatedNewInd[i] = self.evaluateddict[str(population[i].IndSolution)]          \n",
    "            else:\n",
    "                self.evaluatedNewInd[i] = round(population[i].evaluate(problem),2)\n",
    "                self.evaluateddict[str(population[i].IndSolution)] = self.evaluatedNewInd[i]\n",
    "\n",
    "            \n",
    "\n",
    "    #Método que nos permite combinar dos poblaciones, la actual y aquella seleccionada después de aplicar cruce y mutación\n",
    "    def combine(self, population):\n",
    "        finalPop = []\n",
    "        #Almacenamos el vector de evaluación de la población actual\n",
    "        evaluated = copy.deepcopy(self.evaluatedInd)\n",
    "        #Almacenamos el vector de evaluación de la población seleccionada, cruzada y mutada\n",
    "        evaluatedNew = copy.deepcopy(self.evaluatedNewInd)\n",
    "\n",
    "        rest = self.population_size\n",
    "        #Si keep-elitism es True, debemos añadir a la población resultado el individuo de menor fitness de la población actual\n",
    "        for i in range(self.keep_elitism):\n",
    "            valorMin = math.inf\n",
    "            #Sacamos el valor mínimo\n",
    "            for j in evaluated:\n",
    "                if j < valorMin:\n",
    "                    valorMin = j\n",
    "\n",
    "            #Borramos el individuo de valor mínimo, en caso de haber dos se borra solo el primero (break)\n",
    "            for j in evaluated:\n",
    "                if evaluated:\n",
    "                    if j == valorMin:\n",
    "                        evaluated.remove(j)\n",
    "                        break\n",
    "            \n",
    "            #Añadimos ese individuo a la población final\n",
    "            for j in range(len(self.evaluatedInd)):   \n",
    "                if self.evaluatedInd[j] == valorMin:\n",
    "                    finalPop.append(self.pop[j])\n",
    "                    break\n",
    "            \n",
    "            rest -= 1\n",
    "    \n",
    "\n",
    "        #Para el tamaño de población restante hacemos el mismo proceso para la población seleccionada, cruzada y mutada\n",
    "        for i in range(rest):\n",
    "            valorMin = math.inf\n",
    "                \n",
    "            for i in evaluatedNew:\n",
    "                if i < valorMin:\n",
    "                    valorMin = i\n",
    "\n",
    "            for i in evaluatedNew:\n",
    "                if evaluatedNew:\n",
    "                    if i == valorMin:\n",
    "                        evaluatedNew.remove(i)\n",
    "                        break\n",
    "\n",
    "            for i in range(len(self.evaluatedNewInd)):\n",
    "                if self.evaluatedNewInd[i] == valorMin:\n",
    "                    finalPop.append(population[i])  \n",
    "                    break\n",
    "\n",
    "        for i in range(self.population_size):\n",
    "            self.pop[i]=finalPop[i]\n",
    "\n",
    "        return finalPop\n",
    "            "
   ],
   "execution_count":33,
   "outputs":[
    
   ],
   "metadata":{
    "datalore":{
     "node_id":"RLvvdUCS6ybKqAdMohihW7",
     "type":"CODE",
     "hide_input_from_viewers":false,
     "hide_output_from_viewers":false,
     "report_properties":{
      
     }
    }
   }
  },
  {
   "cell_type":"markdown",
   "source":[
    "**Se recomienda que se prueben cada uno de los métodos implementados de manera individual en las siguientes líneas de código:**"
   ],
   "attachments":{
    
   },
   "metadata":{
    "datalore":{
     "node_id":"gbmyb1Y7HDt8hj3HbK4pyg",
     "type":"MD",
     "hide_input_from_viewers":false,
     "hide_output_from_viewers":false,
     "report_properties":{
      
     }
    }
   }
  },
  {
   "cell_type":"code",
   "source":[
    "# TODO: Test here the methods to generate a population\n",
    "# genetico = Genetic(10, 1, \"fitness\", \"2PCX\", 1, \"swapping\", 1, False, 123)\n",
    "# cvrp = CVRP(\"\/data\/notebook_files\/example.json\",genetico)\n",
    "# pop = genetico.generate_population(cvrp)\n",
    "# print(\"Current Population\")\n",
    "# for i in pop:\n",
    "#     print(i)\n",
    "# print(\"\\n\")"
   ],
   "execution_count":34,
   "outputs":[
    
   ],
   "metadata":{
    "datalore":{
     "node_id":"FOi9zMZg3wyLatmKT78I1V",
     "type":"CODE",
     "hide_input_from_viewers":false,
     "hide_output_from_viewers":false,
     "report_properties":{
      
     }
    }
   }
  },
  {
   "cell_type":"code",
   "source":[
    "# TODO: Test here the methods to select individuals\n",
    "# cvrp = CVRP(\"\/data\/notebook_files\/example.json\",genetico)\n",
    "# genetico.selfevaluate(cvrp)\n",
    "# selectedPop = genetico.select_population(pop,genetico.evaluatedInd)\n",
    "# for i in selectedPop:\n",
    "#     print(i)"
   ],
   "execution_count":35,
   "outputs":[
    
   ],
   "metadata":{
    "datalore":{
     "node_id":"GyAO00SfnmWSXlRQCsyvkf",
     "type":"CODE",
     "hide_input_from_viewers":false,
     "hide_output_from_viewers":false,
     "report_properties":{
      
     }
    }
   }
  },
  {
   "cell_type":"code",
   "source":[
    "#Test here the methods to crossover populations\n",
    "# print(\"Selected Population\")\n",
    "# for i in selectedPop:\n",
    "#     print(i)\n",
    "# print(\"\\n\")\n",
    "\n",
    "# newPop = genetico.crossover(selectedPop)\n",
    "\n",
    "# print(\"\\n\")\n",
    "# print(\"Crossover Population\")\n",
    "# for i in newPop:\n",
    "#     print(i)"
   ],
   "execution_count":36,
   "outputs":[
    
   ],
   "metadata":{
    "datalore":{
     "node_id":"3ZvkygG2klnSdTyYdnxbDH",
     "type":"CODE",
     "hide_input_from_viewers":true,
     "hide_output_from_viewers":true,
     "report_properties":{
      
     }
    }
   }
  },
  {
   "cell_type":"code",
   "source":[
    "#Test here the methods to mutate populations\n",
    "# print(\"Crossover Population\")\n",
    "# for i in newPop:\n",
    "#     print(i)\n",
    "# print(\"\\n\")\n",
    "\n",
    "# mutatedPop = genetico.mutation(newPop)\n",
    "\n",
    "# print(\"\\n\")\n",
    "# print(\"Crossover+Mutated Population\")\n",
    "# for i in mutatedPop:\n",
    "#     print(i)"
   ],
   "execution_count":37,
   "outputs":[
    
   ],
   "metadata":{
    "datalore":{
     "node_id":"RzNxrCgZUBkL2NoHmeBTOI",
     "type":"CODE",
     "hide_input_from_viewers":true,
     "hide_output_from_viewers":true,
     "report_properties":{
      
     }
    }
   }
  },
  {
   "cell_type":"code",
   "source":[
    "#Comparación de la población con los individuos seleccionados tras cruce y mutación\n",
    "# cvrp = CVRP(\"\/data\/notebook_files\/example.json\",genetico)\n",
    "\n",
    "# print(\"Current Population\")\n",
    "# for i in pop:\n",
    "#     print(i)\n",
    "# print(\"\\n\")\n",
    "# genetico.evaluate(pop, cvrp)\n",
    "# print(genetico.evaluatedInd)\n",
    "# print(\"------------------------------------------------------\")\n",
    "# genetico.evaluate(mutatedPop, cvrp)\n",
    "# print(genetico.evaluatedNewInd)\n",
    "# print(\"\\n\")\n",
    "# print(\"Crossover+Mutated Population\")\n",
    "# for i in mutatedPop:\n",
    "#     print(i)"
   ],
   "execution_count":38,
   "outputs":[
    
   ],
   "metadata":{
    "datalore":{
     "node_id":"uusYpbvNcRquz9xKi8p3x3",
     "type":"CODE",
     "hide_input_from_viewers":true,
     "hide_output_from_viewers":true,
     "report_properties":{
      
     }
    }
   }
  },
  {
   "cell_type":"code",
   "source":[
    "# TODO: Test here the methods to combine populations\n",
    "# print(\"Combined\/Final Population\")\n",
    "# finalPop = genetico.combine(mutatedPop)\n",
    "# for i in finalPop:\n",
    "#     print(i)"
   ],
   "execution_count":39,
   "outputs":[
    
   ],
   "metadata":{
    "datalore":{
     "node_id":"kcU1A7LoOYqfSb3JXLcIE9",
     "type":"CODE",
     "hide_input_from_viewers":false,
     "hide_output_from_viewers":false,
     "report_properties":{
      
     }
    }
   }
  },
  {
   "cell_type":"markdown",
   "source":[
    "#### Clase `CVRP`\n",
    "\n",
    "Esta clase representa el problema en cuestión, esto es, el **problema** de **ruteo** de **vehículos**.\n",
    "\n",
    "Los **métodos obligatorios** que se deben añadir son:\n",
    "\n",
    "* ``def __init__(self, filename, algorithm)``: Inicializa el **problema** en cuestión y el **algoritmo** a usar para resolverlo. A su vez, se debe crear un **diccionario** que contenga como **clave** un **identificador** de **paquete** y como **valor** una **tupla** con la **ciudad** donde se encuentra dicho paquete y su **peso**.\n",
    "* ``def __call__(self)``: **Resuelve** el **problema** en cuestión.\n",
    "* ``def evaluate(self, solution)``: **Evalua** una **solución** para el **problema** en cuestión, **teniendo en cuenta** las **restricciones correspondientes**.\n",
    "* ``def search(self, departure, goal)``: **Resuelve** un **problema** de **búsqueda** de **caminos** dada las **ciudades** de **salida** y **meta**.\n",
    "\n",
    "**Nótese que se puede crear una estructura de datos para agilizar el proceso de búsqueda de caminos requerido por el algoritmo ¿cuál puede ser?**"
   ],
   "attachments":{
    
   },
   "metadata":{
    "datalore":{
     "node_id":"ABJANTvB3nbrdRJJ6xfmXo",
     "type":"MD",
     "hide_input_from_viewers":false,
     "hide_output_from_viewers":false,
     "report_properties":{
      
     }
    }
   }
  },
  {
   "cell_type":"code",
   "source":[
    "# TODO: Introduce here the answer to use for the hashing\n",
    "answer = \"cache\"\n",
    "\n",
    "# Avoid case sensitivity in the answer\n",
    "answer = str.lower(answer)\n",
    "\n",
    "# Encode the answer before hashing\n",
    "answer = answer.encode(\"utf-8\")\n",
    "\n",
    "encoded = \"0fea6a13c52b4d4725368f24b045ca84\"  # The hashed answer\n",
    "print(encoded)\n",
    "\n",
    "check_answer(answer, encoded)"
   ],
   "execution_count":40,
   "outputs":[
    {
     "name":"stdout",
     "text":[
      "0fea6a13c52b4d4725368f24b045ca84\n"
     ],
     "output_type":"stream"
    },
    {
     "data":{
      "text\/plain":[
       "'The answer is correct.'"
      ]
     },
     "metadata":{
      
     },
     "output_type":"display_data"
    }
   ],
   "metadata":{
    "datalore":{
     "node_id":"skolk6M2LsHFH7WW5vxnAD",
     "type":"CODE",
     "hide_input_from_viewers":false,
     "hide_output_from_viewers":false,
     "report_properties":{
      
     }
    }
   }
  },
  {
   "cell_type":"code",
   "source":[
    "class CVRP:\n",
    "\n",
    "    # =============================================================================\n",
    "    # Constructor\n",
    "    # =============================================================================\n",
    "\n",
    "    # TODO: Code here the constructor\n",
    "    \n",
    "    def __init__(self, filename, algorithm):\n",
    "        with open(filename, 'r', encoding='utf8') as file:\n",
    "            problemJSON = json.load(file)\n",
    "        \n",
    "        self.prob_class = utils.Problem(problemJSON)\n",
    "        self.algorithm = algorithm\n",
    "        self.solution = []\n",
    "        self.dicc = {parcel['id']: (parcel['city'],parcel['weight']) for parcel in problemJSON['parcels']}\n",
    "        self.maxCapacity = problemJSON['vehicles'][0]['capacity']\n",
    "        self.warehouse = problemJSON['warehouse']\n",
    "        self.cache = dict()\n",
    "        self.usosAStar = 0\n",
    "        self.usosCache = 0\n",
    "\n",
    "    # =============================================================================\n",
    "    # Mandatory methods\n",
    "    # =============================================================================\n",
    "\n",
    "    # TODO: Code here the mandatory methods\n",
    "\n",
    "    #Con este método llamamos al algoritmo Genético pasándole el problema por parámetro y evaluamos la solución final\n",
    "    def __call__(self):\n",
    "        valormin = math.inf\n",
    "        tiempoInicio = time.perf_counter()\n",
    "        self.solution = self.algorithm(self)\n",
    "        evaluated = self.evaluate(self.solution)\n",
    "        print(\"Puntuación media: \"+str(np.mean(evaluated)))\n",
    "        for i in evaluated:\n",
    "            if i < valormin:\n",
    "                valormin = i\n",
    "        for i in evaluated:\n",
    "            if i == valormin:\n",
    "                print(\"La puntuación del mejor individuo es: \" +str(i))\n",
    "                break\n",
    "        \n",
    "        tiempoFinal = time.perf_counter()\n",
    "        tiempoTotal = round((tiempoFinal - tiempoInicio)*1000,4)\n",
    "        print(\"Tiempo de ejecución: \" + str(tiempoTotal) + \" milisegundos\")\n",
    "        print(\"Usos de Caché: \"+str(self.usosCache))\n",
    "        print(\"Usos de AStar: \"+str(self.usosAStar))\n",
    "        return self.solution\n",
    "    \n",
    "    #Este método evalua la solución pasada como parámetro\n",
    "    def evaluate(self, solution):\n",
    "        self.algorithm.evaluate(solution, self.dicc)\n",
    "        #print(\"\\nEvaluación Final: \\n\" +str(self.algorithm.evaluatedNewInd))\n",
    "        return self.algorithm.evaluatedNewInd\n",
    "\n",
    "    #Este método nos resuelve el problema de búsqueda de caminos, para ello emplea AStar, siempre con la heurística euclidea,\n",
    "    #además inplementa una caché que nos servirá para ahorrar tiempo y computación, para ello primero comprueba si el camino \n",
    "    #está guardado en caché, si esta lo devuelve y si no llama a AStar y guarda el resultado en caché.\n",
    "    def search(self, departure, goal):\n",
    "\n",
    "        self.prob_class.initial_state = utils.State(departure)\n",
    "        self.prob_class.final_city = utils.State(goal)\n",
    "       \n",
    "        if str((departure,goal)) in self.cache:\n",
    "            #print(\"Dentro de cache\")\n",
    "            self.usosCache += 1\n",
    "            return self.cache[str((departure,goal))]\n",
    "            \n",
    "        else:\n",
    "            #print(\"Fuera de cache\")\n",
    "            search = utils.AStar(self.prob_class, 'euclidea')\n",
    "            self.usosAStar += 1\n",
    "            cost = round(search.doSearch(),2)\n",
    "            self.cache[str((departure,goal))], self.cache[str((goal,departure))] = cost, cost\n",
    "        return cost"
   ],
   "execution_count":41,
   "outputs":[
    
   ],
   "metadata":{
    "datalore":{
     "node_id":"dKLgpxk5uGiulUFQQ1dKB2",
     "type":"CODE",
     "hide_input_from_viewers":false,
     "hide_output_from_viewers":false,
     "report_properties":{
      
     }
    }
   }
  },
  {
   "cell_type":"markdown",
   "source":[
    "**Se recomienda que se prueben cada uno de los métodos implementados de manera individual en las siguientes líneas de código:**"
   ],
   "attachments":{
    
   },
   "metadata":{
    "datalore":{
     "node_id":"llGypZPWDhZRcvtvII4bZA",
     "type":"MD",
     "hide_input_from_viewers":true,
     "hide_output_from_viewers":true,
     "report_properties":{
      
     }
    }
   }
  },
  {
   "cell_type":"code",
   "source":[
    "# TODO: Test here the method to initialize the capacited vehicle routing problem\n",
    "#genetico = Genetic(10, 100, \"fitness\", \"2PCX\", 0.9, \"swapping\", 0.1, 5, 0)\n",
    "#cvrp = CVRP(\"\/data\/notebook_files\/example.json\",genetico)"
   ],
   "execution_count":42,
   "outputs":[
    
   ],
   "metadata":{
    "datalore":{
     "node_id":"Bia29BOdqugjIaMw09HJYE",
     "type":"CODE",
     "hide_input_from_viewers":false,
     "hide_output_from_viewers":false,
     "report_properties":{
      
     }
    }
   }
  },
  {
   "cell_type":"code",
   "source":[
    "# TODO: Test here the method to solve the search problem\n",
    "#Para comprobar si el valor está dentro o fuera de caché hay que descomentar los prints del método search\n",
    "#cvrp.search(3,0)"
   ],
   "execution_count":43,
   "outputs":[
    
   ],
   "metadata":{
    "datalore":{
     "node_id":"DBniyKLSb6eBHrDuRwsqyV",
     "type":"CODE",
     "hide_input_from_viewers":false,
     "hide_output_from_viewers":false,
     "report_properties":{
      
     }
    }
   }
  },
  {
   "cell_type":"code",
   "source":[
    "# TODO: Test here the method to solve the capacited vehicle routing problem\n",
    "# Para ejecutar esta tercera celda primero hay que ejecutar primero la primera (2 arriba) cada vez\n",
    "#sol = cvrp()\n",
    "#print(\"Solución Final:\")\n",
    "#for i in sol:\n",
    "#    print(i)"
   ],
   "execution_count":44,
   "outputs":[
    
   ],
   "metadata":{
    "datalore":{
     "node_id":"cy404oaoVQkMmldm92K5Sd",
     "type":"CODE",
     "hide_input_from_viewers":false,
     "hide_output_from_viewers":false,
     "report_properties":{
      
     }
    }
   }
  },
  {
   "cell_type":"markdown",
   "source":[
    "### 4.3. Estudio y mejora de los algoritmos\n",
    "\n",
    "Una vez que los algoritmos han sido implementados, se debe **estudiar** su **rendimiento**. Para ello, se debe comparar la **calidad** de las **soluciones obtenidas**, así como las **diferentes estadísticas** que se consideren adecuadas (número de generaciones, tiempo de ejecución, etc.). Factores como el tamaño máximo del problema que se soporta sin un error de memoria, así como el efecto temporal de usar escenarios más complejos son otros factores a tener en cuenta. Además, se **pueden proponer** y se valorarán la incorporación de **técnicas** que **permitan acelerar** la **ejecución** de los **algoritmos**.\n",
    "\n",
    "---"
   ],
   "attachments":{
    
   },
   "metadata":{
    "datalore":{
     "node_id":"FzMRpxidPP2TpHDaxpFsp1",
     "type":"MD",
     "hide_input_from_viewers":false,
     "hide_output_from_viewers":false,
     "report_properties":{
      
     }
    }
   }
  },
  {
   "cell_type":"code",
   "source":[
    "#Celda de Ejecución utilizada para el apartado de Evaluación de la Memoria\n",
    "PopSize = 50\n",
    "NumGens = 100\n",
    "SelectionType = \"fitness\"\n",
    "CrossType = \"2PCX\"\n",
    "CrossProb = 0.8\n",
    "MutType = \"insertion\" #También puede tomar valor \"insertion\"\n",
    "MutProb = 0.8\n",
    "Elitism = 5\n",
    "Seed = 1\n",
    "\n",
    "\n",
    "\n",
    "#Pasamos por parámetro el JSON empleado en CVRP\n",
    "print(\"example------------------\")\n",
    "genetico = Genetic(PopSize, NumGens, SelectionType, CrossType, CrossProb, MutType, MutProb, Elitism, Seed)\n",
    "cvrp = CVRP(\"\/data\/notebook_files\/example.json\",genetico)\n",
    "sol1 = cvrp()\n",
    "print(\"small--------------------\")\n",
    "genetico = Genetic(PopSize, NumGens, SelectionType, CrossType, CrossProb, MutType, MutProb, Elitism, Seed)\n",
    "cvrp = CVRP(\"\/data\/notebook_files\/small.json\",genetico)\n",
    "sol2 = cvrp()\n",
    "print(\"medium-------------------\")\n",
    "genetico = Genetic(PopSize, NumGens, SelectionType, CrossType, CrossProb, MutType, MutProb, Elitism, Seed)\n",
    "cvrp = CVRP(\"\/data\/notebook_files\/medium.json\",genetico)\n",
    "sol3 = cvrp()\n",
    "print(\"large--------------------\")\n",
    "genetico = Genetic(PopSize, NumGens, SelectionType, CrossType, CrossProb, MutType, MutProb, Elitism, Seed)\n",
    "cvrp = CVRP(\"\/data\/notebook_files\/large.json\",genetico)\n",
    "sol4 = cvrp()\n",
    "print(\"parcels3----------------\")\n",
    "genetico = Genetic(PopSize, NumGens, SelectionType, CrossType, CrossProb, MutType, MutProb, Elitism, Seed)\n",
    "cvrp = CVRP(\"\/data\/notebook_files\/parcels3.json\",genetico)\n",
    "sol5 = cvrp()"
   ],
   "execution_count":45,
   "outputs":[
    
   ],
   "metadata":{
    "datalore":{
     "node_id":"tGCmcJOpkr6YGR7MS0JlsR",
     "type":"CODE",
     "hide_input_from_viewers":true,
     "hide_output_from_viewers":true
    }
   }
  },
  {
   "cell_type":"code",
   "source":[
    "# TODO: Experiment here with the small problem\n",
    "#Abrimos el fichero json con el que trabajaremos\n",
    "# Para ver que está ocurriendo en cada generación hay que desmarcar todos los comentarios ###, se pueden encontrar\n",
    "# facilmente con ctrl+f y buscando '###'\n",
    "# PopSize = 50\n",
    "# NumGens = 100\n",
    "# SelectionType = \"fitness\"\n",
    "# CrossType = \"2PCX\"\n",
    "# CrossProb = 0.9\n",
    "# MutType = \"swapping\" #También puede tomar valor \"insertion\"\n",
    "# MutProb = 0.1\n",
    "# Elitism = False\n",
    "# Seed = 12345\n",
    "\n",
    "# genetico = Genetic(PopSize, NumGens, SelectionType, CrossType, CrossProb, MutType, MutProb, Elitism, Seed)\n",
    "\n",
    "# #Pasamos por parámetro el JSON empleado en CVRP\n",
    "# cvrp = CVRP(\"\/data\/notebook_files\/small.json\",genetico)\n",
    "# sol = cvrp()\n",
    "# print(\"Solución Final:\")\n",
    "# for i in sol:\n",
    "#     print(i)\n",
    "    "
   ],
   "execution_count":46,
   "outputs":[
    
   ],
   "metadata":{
    "datalore":{
     "node_id":"2VfPCt6k4D9scIvVlHIlAy",
     "type":"CODE",
     "hide_input_from_viewers":false,
     "hide_output_from_viewers":false,
     "report_properties":{
      
     }
    }
   }
  },
  {
   "cell_type":"code",
   "source":[
    "# TODO: Experiment here with the medium problem\n",
    "#Abrimos el fichero json con el que trabajaremos\n",
    "# Para ver que está ocurriendo en cada generación hay que desmarcar todos los comentarios ###, se pueden encontrar\n",
    "# facilmente con ctrl+f y buscando '###'\n",
    "# PopSize = 50\n",
    "# NumGens = 100\n",
    "# SelectionType = \"fitness\"\n",
    "# CrossType = \"2PCX\"\n",
    "# CrossProb = 0.9\n",
    "# MutType = \"swapping\" #También puede tomar valor \"insertion\"\n",
    "# MutProb = 0.1\n",
    "# Elitism = False\n",
    "# Seed = 123\n",
    "\n",
    "# genetico = Genetic(PopSize, NumGens, SelectionType, CrossType, CrossProb, MutType, MutProb, Elitism, Seed)\n",
    "\n",
    "# #Pasamos por parámetro el JSON empleado en CVRP\n",
    "# cvrp = CVRP(\"\/data\/notebook_files\/medium.json\",genetico)\n",
    "# sol = cvrp()\n",
    "# print(\"Solución Final:\")\n",
    "# for i in sol:\n",
    "#     print(i)"
   ],
   "execution_count":47,
   "outputs":[
    
   ],
   "metadata":{
    "datalore":{
     "node_id":"vbIvLP0J25a0mC8t9d9SSk",
     "type":"CODE",
     "hide_input_from_viewers":false,
     "hide_output_from_viewers":false,
     "report_properties":{
      
     }
    }
   }
  },
  {
   "cell_type":"code",
   "source":[
    "# TODO: Experiment here with the large problem\n",
    "#Abrimos el fichero json con el que trabajaremos\n",
    "# Para ver que está ocurriendo en cada generación hay que desmarcar todos los comentarios ###, se pueden encontrar\n",
    "# facilmente con ctrl+f y buscando '###'\n",
    "# PopSize = 50\n",
    "# NumGens = 100\n",
    "# SelectionType = \"fitness\"\n",
    "# CrossType = \"2PCX\"\n",
    "# CrossProb = 0.9\n",
    "# MutType = \"swapping\" #También puede tomar valor \"insertion\"\n",
    "# MutProb = 0.1\n",
    "# Elitism = False\n",
    "# Seed = 1234\n",
    "\n",
    "# genetico = Genetic(PopSize, NumGens, SelectionType, CrossType, CrossProb, MutType, MutProb, Elitism, Seed)\n",
    "\n",
    "# #Pasamos por parámetro el JSON empleado en CVRP\n",
    "# cvrp = CVRP(\"\/data\/notebook_files\/large.json\",genetico)\n",
    "# sol = cvrp()\n",
    "# print(\"Solución Final:\")\n",
    "# for i in sol:\n",
    "#     print(i)"
   ],
   "execution_count":48,
   "outputs":[
    
   ],
   "metadata":{
    "datalore":{
     "node_id":"4OvQrZI7jUXlqorMzjpEK8",
     "type":"CODE",
     "hide_input_from_viewers":false,
     "hide_output_from_viewers":false,
     "report_properties":{
      
     }
    }
   }
  },
  {
   "cell_type":"code",
   "source":[
    "# TODO: Experiment here with the any problem\n",
    "#Abrimos el fichero json con el que trabajaremos\n",
    "# Para ver que está ocurriendo en cada generación hay que desmarcar todos los comentarios ###, se pueden encontrar\n",
    "# facilmente con ctrl+f y buscando '###'\n",
    "# PopSize = 50\n",
    "# NumGens = 100\n",
    "# SelectionType = \"fitness\"\n",
    "# CrossType = \"2PCX\"\n",
    "# CrossProb = 0.9\n",
    "# MutType = \"swapping\" #También puede tomar valor \"insertion\"\n",
    "# MutProb = 0.1\n",
    "# Elitism = False\n",
    "# Seed = 123\n",
    "\n",
    "# genetico = Genetic(PopSize, NumGens, SelectionType, CrossType, CrossProb, MutType, MutProb, Elitism, Seed)\n",
    "\n",
    "# #Pasamos por parámetro el JSON empleado en CVRP\n",
    "# cvrp = CVRP(\"\/data\/notebook_files\/parcels3.json\",genetico)\n",
    "# sol = cvrp()\n",
    "# print(\"Solución Final:\")\n",
    "# for i in sol:\n",
    "#     print(i)"
   ],
   "execution_count":49,
   "outputs":[
    {
     "name":"stdout",
     "text":[
      "Puntuación media: 210108.7518\n",
      "La puntuación del mejor individuo es: 195367.13\n",
      "Tiempo de ejecución: 55626.9857 milisegundos\n",
      "Usos de Caché: 840758\n",
      "Usos de AStar: 554\n",
      "Solución Final:\n",
      "[7, 72, 52, 71, 58, 57, 77, 61, 78, 76, 39, 8, 37, 49, 48, 2, 62, 28, 69, 70, 64, 16, 15, 34, 68, 24, 32, 55, 63, 12, 36, 53, 19, 45, 66, 33, 20, 59, 3, 0, 67, 74, 5, 79, 47, 60, 11, 65, 42, 18, 40, 41, 29, 23, 51, 35, 38, 13, 22, 1, 4, 75, 54, 73, 10, 31, 14, 27, 56, 43, 44, 26, 50, 21, 46, 30, 6, 9, 25, 17]\n",
      "[7, 57, 77, 58, 72, 61, 52, 78, 11, 36, 39, 71, 8, 37, 49, 76, 48, 2, 34, 62, 28, 69, 70, 32, 24, 64, 16, 15, 41, 68, 0, 53, 79, 12, 63, 19, 33, 45, 5, 20, 51, 67, 47, 3, 66, 74, 65, 40, 42, 23, 60, 13, 29, 18, 55, 59, 35, 38, 27, 22, 1, 4, 75, 54, 31, 73, 46, 44, 6, 43, 26, 50, 10, 14, 56, 21, 30, 9, 25, 17]\n",
      "[7, 57, 77, 58, 72, 61, 52, 78, 11, 36, 39, 71, 8, 37, 49, 48, 2, 34, 62, 28, 69, 70, 68, 76, 64, 15, 0, 12, 16, 53, 20, 41, 32, 79, 24, 63, 19, 33, 45, 5, 51, 67, 47, 3, 66, 74, 65, 40, 42, 23, 60, 13, 29, 18, 55, 59, 35, 38, 27, 22, 1, 4, 75, 54, 31, 73, 46, 44, 6, 43, 26, 50, 10, 14, 56, 21, 30, 9, 25, 17]\n",
      "[7, 57, 77, 58, 72, 52, 71, 61, 39, 78, 8, 37, 49, 48, 2, 62, 28, 68, 64, 0, 15, 69, 70, 12, 34, 24, 16, 53, 32, 76, 63, 19, 33, 45, 5, 66, 36, 79, 67, 40, 20, 74, 65, 11, 47, 3, 41, 29, 42, 23, 60, 51, 13, 18, 55, 59, 35, 38, 27, 22, 1, 4, 75, 54, 31, 73, 46, 44, 6, 43, 26, 50, 10, 14, 56, 21, 30, 9, 25, 17]\n",
      "[7, 57, 77, 58, 72, 61, 52, 78, 11, 36, 39, 71, 8, 37, 49, 48, 2, 34, 62, 28, 69, 70, 68, 76, 64, 15, 0, 12, 16, 53, 55, 24, 32, 63, 33, 19, 79, 41, 45, 5, 20, 51, 67, 47, 3, 66, 74, 65, 40, 42, 23, 60, 13, 59, 35, 29, 38, 18, 27, 22, 1, 4, 75, 54, 31, 73, 46, 44, 6, 43, 26, 50, 10, 14, 56, 21, 30, 9, 25, 17]\n",
      "[7, 72, 52, 57, 58, 61, 77, 78, 76, 8, 39, 37, 71, 49, 48, 36, 2, 34, 62, 28, 69, 70, 68, 64, 15, 0, 12, 16, 53, 20, 41, 32, 79, 24, 63, 19, 33, 45, 5, 51, 67, 47, 3, 66, 74, 65, 40, 42, 23, 60, 13, 35, 11, 29, 4, 22, 75, 1, 54, 73, 10, 18, 38, 55, 59, 31, 14, 27, 56, 43, 44, 26, 50, 21, 46, 30, 6, 9, 25, 17]\n",
      "[7, 72, 52, 57, 58, 61, 77, 78, 76, 8, 39, 37, 71, 49, 48, 36, 2, 34, 62, 28, 69, 70, 31, 68, 64, 0, 15, 16, 32, 79, 12, 24, 53, 55, 63, 33, 67, 20, 19, 45, 5, 66, 59, 74, 3, 40, 65, 11, 47, 41, 29, 42, 23, 60, 51, 13, 18, 35, 38, 27, 22, 1, 4, 75, 54, 73, 44, 43, 10, 14, 26, 56, 50, 21, 46, 30, 6, 9, 25, 17]\n",
      "[7, 77, 57, 72, 52, 58, 76, 39, 61, 78, 8, 37, 36, 71, 49, 48, 2, 34, 62, 28, 69, 70, 32, 24, 64, 0, 15, 16, 12, 68, 55, 31, 19, 63, 53, 33, 67, 45, 5, 20, 3, 66, 59, 47, 74, 65, 11, 40, 41, 35, 42, 29, 23, 60, 79, 51, 13, 18, 38, 27, 22, 1, 4, 75, 54, 73, 46, 43, 10, 44, 26, 50, 6, 14, 56, 21, 30, 25, 17, 9]\n",
      "[31, 77, 61, 19, 58, 52, 78, 71, 72, 8, 76, 39, 34, 37, 49, 48, 2, 62, 28, 69, 70, 7, 57, 36, 68, 24, 64, 1, 15, 0, 12, 32, 63, 53, 33, 67, 45, 5, 20, 3, 66, 59, 47, 11, 16, 79, 74, 40, 65, 41, 42, 23, 60, 13, 51, 22, 29, 18, 35, 38, 27, 4, 75, 54, 73, 46, 44, 43, 10, 14, 26, 50, 21, 55, 56, 30, 6, 25, 17, 9]\n",
      "[7, 72, 52, 57, 58, 61, 77, 78, 76, 8, 39, 37, 71, 36, 34, 49, 48, 62, 28, 69, 70, 64, 15, 68, 16, 2, 32, 63, 24, 0, 33, 12, 53, 19, 55, 45, 5, 66, 67, 20, 59, 47, 74, 65, 11, 40, 79, 41, 29, 3, 18, 42, 23, 60, 51, 35, 38, 13, 22, 1, 4, 75, 54, 73, 10, 31, 14, 27, 56, 43, 44, 26, 50, 21, 46, 30, 6, 9, 25, 17]\n",
      "[7, 57, 31, 77, 61, 19, 58, 52, 78, 71, 72, 8, 76, 39, 36, 68, 34, 49, 37, 48, 2, 24, 28, 64, 0, 15, 69, 16, 70, 12, 32, 63, 62, 53, 33, 67, 45, 5, 20, 65, 59, 47, 3, 66, 74, 11, 40, 41, 35, 42, 29, 23, 60, 79, 51, 13, 18, 38, 27, 22, 1, 4, 75, 54, 73, 43, 10, 14, 55, 56, 44, 26, 50, 21, 46, 6, 30, 25, 9, 17]\n",
      "[71, 58, 7, 72, 52, 77, 57, 76, 61, 78, 8, 39, 34, 37, 49, 48, 2, 62, 28, 69, 70, 64, 15, 68, 36, 24, 16, 12, 32, 55, 63, 33, 0, 67, 31, 79, 53, 19, 45, 5, 20, 51, 59, 47, 3, 66, 74, 65, 40, 41, 42, 23, 60, 13, 35, 11, 29, 4, 22, 75, 1, 54, 73, 10, 38, 27, 43, 44, 26, 50, 46, 6, 14, 21, 56, 30, 18, 9, 25, 17]\n",
      "[7, 61, 57, 36, 78, 72, 58, 77, 76, 52, 39, 8, 31, 68, 34, 37, 49, 71, 48, 2, 62, 28, 64, 0, 15, 69, 16, 70, 12, 32, 63, 24, 53, 33, 67, 46, 19, 45, 5, 20, 79, 3, 66, 59, 47, 74, 65, 11, 40, 41, 29, 42, 23, 60, 35, 51, 13, 4, 22, 75, 1, 54, 73, 10, 14, 18, 43, 38, 27, 44, 26, 50, 21, 55, 56, 30, 6, 25, 17, 9]\n",
      "[31, 77, 61, 57, 58, 52, 78, 8, 76, 72, 36, 39, 68, 34, 71, 49, 37, 48, 2, 62, 28, 64, 0, 15, 69, 70, 24, 16, 7, 11, 12, 53, 20, 41, 32, 79, 63, 19, 33, 45, 5, 51, 67, 47, 3, 66, 74, 65, 40, 42, 23, 60, 13, 29, 18, 59, 1, 22, 35, 38, 27, 4, 75, 54, 73, 46, 43, 10, 14, 44, 26, 50, 21, 55, 56, 30, 6, 25, 17, 9]\n",
      "[7, 61, 57, 72, 77, 52, 58, 78, 36, 76, 39, 8, 34, 37, 71, 49, 48, 62, 28, 69, 70, 64, 15, 68, 0, 16, 2, 12, 24, 53, 79, 20, 32, 55, 63, 33, 67, 45, 19, 66, 59, 74, 5, 3, 40, 65, 11, 47, 41, 42, 35, 43, 18, 23, 60, 51, 13, 4, 22, 29, 1, 75, 38, 27, 54, 31, 73, 46, 44, 26, 50, 10, 14, 56, 21, 30, 25, 6, 17, 9]\n",
      "[71, 58, 7, 57, 77, 72, 61, 52, 78, 8, 76, 36, 39, 68, 34, 49, 37, 48, 2, 62, 28, 64, 0, 15, 69, 70, 24, 16, 12, 53, 32, 63, 19, 33, 20, 5, 45, 66, 59, 79, 55, 47, 3, 67, 74, 11, 60, 65, 42, 40, 41, 29, 23, 51, 35, 27, 38, 13, 22, 1, 4, 75, 54, 31, 73, 46, 44, 10, 26, 50, 56, 14, 21, 6, 43, 30, 18, 9, 25, 17]\n",
      "[71, 58, 7, 57, 77, 72, 61, 52, 78, 8, 76, 36, 39, 68, 34, 49, 37, 48, 2, 62, 28, 64, 0, 15, 69, 70, 24, 16, 12, 53, 32, 63, 19, 33, 20, 5, 45, 66, 59, 79, 55, 47, 3, 67, 74, 11, 60, 65, 42, 40, 41, 29, 23, 51, 35, 27, 38, 13, 22, 1, 4, 75, 54, 31, 73, 46, 44, 10, 26, 50, 56, 14, 21, 6, 43, 30, 18, 9, 25, 17]\n",
      "[7, 72, 52, 57, 58, 61, 77, 78, 8, 76, 36, 39, 68, 34, 71, 49, 37, 48, 2, 62, 28, 70, 64, 16, 15, 0, 69, 12, 53, 32, 24, 55, 63, 19, 33, 45, 5, 66, 79, 59, 67, 40, 20, 74, 65, 11, 47, 3, 41, 18, 42, 60, 29, 23, 51, 35, 38, 13, 22, 1, 4, 75, 54, 73, 10, 31, 14, 27, 56, 43, 44, 26, 50, 21, 46, 30, 6, 9, 25, 17]\n",
      "[7, 57, 77, 58, 72, 61, 52, 78, 11, 36, 39, 71, 8, 37, 49, 48, 2, 34, 62, 28, 69, 70, 68, 76, 64, 15, 0, 12, 16, 53, 20, 41, 32, 79, 24, 63, 19, 33, 45, 5, 67, 47, 3, 66, 74, 65, 40, 42, 29, 18, 55, 59, 43, 23, 60, 51, 35, 38, 13, 22, 4, 1, 75, 54, 73, 27, 10, 14, 31, 44, 26, 46, 6, 50, 25, 56, 21, 30, 17, 9]\n",
      "[7, 57, 77, 72, 52, 58, 76, 39, 61, 78, 8, 37, 36, 71, 49, 48, 2, 34, 62, 28, 69, 70, 32, 24, 64, 16, 15, 0, 12, 68, 55, 63, 19, 33, 53, 45, 66, 20, 67, 5, 79, 59, 47, 74, 3, 40, 65, 11, 41, 42, 23, 60, 29, 35, 18, 51, 13, 22, 1, 38, 27, 4, 75, 54, 31, 73, 46, 44, 6, 43, 26, 50, 10, 14, 56, 21, 30, 25, 17, 9]\n",
      "[31, 77, 61, 57, 58, 52, 78, 8, 76, 72, 36, 39, 7, 71, 62, 37, 49, 48, 2, 28, 69, 68, 70, 16, 15, 0, 12, 53, 79, 32, 34, 41, 64, 24, 63, 19, 33, 45, 5, 20, 51, 67, 47, 3, 66, 74, 65, 40, 42, 23, 60, 13, 35, 11, 29, 46, 4, 22, 75, 1, 54, 73, 10, 18, 43, 38, 27, 44, 26, 55, 50, 14, 56, 21, 59, 30, 6, 25, 17, 9]\n",
      "[7, 61, 57, 36, 78, 72, 58, 77, 76, 52, 39, 8, 31, 68, 34, 71, 49, 37, 48, 2, 62, 28, 64, 0, 15, 69, 16, 70, 12, 32, 63, 24, 53, 33, 67, 46, 19, 45, 5, 43, 79, 41, 65, 47, 3, 66, 40, 74, 11, 29, 42, 23, 60, 51, 35, 13, 4, 22, 75, 1, 54, 73, 10, 14, 18, 20, 38, 27, 44, 26, 50, 21, 55, 56, 25, 30, 6, 59, 17, 9]\n",
      "[7, 72, 31, 77, 61, 19, 58, 52, 78, 71, 8, 76, 39, 34, 37, 57, 36, 49, 48, 2, 62, 28, 69, 70, 68, 24, 64, 16, 15, 0, 12, 53, 20, 32, 63, 33, 5, 45, 66, 59, 3, 67, 47, 65, 40, 74, 11, 41, 42, 35, 29, 23, 60, 79, 51, 13, 4, 22, 1, 38, 27, 55, 75, 54, 73, 44, 43, 26, 10, 14, 56, 18, 50, 21, 46, 30, 6, 9, 25, 17]\n",
      "[71, 58, 7, 57, 77, 72, 52, 61, 78, 76, 8, 39, 37, 49, 48, 36, 2, 34, 62, 28, 69, 70, 31, 68, 64, 0, 15, 16, 32, 79, 12, 24, 53, 55, 63, 33, 67, 20, 19, 45, 5, 66, 59, 74, 3, 40, 65, 11, 47, 41, 29, 42, 23, 60, 51, 35, 27, 38, 13, 22, 1, 4, 75, 54, 73, 44, 26, 10, 14, 56, 50, 21, 46, 6, 43, 30, 18, 9, 25, 17]\n",
      "[7, 61, 57, 36, 78, 72, 58, 77, 76, 52, 39, 8, 34, 37, 71, 49, 48, 62, 28, 69, 70, 41, 64, 15, 68, 0, 53, 31, 2, 16, 32, 79, 12, 24, 63, 19, 33, 45, 5, 20, 51, 67, 47, 3, 66, 74, 65, 40, 42, 23, 60, 13, 35, 11, 29, 46, 4, 22, 75, 1, 54, 73, 10, 18, 43, 38, 27, 44, 26, 55, 25, 50, 14, 56, 21, 30, 6, 59, 17, 9]\n",
      "[31, 77, 61, 19, 58, 52, 78, 71, 72, 8, 76, 39, 57, 36, 68, 34, 49, 37, 48, 2, 24, 28, 7, 62, 69, 70, 64, 16, 15, 0, 12, 53, 79, 20, 32, 55, 63, 33, 67, 45, 66, 59, 74, 5, 3, 40, 65, 11, 47, 41, 42, 35, 43, 18, 23, 60, 51, 13, 4, 22, 29, 1, 75, 38, 27, 54, 73, 10, 14, 56, 44, 26, 50, 21, 46, 6, 30, 25, 17, 9]\n",
      "[31, 77, 72, 52, 57, 58, 61, 78, 76, 8, 39, 37, 71, 49, 48, 36, 2, 34, 62, 28, 69, 70, 68, 64, 0, 15, 16, 32, 79, 12, 24, 53, 63, 33, 67, 20, 19, 45, 5, 66, 59, 74, 3, 40, 65, 11, 47, 41, 29, 42, 23, 60, 51, 35, 13, 22, 1, 4, 75, 54, 73, 46, 10, 14, 18, 43, 38, 27, 7, 44, 26, 50, 21, 55, 56, 30, 6, 25, 17, 9]\n",
      "[7, 57, 77, 71, 58, 72, 52, 76, 62, 78, 39, 8, 37, 49, 48, 2, 61, 36, 34, 28, 69, 70, 68, 64, 0, 15, 16, 12, 24, 32, 63, 53, 33, 67, 19, 45, 5, 20, 3, 66, 59, 47, 74, 65, 11, 40, 41, 35, 42, 29, 23, 60, 79, 51, 13, 18, 38, 27, 55, 22, 1, 4, 75, 54, 31, 73, 46, 44, 43, 26, 50, 10, 14, 56, 6, 21, 30, 25, 9, 17]\n",
      "[7, 57, 77, 71, 58, 72, 52, 76, 62, 78, 39, 8, 37, 49, 48, 2, 61, 28, 69, 68, 70, 64, 31, 19, 36, 34, 24, 0, 15, 16, 12, 32, 63, 53, 33, 67, 45, 5, 20, 65, 59, 47, 3, 66, 74, 11, 40, 41, 35, 42, 29, 23, 60, 79, 51, 13, 18, 38, 27, 22, 1, 4, 75, 54, 73, 46, 43, 10, 14, 44, 26, 50, 21, 55, 56, 30, 6, 25, 9, 17]\n",
      "[7, 61, 57, 36, 78, 72, 58, 77, 76, 52, 8, 39, 37, 71, 49, 48, 2, 34, 62, 28, 69, 70, 32, 24, 64, 16, 15, 0, 12, 68, 53, 63, 33, 19, 5, 79, 45, 66, 67, 40, 3, 20, 74, 11, 65, 47, 41, 51, 42, 29, 23, 60, 13, 35, 22, 4, 31, 46, 75, 1, 54, 73, 10, 18, 43, 38, 27, 44, 26, 55, 25, 50, 14, 56, 21, 30, 6, 59, 17, 9]\n",
      "[7, 72, 52, 57, 58, 61, 77, 78, 76, 8, 39, 37, 71, 49, 48, 36, 62, 2, 28, 69, 68, 70, 64, 16, 15, 0, 34, 56, 31, 79, 12, 24, 53, 55, 63, 33, 67, 20, 19, 45, 5, 66, 59, 74, 3, 40, 65, 11, 47, 41, 29, 42, 23, 60, 51, 35, 27, 38, 13, 22, 1, 4, 75, 54, 73, 44, 43, 26, 10, 14, 32, 18, 50, 21, 46, 30, 6, 9, 25, 17]\n",
      "[31, 77, 61, 57, 58, 52, 78, 8, 76, 72, 36, 39, 68, 34, 71, 49, 37, 48, 2, 24, 28, 64, 0, 15, 69, 16, 70, 12, 32, 63, 62, 53, 33, 67, 7, 46, 19, 45, 5, 20, 79, 41, 65, 47, 3, 66, 40, 74, 11, 29, 42, 23, 60, 35, 51, 13, 4, 22, 75, 1, 54, 73, 10, 14, 18, 43, 38, 27, 44, 26, 50, 21, 55, 56, 25, 30, 6, 59, 17, 9]\n",
      "[7, 72, 52, 57, 58, 61, 71, 77, 78, 8, 76, 36, 39, 68, 34, 49, 37, 48, 2, 62, 28, 64, 0, 15, 69, 70, 24, 16, 12, 53, 32, 63, 19, 33, 20, 5, 45, 66, 59, 79, 55, 47, 3, 67, 74, 11, 60, 65, 42, 40, 41, 29, 23, 51, 35, 27, 38, 13, 22, 1, 4, 75, 54, 31, 73, 44, 10, 26, 50, 56, 14, 21, 43, 18, 46, 30, 6, 9, 25, 17]\n",
      "[7, 72, 52, 57, 58, 61, 77, 78, 76, 8, 39, 37, 71, 49, 48, 36, 2, 34, 62, 28, 69, 70, 31, 68, 64, 0, 15, 16, 32, 79, 12, 24, 53, 55, 63, 33, 67, 20, 19, 45, 5, 66, 59, 74, 3, 40, 65, 11, 47, 41, 29, 42, 23, 60, 35, 51, 27, 38, 13, 22, 1, 4, 75, 54, 73, 44, 43, 26, 10, 14, 56, 18, 50, 21, 46, 30, 6, 9, 25, 17]\n",
      "[31, 77, 61, 19, 58, 52, 78, 71, 72, 8, 76, 39, 34, 37, 57, 36, 49, 48, 2, 62, 28, 69, 70, 68, 24, 64, 16, 15, 0, 12, 53, 20, 32, 63, 33, 5, 45, 66, 59, 3, 67, 47, 65, 40, 74, 11, 41, 42, 35, 46, 29, 23, 60, 79, 51, 13, 4, 22, 75, 1, 54, 73, 10, 18, 43, 14, 38, 27, 7, 44, 26, 50, 21, 55, 56, 30, 6, 25, 17, 9]\n",
      "[7, 57, 77, 71, 58, 72, 52, 76, 62, 78, 39, 8, 37, 49, 48, 61, 34, 2, 28, 69, 70, 64, 15, 68, 36, 66, 53, 24, 16, 12, 45, 32, 55, 63, 19, 33, 0, 5, 79, 67, 20, 3, 59, 47, 74, 65, 11, 40, 41, 42, 23, 60, 51, 13, 18, 29, 35, 22, 4, 43, 1, 75, 38, 27, 54, 73, 10, 31, 14, 56, 44, 26, 50, 21, 46, 6, 30, 25, 9, 17]\n",
      "[7, 72, 52, 57, 58, 61, 77, 78, 76, 8, 36, 39, 34, 37, 71, 49, 48, 41, 62, 28, 56, 70, 64, 15, 68, 0, 53, 2, 16, 32, 79, 12, 24, 63, 19, 33, 45, 5, 20, 51, 67, 47, 3, 66, 74, 65, 40, 42, 23, 60, 13, 35, 11, 29, 38, 55, 59, 9, 22, 1, 4, 75, 54, 73, 43, 27, 31, 46, 44, 26, 50, 10, 14, 69, 21, 30, 6, 18, 25, 17]\n",
      "[7, 61, 57, 35, 58, 78, 77, 36, 76, 39, 71, 8, 37, 49, 19, 52, 34, 48, 55, 2, 62, 28, 69, 70, 64, 16, 15, 68, 0, 24, 32, 63, 33, 12, 53, 79, 41, 45, 10, 20, 67, 47, 3, 66, 74, 65, 59, 11, 40, 42, 29, 23, 18, 43, 60, 51, 72, 13, 22, 1, 4, 75, 54, 73, 5, 38, 31, 27, 46, 44, 26, 50, 56, 14, 21, 30, 6, 25, 17, 9]\n",
      "[31, 77, 7, 61, 57, 36, 78, 72, 58, 76, 52, 39, 8, 34, 37, 71, 49, 48, 62, 28, 69, 70, 41, 64, 15, 68, 0, 53, 2, 16, 32, 79, 12, 24, 63, 19, 33, 45, 5, 20, 51, 67, 47, 3, 66, 74, 65, 40, 42, 23, 60, 13, 35, 11, 29, 46, 4, 22, 75, 1, 54, 73, 18, 38, 27, 44, 59, 43, 26, 50, 10, 14, 21, 55, 56, 30, 6, 25, 17, 9]\n",
      "[7, 61, 57, 36, 78, 72, 58, 77, 76, 52, 39, 8, 71, 62, 37, 49, 48, 2, 28, 69, 68, 70, 16, 15, 0, 12, 53, 79, 32, 34, 41, 64, 31, 24, 63, 33, 19, 5, 45, 20, 3, 66, 67, 47, 65, 40, 74, 11, 42, 23, 60, 13, 51, 35, 29, 46, 4, 22, 75, 1, 54, 73, 10, 18, 43, 38, 27, 44, 26, 55, 25, 50, 14, 56, 21, 30, 6, 59, 17, 9]\n",
      "[7, 61, 57, 36, 78, 72, 58, 77, 76, 52, 39, 8, 71, 62, 37, 49, 48, 2, 28, 69, 68, 70, 16, 15, 0, 12, 53, 79, 32, 34, 41, 64, 31, 24, 63, 33, 19, 5, 45, 20, 3, 66, 67, 47, 65, 40, 74, 11, 42, 23, 60, 13, 51, 35, 29, 46, 4, 22, 75, 1, 54, 73, 10, 18, 43, 38, 27, 44, 26, 55, 25, 50, 14, 56, 21, 30, 6, 59, 17, 9]\n",
      "[7, 57, 77, 72, 52, 58, 76, 39, 61, 78, 8, 37, 36, 71, 49, 48, 2, 34, 62, 28, 69, 70, 32, 24, 64, 16, 15, 0, 12, 68, 55, 63, 19, 33, 53, 45, 66, 5, 79, 67, 20, 3, 59, 47, 74, 65, 11, 40, 41, 35, 42, 29, 23, 60, 18, 51, 13, 22, 1, 38, 27, 4, 75, 54, 31, 73, 46, 44, 6, 43, 26, 50, 10, 14, 56, 21, 30, 25, 17, 9]\n",
      "[7, 57, 77, 58, 72, 52, 61, 36, 78, 76, 39, 8, 34, 37, 71, 49, 48, 2, 62, 28, 69, 70, 32, 24, 64, 16, 15, 0, 68, 12, 55, 63, 19, 33, 53, 5, 79, 20, 45, 3, 67, 41, 65, 59, 47, 66, 40, 74, 11, 18, 42, 60, 29, 23, 51, 35, 38, 13, 22, 1, 4, 75, 27, 43, 6, 54, 31, 73, 46, 44, 26, 10, 14, 50, 25, 56, 21, 30, 17, 9]\n",
      "[31, 77, 7, 57, 71, 58, 72, 52, 76, 62, 78, 39, 8, 37, 49, 48, 61, 34, 2, 28, 69, 70, 64, 15, 68, 36, 66, 53, 24, 16, 12, 45, 32, 63, 19, 33, 20, 0, 67, 5, 79, 59, 47, 51, 74, 3, 40, 65, 11, 41, 42, 23, 60, 13, 18, 29, 35, 22, 4, 43, 1, 75, 38, 27, 54, 73, 10, 14, 44, 46, 26, 50, 21, 55, 56, 30, 6, 25, 17, 9]\n",
      "[7, 57, 77, 71, 58, 72, 52, 76, 62, 78, 39, 8, 37, 49, 48, 2, 61, 28, 69, 68, 70, 64, 16, 15, 24, 0, 12, 36, 34, 32, 63, 53, 33, 67, 19, 45, 5, 20, 3, 66, 59, 47, 74, 65, 11, 40, 41, 35, 42, 79, 18, 60, 29, 23, 51, 13, 22, 1, 4, 75, 54, 73, 10, 31, 43, 46, 38, 27, 44, 26, 55, 50, 14, 56, 6, 21, 30, 25, 9, 17]\n",
      "[7, 61, 31, 77, 19, 58, 52, 78, 71, 72, 8, 76, 39, 34, 37, 49, 48, 2, 62, 51, 69, 70, 57, 36, 68, 24, 64, 16, 15, 0, 12, 32, 63, 33, 45, 66, 53, 79, 5, 67, 40, 3, 20, 74, 11, 65, 47, 18, 41, 28, 42, 29, 23, 60, 13, 27, 35, 38, 22, 1, 4, 75, 54, 73, 46, 43, 10, 44, 26, 55, 25, 50, 14, 56, 21, 30, 6, 59, 17, 9]\n",
      "[7, 61, 57, 36, 78, 72, 58, 77, 76, 52, 39, 8, 34, 37, 71, 49, 48, 41, 62, 28, 69, 70, 64, 15, 68, 0, 53, 2, 32, 24, 16, 12, 63, 19, 33, 5, 79, 20, 45, 3, 66, 67, 47, 74, 65, 11, 40, 18, 42, 35, 29, 23, 60, 51, 13, 38, 27, 55, 22, 1, 4, 75, 54, 31, 73, 46, 44, 43, 26, 50, 10, 25, 14, 56, 21, 30, 6, 59, 17, 9]\n",
      "[31, 77, 61, 57, 58, 52, 78, 8, 76, 72, 36, 39, 68, 34, 71, 49, 37, 48, 2, 62, 28, 64, 0, 15, 69, 70, 24, 16, 7, 11, 12, 53, 20, 41, 32, 79, 63, 19, 33, 45, 5, 51, 67, 47, 3, 66, 74, 65, 40, 42, 23, 60, 13, 29, 59, 35, 27, 38, 22, 1, 4, 75, 54, 73, 44, 43, 26, 10, 14, 18, 50, 46, 21, 55, 56, 30, 6, 25, 17, 9]\n",
      "[7, 77, 58, 72, 57, 52, 55, 39, 71, 61, 78, 76, 8, 37, 49, 48, 2, 62, 28, 69, 70, 64, 16, 15, 34, 68, 0, 24, 32, 63, 11, 36, 12, 53, 20, 41, 79, 19, 33, 45, 5, 51, 67, 47, 3, 66, 74, 65, 40, 42, 23, 60, 13, 59, 35, 22, 1, 4, 29, 54, 75, 73, 38, 56, 18, 27, 10, 14, 31, 44, 26, 50, 21, 46, 30, 25, 6, 9, 43, 17]\n",
      "[7, 77, 58, 72, 57, 52, 55, 39, 71, 61, 78, 76, 8, 37, 49, 48, 2, 62, 36, 19, 34, 28, 69, 70, 64, 15, 68, 53, 24, 16, 12, 32, 63, 33, 20, 0, 5, 41, 79, 67, 45, 3, 66, 47, 74, 65, 51, 40, 42, 23, 60, 13, 11, 22, 59, 35, 4, 1, 29, 54, 75, 73, 38, 56, 18, 27, 10, 14, 31, 44, 26, 50, 21, 46, 30, 25, 6, 9, 43, 17]\n"
     ],
     "output_type":"stream"
    }
   ],
   "metadata":{
    "datalore":{
     "node_id":"RGMwTO6hrUktZjC9qQqqj0",
     "type":"CODE",
     "hide_input_from_viewers":true,
     "hide_output_from_viewers":true,
     "report_properties":{
      
     }
    }
   }
  },
  {
   "cell_type":"markdown",
   "source":[
    "### 5. Entrega y evaluación\n",
    "\n",
    "Al igual que la práctica anterior, esta se debe **hacer en pares**. No obstante, en **casos excepcionales** se permite realizarla **individualmente**. **La fecha límite para subir la práctica es el 18 de diciembre de 2022 a las 23:55**. Las **entrevistas y evaluaciones** se realizarán la **semana siguiente**.\n",
    "\n",
    "Algunas consideraciones:\n",
    "\n",
    "* **En caso de que no se haya entregado la primera práctica, o se haya sacado menos de un cuatro, se podrán entregar conjuntamente en esta fecha. No obstante, se considerará únicamente un 90% de la nota global de prácticas**.\n",
    "* Está práctica supone el **70%** de la **nota** en este apartado.\n",
    "* La práctica se **evaluará** mediante una **entrevista individual** con el profesorado. Las fechas de las entrevistas se publicarán con antelación.\n",
    "*  Se proporcionará un **conjunto** de **casos** de **prueba preliminares** (varios mapas e instancias) que se **deben resolver correctamente**. En caso contrario, la práctica se considerará suspensa.\n",
    "* La **entrevista** consistirá en una serie de **preguntas** acerca del **código**.\n",
    "\n",
    "**Por último, para la evaluación no continua se requirirá la implementación del algoritmo de búsqueda por ascenso de colinas. Además, este se deberá utilizar para inicializar la población del algoritmo genético, en lugar de que sea aleatoria.**"
   ],
   "attachments":{
    
   },
   "metadata":{
    "datalore":{
     "node_id":"1gMr8LgttqSXYAOdmeHNSm",
     "type":"MD",
     "hide_input_from_viewers":false,
     "hide_output_from_viewers":false,
     "report_properties":{
      
     }
    }
   }
  }
 ],
 "metadata":{
  "kernelspec":{
   "display_name":"Python",
   "language":"python",
   "name":"python"
  },
  "datalore":{
   "version":1,
   "computation_mode":"JUPYTER",
   "package_manager":"pip",
   "base_environment":"default",
   "packages":[
    {
     "name":"pqueue",
     "version":"0.1.7",
     "source":"PIP"
    },
    {
     "name":"geopy",
     "version":"2.2.0",
     "source":"PIP"
    }
   ]
  }
 },
 "nbformat":4,
 "nbformat_minor":4
}